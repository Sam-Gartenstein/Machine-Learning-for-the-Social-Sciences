{
  "nbformat": 4,
  "nbformat_minor": 0,
  "metadata": {
    "colab": {
      "provenance": []
    },
    "kernelspec": {
      "name": "python3",
      "display_name": "Python 3"
    },
    "language_info": {
      "name": "python"
    }
  },
  "cells": [
    {
      "cell_type": "markdown",
      "source": [
        "# Samuel Gartenstein QMSS GR5073 Fall 2023 Midterm\n",
        "\n",
        "## NOTE: Please give the SVM models using GridSearchCV about 30 to 60 seconds to run!"
      ],
      "metadata": {
        "id": "a01sSgnsQbTf"
      }
    },
    {
      "cell_type": "markdown",
      "source": [
        "# Question 1\n",
        "\n",
        "Import the spam dataset and print the first six rows.  "
      ],
      "metadata": {
        "id": "QukafSWAMFpr"
      }
    },
    {
      "cell_type": "code",
      "execution_count": 40,
      "metadata": {
        "colab": {
          "base_uri": "https://localhost:8080/",
          "height": 284
        },
        "id": "c5SksqKiLeAV",
        "outputId": "e67df4c6-162f-4ac9-fce1-b8a01c3d35cd"
      },
      "outputs": [
        {
          "output_type": "execute_result",
          "data": {
            "text/plain": [
              "   word_freq_make:  word_freq_address:  word_freq_all:  word_freq_3d:  \\\n",
              "0             0.00                0.64            0.64            0.0   \n",
              "1             0.21                0.28            0.50            0.0   \n",
              "2             0.06                0.00            0.71            0.0   \n",
              "3             0.00                0.00            0.00            0.0   \n",
              "4             0.00                0.00            0.00            0.0   \n",
              "5             0.00                0.00            0.00            0.0   \n",
              "\n",
              "   word_freq_our:  word_freq_over:  word_freq_remove:  word_freq_internet:  \\\n",
              "0            0.32             0.00               0.00                 0.00   \n",
              "1            0.14             0.28               0.21                 0.07   \n",
              "2            1.23             0.19               0.19                 0.12   \n",
              "3            0.63             0.00               0.31                 0.63   \n",
              "4            0.63             0.00               0.31                 0.63   \n",
              "5            1.85             0.00               0.00                 1.85   \n",
              "\n",
              "   word_freq_order:  word_freq_mail:  ...  char_freq_;:  char_freq_(:  \\\n",
              "0              0.00             0.00  ...          0.00         0.000   \n",
              "1              0.00             0.94  ...          0.00         0.132   \n",
              "2              0.64             0.25  ...          0.01         0.143   \n",
              "3              0.31             0.63  ...          0.00         0.137   \n",
              "4              0.31             0.63  ...          0.00         0.135   \n",
              "5              0.00             0.00  ...          0.00         0.223   \n",
              "\n",
              "   char_freq_[:  char_freq_!:  char_freq_$:  char_freq_#:  \\\n",
              "0           0.0         0.778         0.000         0.000   \n",
              "1           0.0         0.372         0.180         0.048   \n",
              "2           0.0         0.276         0.184         0.010   \n",
              "3           0.0         0.137         0.000         0.000   \n",
              "4           0.0         0.135         0.000         0.000   \n",
              "5           0.0         0.000         0.000         0.000   \n",
              "\n",
              "   capital_run_length_average:  capital_run_length_longest:  \\\n",
              "0                        3.756                           61   \n",
              "1                        5.114                          101   \n",
              "2                        9.821                          485   \n",
              "3                        3.537                           40   \n",
              "4                        3.537                           40   \n",
              "5                        3.000                           15   \n",
              "\n",
              "   capital_run_length_total:  spam  \n",
              "0                        278     1  \n",
              "1                       1028     1  \n",
              "2                       2259     1  \n",
              "3                        191     1  \n",
              "4                        191     1  \n",
              "5                         54     1  \n",
              "\n",
              "[6 rows x 58 columns]"
            ],
            "text/html": [
              "\n",
              "  <div id=\"df-95046572-6eac-43c3-b7f5-e1ccbfd9119f\" class=\"colab-df-container\">\n",
              "    <div>\n",
              "<style scoped>\n",
              "    .dataframe tbody tr th:only-of-type {\n",
              "        vertical-align: middle;\n",
              "    }\n",
              "\n",
              "    .dataframe tbody tr th {\n",
              "        vertical-align: top;\n",
              "    }\n",
              "\n",
              "    .dataframe thead th {\n",
              "        text-align: right;\n",
              "    }\n",
              "</style>\n",
              "<table border=\"1\" class=\"dataframe\">\n",
              "  <thead>\n",
              "    <tr style=\"text-align: right;\">\n",
              "      <th></th>\n",
              "      <th>word_freq_make:</th>\n",
              "      <th>word_freq_address:</th>\n",
              "      <th>word_freq_all:</th>\n",
              "      <th>word_freq_3d:</th>\n",
              "      <th>word_freq_our:</th>\n",
              "      <th>word_freq_over:</th>\n",
              "      <th>word_freq_remove:</th>\n",
              "      <th>word_freq_internet:</th>\n",
              "      <th>word_freq_order:</th>\n",
              "      <th>word_freq_mail:</th>\n",
              "      <th>...</th>\n",
              "      <th>char_freq_;:</th>\n",
              "      <th>char_freq_(:</th>\n",
              "      <th>char_freq_[:</th>\n",
              "      <th>char_freq_!:</th>\n",
              "      <th>char_freq_$:</th>\n",
              "      <th>char_freq_#:</th>\n",
              "      <th>capital_run_length_average:</th>\n",
              "      <th>capital_run_length_longest:</th>\n",
              "      <th>capital_run_length_total:</th>\n",
              "      <th>spam</th>\n",
              "    </tr>\n",
              "  </thead>\n",
              "  <tbody>\n",
              "    <tr>\n",
              "      <th>0</th>\n",
              "      <td>0.00</td>\n",
              "      <td>0.64</td>\n",
              "      <td>0.64</td>\n",
              "      <td>0.0</td>\n",
              "      <td>0.32</td>\n",
              "      <td>0.00</td>\n",
              "      <td>0.00</td>\n",
              "      <td>0.00</td>\n",
              "      <td>0.00</td>\n",
              "      <td>0.00</td>\n",
              "      <td>...</td>\n",
              "      <td>0.00</td>\n",
              "      <td>0.000</td>\n",
              "      <td>0.0</td>\n",
              "      <td>0.778</td>\n",
              "      <td>0.000</td>\n",
              "      <td>0.000</td>\n",
              "      <td>3.756</td>\n",
              "      <td>61</td>\n",
              "      <td>278</td>\n",
              "      <td>1</td>\n",
              "    </tr>\n",
              "    <tr>\n",
              "      <th>1</th>\n",
              "      <td>0.21</td>\n",
              "      <td>0.28</td>\n",
              "      <td>0.50</td>\n",
              "      <td>0.0</td>\n",
              "      <td>0.14</td>\n",
              "      <td>0.28</td>\n",
              "      <td>0.21</td>\n",
              "      <td>0.07</td>\n",
              "      <td>0.00</td>\n",
              "      <td>0.94</td>\n",
              "      <td>...</td>\n",
              "      <td>0.00</td>\n",
              "      <td>0.132</td>\n",
              "      <td>0.0</td>\n",
              "      <td>0.372</td>\n",
              "      <td>0.180</td>\n",
              "      <td>0.048</td>\n",
              "      <td>5.114</td>\n",
              "      <td>101</td>\n",
              "      <td>1028</td>\n",
              "      <td>1</td>\n",
              "    </tr>\n",
              "    <tr>\n",
              "      <th>2</th>\n",
              "      <td>0.06</td>\n",
              "      <td>0.00</td>\n",
              "      <td>0.71</td>\n",
              "      <td>0.0</td>\n",
              "      <td>1.23</td>\n",
              "      <td>0.19</td>\n",
              "      <td>0.19</td>\n",
              "      <td>0.12</td>\n",
              "      <td>0.64</td>\n",
              "      <td>0.25</td>\n",
              "      <td>...</td>\n",
              "      <td>0.01</td>\n",
              "      <td>0.143</td>\n",
              "      <td>0.0</td>\n",
              "      <td>0.276</td>\n",
              "      <td>0.184</td>\n",
              "      <td>0.010</td>\n",
              "      <td>9.821</td>\n",
              "      <td>485</td>\n",
              "      <td>2259</td>\n",
              "      <td>1</td>\n",
              "    </tr>\n",
              "    <tr>\n",
              "      <th>3</th>\n",
              "      <td>0.00</td>\n",
              "      <td>0.00</td>\n",
              "      <td>0.00</td>\n",
              "      <td>0.0</td>\n",
              "      <td>0.63</td>\n",
              "      <td>0.00</td>\n",
              "      <td>0.31</td>\n",
              "      <td>0.63</td>\n",
              "      <td>0.31</td>\n",
              "      <td>0.63</td>\n",
              "      <td>...</td>\n",
              "      <td>0.00</td>\n",
              "      <td>0.137</td>\n",
              "      <td>0.0</td>\n",
              "      <td>0.137</td>\n",
              "      <td>0.000</td>\n",
              "      <td>0.000</td>\n",
              "      <td>3.537</td>\n",
              "      <td>40</td>\n",
              "      <td>191</td>\n",
              "      <td>1</td>\n",
              "    </tr>\n",
              "    <tr>\n",
              "      <th>4</th>\n",
              "      <td>0.00</td>\n",
              "      <td>0.00</td>\n",
              "      <td>0.00</td>\n",
              "      <td>0.0</td>\n",
              "      <td>0.63</td>\n",
              "      <td>0.00</td>\n",
              "      <td>0.31</td>\n",
              "      <td>0.63</td>\n",
              "      <td>0.31</td>\n",
              "      <td>0.63</td>\n",
              "      <td>...</td>\n",
              "      <td>0.00</td>\n",
              "      <td>0.135</td>\n",
              "      <td>0.0</td>\n",
              "      <td>0.135</td>\n",
              "      <td>0.000</td>\n",
              "      <td>0.000</td>\n",
              "      <td>3.537</td>\n",
              "      <td>40</td>\n",
              "      <td>191</td>\n",
              "      <td>1</td>\n",
              "    </tr>\n",
              "    <tr>\n",
              "      <th>5</th>\n",
              "      <td>0.00</td>\n",
              "      <td>0.00</td>\n",
              "      <td>0.00</td>\n",
              "      <td>0.0</td>\n",
              "      <td>1.85</td>\n",
              "      <td>0.00</td>\n",
              "      <td>0.00</td>\n",
              "      <td>1.85</td>\n",
              "      <td>0.00</td>\n",
              "      <td>0.00</td>\n",
              "      <td>...</td>\n",
              "      <td>0.00</td>\n",
              "      <td>0.223</td>\n",
              "      <td>0.0</td>\n",
              "      <td>0.000</td>\n",
              "      <td>0.000</td>\n",
              "      <td>0.000</td>\n",
              "      <td>3.000</td>\n",
              "      <td>15</td>\n",
              "      <td>54</td>\n",
              "      <td>1</td>\n",
              "    </tr>\n",
              "  </tbody>\n",
              "</table>\n",
              "<p>6 rows × 58 columns</p>\n",
              "</div>\n",
              "    <div class=\"colab-df-buttons\">\n",
              "\n",
              "  <div class=\"colab-df-container\">\n",
              "    <button class=\"colab-df-convert\" onclick=\"convertToInteractive('df-95046572-6eac-43c3-b7f5-e1ccbfd9119f')\"\n",
              "            title=\"Convert this dataframe to an interactive table.\"\n",
              "            style=\"display:none;\">\n",
              "\n",
              "  <svg xmlns=\"http://www.w3.org/2000/svg\" height=\"24px\" viewBox=\"0 -960 960 960\">\n",
              "    <path d=\"M120-120v-720h720v720H120Zm60-500h600v-160H180v160Zm220 220h160v-160H400v160Zm0 220h160v-160H400v160ZM180-400h160v-160H180v160Zm440 0h160v-160H620v160ZM180-180h160v-160H180v160Zm440 0h160v-160H620v160Z\"/>\n",
              "  </svg>\n",
              "    </button>\n",
              "\n",
              "  <style>\n",
              "    .colab-df-container {\n",
              "      display:flex;\n",
              "      gap: 12px;\n",
              "    }\n",
              "\n",
              "    .colab-df-convert {\n",
              "      background-color: #E8F0FE;\n",
              "      border: none;\n",
              "      border-radius: 50%;\n",
              "      cursor: pointer;\n",
              "      display: none;\n",
              "      fill: #1967D2;\n",
              "      height: 32px;\n",
              "      padding: 0 0 0 0;\n",
              "      width: 32px;\n",
              "    }\n",
              "\n",
              "    .colab-df-convert:hover {\n",
              "      background-color: #E2EBFA;\n",
              "      box-shadow: 0px 1px 2px rgba(60, 64, 67, 0.3), 0px 1px 3px 1px rgba(60, 64, 67, 0.15);\n",
              "      fill: #174EA6;\n",
              "    }\n",
              "\n",
              "    .colab-df-buttons div {\n",
              "      margin-bottom: 4px;\n",
              "    }\n",
              "\n",
              "    [theme=dark] .colab-df-convert {\n",
              "      background-color: #3B4455;\n",
              "      fill: #D2E3FC;\n",
              "    }\n",
              "\n",
              "    [theme=dark] .colab-df-convert:hover {\n",
              "      background-color: #434B5C;\n",
              "      box-shadow: 0px 1px 3px 1px rgba(0, 0, 0, 0.15);\n",
              "      filter: drop-shadow(0px 1px 2px rgba(0, 0, 0, 0.3));\n",
              "      fill: #FFFFFF;\n",
              "    }\n",
              "  </style>\n",
              "\n",
              "    <script>\n",
              "      const buttonEl =\n",
              "        document.querySelector('#df-95046572-6eac-43c3-b7f5-e1ccbfd9119f button.colab-df-convert');\n",
              "      buttonEl.style.display =\n",
              "        google.colab.kernel.accessAllowed ? 'block' : 'none';\n",
              "\n",
              "      async function convertToInteractive(key) {\n",
              "        const element = document.querySelector('#df-95046572-6eac-43c3-b7f5-e1ccbfd9119f');\n",
              "        const dataTable =\n",
              "          await google.colab.kernel.invokeFunction('convertToInteractive',\n",
              "                                                    [key], {});\n",
              "        if (!dataTable) return;\n",
              "\n",
              "        const docLinkHtml = 'Like what you see? Visit the ' +\n",
              "          '<a target=\"_blank\" href=https://colab.research.google.com/notebooks/data_table.ipynb>data table notebook</a>'\n",
              "          + ' to learn more about interactive tables.';\n",
              "        element.innerHTML = '';\n",
              "        dataTable['output_type'] = 'display_data';\n",
              "        await google.colab.output.renderOutput(dataTable, element);\n",
              "        const docLink = document.createElement('div');\n",
              "        docLink.innerHTML = docLinkHtml;\n",
              "        element.appendChild(docLink);\n",
              "      }\n",
              "    </script>\n",
              "  </div>\n",
              "\n",
              "\n",
              "<div id=\"df-aea0810c-25dd-4db0-986e-6ac092f5a922\">\n",
              "  <button class=\"colab-df-quickchart\" onclick=\"quickchart('df-aea0810c-25dd-4db0-986e-6ac092f5a922')\"\n",
              "            title=\"Suggest charts.\"\n",
              "            style=\"display:none;\">\n",
              "\n",
              "<svg xmlns=\"http://www.w3.org/2000/svg\" height=\"24px\"viewBox=\"0 0 24 24\"\n",
              "     width=\"24px\">\n",
              "    <g>\n",
              "        <path d=\"M19 3H5c-1.1 0-2 .9-2 2v14c0 1.1.9 2 2 2h14c1.1 0 2-.9 2-2V5c0-1.1-.9-2-2-2zM9 17H7v-7h2v7zm4 0h-2V7h2v10zm4 0h-2v-4h2v4z\"/>\n",
              "    </g>\n",
              "</svg>\n",
              "  </button>\n",
              "\n",
              "<style>\n",
              "  .colab-df-quickchart {\n",
              "      --bg-color: #E8F0FE;\n",
              "      --fill-color: #1967D2;\n",
              "      --hover-bg-color: #E2EBFA;\n",
              "      --hover-fill-color: #174EA6;\n",
              "      --disabled-fill-color: #AAA;\n",
              "      --disabled-bg-color: #DDD;\n",
              "  }\n",
              "\n",
              "  [theme=dark] .colab-df-quickchart {\n",
              "      --bg-color: #3B4455;\n",
              "      --fill-color: #D2E3FC;\n",
              "      --hover-bg-color: #434B5C;\n",
              "      --hover-fill-color: #FFFFFF;\n",
              "      --disabled-bg-color: #3B4455;\n",
              "      --disabled-fill-color: #666;\n",
              "  }\n",
              "\n",
              "  .colab-df-quickchart {\n",
              "    background-color: var(--bg-color);\n",
              "    border: none;\n",
              "    border-radius: 50%;\n",
              "    cursor: pointer;\n",
              "    display: none;\n",
              "    fill: var(--fill-color);\n",
              "    height: 32px;\n",
              "    padding: 0;\n",
              "    width: 32px;\n",
              "  }\n",
              "\n",
              "  .colab-df-quickchart:hover {\n",
              "    background-color: var(--hover-bg-color);\n",
              "    box-shadow: 0 1px 2px rgba(60, 64, 67, 0.3), 0 1px 3px 1px rgba(60, 64, 67, 0.15);\n",
              "    fill: var(--button-hover-fill-color);\n",
              "  }\n",
              "\n",
              "  .colab-df-quickchart-complete:disabled,\n",
              "  .colab-df-quickchart-complete:disabled:hover {\n",
              "    background-color: var(--disabled-bg-color);\n",
              "    fill: var(--disabled-fill-color);\n",
              "    box-shadow: none;\n",
              "  }\n",
              "\n",
              "  .colab-df-spinner {\n",
              "    border: 2px solid var(--fill-color);\n",
              "    border-color: transparent;\n",
              "    border-bottom-color: var(--fill-color);\n",
              "    animation:\n",
              "      spin 1s steps(1) infinite;\n",
              "  }\n",
              "\n",
              "  @keyframes spin {\n",
              "    0% {\n",
              "      border-color: transparent;\n",
              "      border-bottom-color: var(--fill-color);\n",
              "      border-left-color: var(--fill-color);\n",
              "    }\n",
              "    20% {\n",
              "      border-color: transparent;\n",
              "      border-left-color: var(--fill-color);\n",
              "      border-top-color: var(--fill-color);\n",
              "    }\n",
              "    30% {\n",
              "      border-color: transparent;\n",
              "      border-left-color: var(--fill-color);\n",
              "      border-top-color: var(--fill-color);\n",
              "      border-right-color: var(--fill-color);\n",
              "    }\n",
              "    40% {\n",
              "      border-color: transparent;\n",
              "      border-right-color: var(--fill-color);\n",
              "      border-top-color: var(--fill-color);\n",
              "    }\n",
              "    60% {\n",
              "      border-color: transparent;\n",
              "      border-right-color: var(--fill-color);\n",
              "    }\n",
              "    80% {\n",
              "      border-color: transparent;\n",
              "      border-right-color: var(--fill-color);\n",
              "      border-bottom-color: var(--fill-color);\n",
              "    }\n",
              "    90% {\n",
              "      border-color: transparent;\n",
              "      border-bottom-color: var(--fill-color);\n",
              "    }\n",
              "  }\n",
              "</style>\n",
              "\n",
              "  <script>\n",
              "    async function quickchart(key) {\n",
              "      const quickchartButtonEl =\n",
              "        document.querySelector('#' + key + ' button');\n",
              "      quickchartButtonEl.disabled = true;  // To prevent multiple clicks.\n",
              "      quickchartButtonEl.classList.add('colab-df-spinner');\n",
              "      try {\n",
              "        const charts = await google.colab.kernel.invokeFunction(\n",
              "            'suggestCharts', [key], {});\n",
              "      } catch (error) {\n",
              "        console.error('Error during call to suggestCharts:', error);\n",
              "      }\n",
              "      quickchartButtonEl.classList.remove('colab-df-spinner');\n",
              "      quickchartButtonEl.classList.add('colab-df-quickchart-complete');\n",
              "    }\n",
              "    (() => {\n",
              "      let quickchartButtonEl =\n",
              "        document.querySelector('#df-aea0810c-25dd-4db0-986e-6ac092f5a922 button');\n",
              "      quickchartButtonEl.style.display =\n",
              "        google.colab.kernel.accessAllowed ? 'block' : 'none';\n",
              "    })();\n",
              "  </script>\n",
              "</div>\n",
              "    </div>\n",
              "  </div>\n"
            ]
          },
          "metadata": {},
          "execution_count": 40
        }
      ],
      "source": [
        "#Importing all necessary Python libraries\n",
        "import pandas as pd\n",
        "import pandas as pd\n",
        "import matplotlib.pyplot as plt\n",
        "import numpy as np\n",
        "import warnings\n",
        "warnings.filterwarnings(\"ignore\")\n",
        "\n",
        "\n",
        "spam_df = pd.read_csv(\"/content/spam_dataset.csv\")\n",
        "spam_df.head(6)"
      ]
    },
    {
      "cell_type": "markdown",
      "source": [
        "# Question 2\n",
        "\n",
        "Read through the documentation of the original dataset here:\n",
        "\n",
        "http://archive.ics.uci.edu/ml/machine-learning-databases/spambase/spambase.names\n",
        "\n",
        "The dependent variable is \"spam\" where one indicates that an email is spam and zero otherwise.  Which three variables in the dataset do you think will be important predictors in a model of spam?  Why?\n",
        "\n",
        "\n"
      ],
      "metadata": {
        "id": "6i9SIBL7MIC8"
      }
    },
    {
      "cell_type": "code",
      "source": [
        "print(spam_df.dtypes)"
      ],
      "metadata": {
        "colab": {
          "base_uri": "https://localhost:8080/"
        },
        "id": "cYHXqK1oQd1H",
        "outputId": "7b4a505a-e4ba-4c7f-bf93-d9a7da779dd6"
      },
      "execution_count": 41,
      "outputs": [
        {
          "output_type": "stream",
          "name": "stdout",
          "text": [
            "word_freq_make:                float64\n",
            "word_freq_address:             float64\n",
            "word_freq_all:                 float64\n",
            "word_freq_3d:                  float64\n",
            "word_freq_our:                 float64\n",
            "word_freq_over:                float64\n",
            "word_freq_remove:              float64\n",
            "word_freq_internet:            float64\n",
            "word_freq_order:               float64\n",
            "word_freq_mail:                float64\n",
            "word_freq_receive:             float64\n",
            "word_freq_will:                float64\n",
            "word_freq_people:              float64\n",
            "word_freq_report:              float64\n",
            "word_freq_addresses:           float64\n",
            "word_freq_free:                float64\n",
            "word_freq_business:            float64\n",
            "word_freq_email:               float64\n",
            "word_freq_you:                 float64\n",
            "word_freq_credit:              float64\n",
            "word_freq_your:                float64\n",
            "word_freq_font:                float64\n",
            "word_freq_000:                 float64\n",
            "word_freq_money:               float64\n",
            "word_freq_hp:                  float64\n",
            "word_freq_hpl:                 float64\n",
            "word_freq_george:              float64\n",
            "word_freq_650:                 float64\n",
            "word_freq_lab:                 float64\n",
            "word_freq_labs:                float64\n",
            "word_freq_telnet:              float64\n",
            "word_freq_857:                 float64\n",
            "word_freq_data:                float64\n",
            "word_freq_415:                 float64\n",
            "word_freq_85:                  float64\n",
            "word_freq_technology:          float64\n",
            "word_freq_1999:                float64\n",
            "word_freq_parts:               float64\n",
            "word_freq_pm:                  float64\n",
            "word_freq_direct:              float64\n",
            "word_freq_cs:                  float64\n",
            "word_freq_meeting:             float64\n",
            "word_freq_original:            float64\n",
            "word_freq_project:             float64\n",
            "word_freq_re:                  float64\n",
            "word_freq_edu:                 float64\n",
            "word_freq_table:               float64\n",
            "word_freq_conference:          float64\n",
            "char_freq_;:                   float64\n",
            "char_freq_(:                   float64\n",
            "char_freq_[:                   float64\n",
            "char_freq_!:                   float64\n",
            "char_freq_$:                   float64\n",
            "char_freq_#:                   float64\n",
            "capital_run_length_average:    float64\n",
            "capital_run_length_longest:      int64\n",
            "capital_run_length_total:        int64\n",
            "spam                             int64\n",
            "dtype: object\n"
          ]
        }
      ]
    },
    {
      "cell_type": "markdown",
      "source": [
        "The code above shows all the columns and their data type. The predictors that I think are important will the frequency of the word your (word_freq_your:) the frequency of the word money (word_freq_money:), and the frequency of the word credit (word_freq_credit:). I choose the first two words because a lot of scams say that they need money, or that they have placed money in \"your\" account and you to verify \"your\" information, which they will steal. For credit, a lot of people get emails asking them to apply for a new credit card. Whether or not those emails fake, I believe that most people will spam those emails. I list out the three variables below:\n",
        "\n",
        "\n",
        "1. word_freq_your:\n",
        "\n",
        "2. word_freq_money:\n",
        "\n",
        "3. word_freq_credit:\n",
        "\n",
        "\n"
      ],
      "metadata": {
        "id": "lDZwTqzoQq5h"
      }
    },
    {
      "cell_type": "markdown",
      "source": [
        "# Question 3\n",
        "\n",
        "Visualize the univariate distribution of each of the variables in the previous question.  \n",
        "\n"
      ],
      "metadata": {
        "id": "PQ5pDq6tWGSH"
      }
    },
    {
      "cell_type": "code",
      "source": [
        "#Histogram of the Spam\n",
        "plt.hist(spam_df[\"spam\"], edgecolor='black')\n",
        "plt.xlabel(\"Spam Emails\")\n",
        "plt.ylabel(\"Frequency\")\n",
        "plt.title(\"Spam Frequency Distribution\")"
      ],
      "metadata": {
        "colab": {
          "base_uri": "https://localhost:8080/",
          "height": 489
        },
        "id": "dD1mlppoOXQb",
        "outputId": "48869158-75ec-4e66-9113-bb72d6b738b6"
      },
      "execution_count": 42,
      "outputs": [
        {
          "output_type": "execute_result",
          "data": {
            "text/plain": [
              "Text(0.5, 1.0, 'Spam Frequency Distribution')"
            ]
          },
          "metadata": {},
          "execution_count": 42
        },
        {
          "output_type": "display_data",
          "data": {
            "text/plain": [
              "<Figure size 640x480 with 1 Axes>"
            ],
            "image/png": "[encoded data removed]"
          },
          "metadata": {}
        }
      ]
    },
    {
      "cell_type": "code",
      "source": [
        "#Histogram of the Frequency of the Word Your\n",
        "plt.hist(spam_df[\"word_freq_your:\"], bins=20, edgecolor='black')\n",
        "plt.xlabel(\"Frequency of the Word Your\")\n",
        "plt.ylabel(\"Frequency\")\n",
        "plt.title(\"Histogram of the Frequency of the Word Your\")"
      ],
      "metadata": {
        "colab": {
          "base_uri": "https://localhost:8080/",
          "height": 489
        },
        "id": "n-PDSFOTWkZr",
        "outputId": "b2fb6f38-7cb7-4ea2-dc85-23d96c2d4bf1"
      },
      "execution_count": 43,
      "outputs": [
        {
          "output_type": "execute_result",
          "data": {
            "text/plain": [
              "Text(0.5, 1.0, 'Histogram of the Frequency of the Word Your')"
            ]
          },
          "metadata": {},
          "execution_count": 43
        },
        {
          "output_type": "display_data",
          "data": {
            "text/plain": [
              "<Figure size 640x480 with 1 Axes>"
            ],
            "image/png": "[encoded data removed]"
          },
          "metadata": {}
        }
      ]
    },
    {
      "cell_type": "code",
      "source": [
        "#Histogram of the Frequency of the Word Money\n",
        "plt.hist(spam_df[\"word_freq_money:\"], bins=20, edgecolor='black')\n",
        "plt.xlabel(\"Frequency of the Word Money\")\n",
        "plt.ylabel(\"Frequency\")\n",
        "plt.title(\"Histogram of the Frequency of the Word Money\")"
      ],
      "metadata": {
        "colab": {
          "base_uri": "https://localhost:8080/",
          "height": 489
        },
        "id": "i6XnFd_QWlqO",
        "outputId": "6e327207-6d73-484f-9166-13086080bb48"
      },
      "execution_count": 44,
      "outputs": [
        {
          "output_type": "execute_result",
          "data": {
            "text/plain": [
              "Text(0.5, 1.0, 'Histogram of the Frequency of the Word Money')"
            ]
          },
          "metadata": {},
          "execution_count": 44
        },
        {
          "output_type": "display_data",
          "data": {
            "text/plain": [
              "<Figure size 640x480 with 1 Axes>"
            ],
            "image/png": "[encoded data removed]"
          },
          "metadata": {}
        }
      ]
    },
    {
      "cell_type": "code",
      "source": [
        "#Histogram of the Frequency of the Word Credit\n",
        "plt.hist(spam_df[\"word_freq_credit:\"], bins=20, edgecolor='black')\n",
        "plt.xlabel(\"Frequency of the Word Credit\")\n",
        "plt.ylabel(\"Frequency\")\n",
        "plt.title(\"Histogram of the Frequency of the Word Credit\")"
      ],
      "metadata": {
        "colab": {
          "base_uri": "https://localhost:8080/",
          "height": 489
        },
        "id": "2uMctzpWWlbN",
        "outputId": "0e47fc3e-cd47-49d6-c945-964f49149ef3"
      },
      "execution_count": 45,
      "outputs": [
        {
          "output_type": "execute_result",
          "data": {
            "text/plain": [
              "Text(0.5, 1.0, 'Histogram of the Frequency of the Word Credit')"
            ]
          },
          "metadata": {},
          "execution_count": 45
        },
        {
          "output_type": "display_data",
          "data": {
            "text/plain": [
              "<Figure size 640x480 with 1 Axes>"
            ],
            "image/png": "[encoded data removed]"
          },
          "metadata": {}
        }
      ]
    },
    {
      "cell_type": "markdown",
      "source": [
        "# Question 4\n",
        "\n",
        "Name each of the supervised learning models that we have learned thus far that are used to predict dependent variables like \"spam\".   \n",
        "\n",
        "### Answer\n",
        "\n",
        "Below, I still out the following models that could be used to evaluate data with a continous dependent variable:\n",
        "\n",
        "1. Logistic Regression\n",
        "2. Penalized Logistic Regression\n",
        "3. SVM\n",
        "4. k-Nearest Neighbor Classifer\n",
        "5. Decision Tree Classifier\n",
        "6. Random Forest Classifier\n",
        "7. Bagging Classifier\n",
        "\n",
        "---"
      ],
      "metadata": {
        "id": "1zbKfeVvZMZH"
      }
    },
    {
      "cell_type": "markdown",
      "source": [
        "# Question 5\n",
        "\n",
        "Describe the importance of training and test data.  Why do we separate data into these subsets?\n",
        "\n",
        "### Answer\n",
        "\n",
        "The goal of supervised machine learning, where we have input and output data, is to create models that can generalize to unseen data. However, if we used our entire dataset to analyze the quality of our models, we would not know how well it can predict new data. As a result, we split the data so that we can see how well the model can predict to new data.\n",
        "\n",
        "----"
      ],
      "metadata": {
        "id": "OCQmCcfxZ2X0"
      }
    },
    {
      "cell_type": "markdown",
      "source": [
        "# Question 6\n",
        "\n",
        "What is k-fold cross validation and what do we use it for?\n",
        "\n",
        "### Answer\n",
        "\n",
        "In k-fold cross-validation, we split our training dataset into k folds (subsets) and selects one fold as our \"test\", also called validation, data and the $k-1$ as our training data. After, cross validation trains the $k-1$ folds of data and then tests it on the one fold designated as test data. However, this is an iterative process: cross-validation will select a different fold and use that as test data, while the other $k-1$ folds are used to training the algorithm. This is process is done $k$ times. In short, each fold will be used as validation data only oce, and training data $k-1$ times.\n",
        "\n",
        "Cross validation is highly important because it allows us to see how the model will perform with different splits of the training data. In short, by having different combinations of the training and validation data, we can see how well on average the model can generalize to new data, and decrease the chance that we overfit. Additionally, we can compare mean cross-validation scores against other models, allowing us to decide which model we believe will be the best at predicitng new data.\n",
        "\n",
        "---"
      ],
      "metadata": {
        "id": "18AgQpqHaMVI"
      }
    },
    {
      "cell_type": "markdown",
      "source": [
        "# Question 7\n",
        "\n",
        " How is k-fold cross validation different from stratified k-fold cross validation?\n",
        "\n",
        "### Answer\n",
        "\n",
        " In k-fold cross validation, we are splitting the data into k subsets without frequencies of each class in each fold. For example, suppose that we have 100 observations where are target feature has an equal amount of the five following classes: $1$, $2$, $3$, $4$, and $5$. This means that 20% of the data has one class. Furthermore, suppose that the data is ordered by class, so the first 20 observations is $1$, the second 20 are $2$, and so on. As a result, if we did 5 k-fold cross-validation, each fold will have the same class, which is not reflective of the entire sample. This will cause the cross-validation score to be zero. Stratified k-fold cross-validation ensures that each fold has the same proprtion of classes or values of the target feature as the overall sample. In this case, each fold will have 20% of each class, allowing for the training folds to better generalize to the validation fold.\n",
        "\n",
        "---"
      ],
      "metadata": {
        "id": "19vcJQm7aP2F"
      }
    },
    {
      "cell_type": "markdown",
      "source": [
        "# Question 8\n",
        "\n",
        "Choose one model from question four.  Split the data into training and test subsets.  Build a model with the three variables in the dataset that you think will be good predictors of \"spam\".  Describe why you chose any particular parameters for your model (e.g.- if you used KNN how did you decide to choose a specific value for k).  Run the model and evaluate prediction error in two ways: A) On test data directly and B) using k-fold cross-validation.  "
      ],
      "metadata": {
        "id": "L5K7B3DLalvE"
      }
    },
    {
      "cell_type": "markdown",
      "source": [
        "## KNN\n",
        "\n",
        "### Preprocessing and Finding optimal parameter"
      ],
      "metadata": {
        "id": "0ZTe6NKNVUxX"
      }
    },
    {
      "cell_type": "code",
      "source": [
        "#Creating y and X variables\n",
        "X = spam_df[['word_freq_your:', 'word_freq_money:', 'word_freq_credit:']]\n",
        "y = spam_df['spam']\n"
      ],
      "metadata": {
        "id": "YcLqle6ja53W"
      },
      "execution_count": 46,
      "outputs": []
    },
    {
      "cell_type": "code",
      "source": [
        "from sklearn.model_selection import train_test_split\n",
        "\n",
        "#Splitting X and y into testing and training with default split (80% training and 20% testing)\n",
        "X_train, X_test, y_train, y_test = train_test_split(X, y, random_state=42, train_size=0.8)\n"
      ],
      "metadata": {
        "id": "N4GoD2RxarTn"
      },
      "execution_count": 47,
      "outputs": []
    },
    {
      "cell_type": "code",
      "source": [
        "from sklearn.preprocessing import StandardScaler\n",
        "\n",
        "#Scaling X training and testing data using the StandardScaler function\n",
        "scaler = StandardScaler()\n",
        "scaler.fit(X_train)\n",
        "X_train_scaled = scaler.transform(X_train)\n",
        "X_test_scaled = scaler.transform(X_test)"
      ],
      "metadata": {
        "id": "p32InY3KqVPO"
      },
      "execution_count": 48,
      "outputs": []
    },
    {
      "cell_type": "code",
      "source": [
        "from sklearn.model_selection import GridSearchCV\n",
        "from sklearn.neighbors import KNeighborsClassifier\n",
        "from sklearn.model_selection import KFold\n",
        "\n",
        "\n",
        "kfold = KFold(n_splits=10) #K-fold object with 10 splits\n",
        "knn = KNeighborsClassifier()\n",
        "\n",
        "hyperparameters = {'n_neighbors': np.arange(1, 23, 2) }\n",
        "\n",
        "grid_knn = GridSearchCV(knn, param_grid=hyperparameters, cv=kfold)\n",
        "grid_knn.fit(X_train_scaled, y_train)\n",
        "\n",
        "knn_bestparam = grid_knn.best_params_\n",
        "print(\"The best parameters for KNN:\", knn_bestparam)\n",
        "\n"
      ],
      "metadata": {
        "colab": {
          "base_uri": "https://localhost:8080/"
        },
        "id": "qkpv2ZwWMP3E",
        "outputId": "da09d129-f355-41b2-a943-48971db16596"
      },
      "execution_count": 49,
      "outputs": [
        {
          "output_type": "stream",
          "name": "stdout",
          "text": [
            "The best parameters for KNN: {'n_neighbors': 17}\n"
          ]
        }
      ]
    },
    {
      "cell_type": "markdown",
      "source": [
        "### Analysis of Parameter(s)\n",
        "\n",
        "To find the optimal parameter, I use Python's GridSearchCV function. I set the range for the hyperparameters parameters to be every odd number between 1 and 23. I set the maximum value to 23 since this dataset has 4600 observations. Since $17$ is the optimal number of k-neighbors, I will use this value for evaulating the test and cross-validation scores. Additionally, I set the number of splits in k-fold to 10 as that is the standard number of splits used by data scientists. Additionally, I scaled the X training and test data with the Standard Scaler, giving the values the a mean of 0 and variance of 1. This will prevent a value with a large distance from causing bias in the model."
      ],
      "metadata": {
        "id": "4xz0HlrfOP8G"
      }
    },
    {
      "cell_type": "markdown",
      "source": [
        "### Part A: Evaulating Prediction Error on Test Data"
      ],
      "metadata": {
        "id": "cg5XzpzJPW_Z"
      }
    },
    {
      "cell_type": "code",
      "source": [
        "'''\n",
        "Finding the test score from the optimal parameter for KNN\n",
        "'''\n",
        "\n",
        "knn_testscore = round(grid_knn.score(X_test_scaled, y_test), 7)\n",
        "print(\"Test score for KNN:\", knn_testscore)"
      ],
      "metadata": {
        "colab": {
          "base_uri": "https://localhost:8080/"
        },
        "id": "uaDwQ9XxWlOb",
        "outputId": "fabed993-9d2b-46d2-b365-608f904cc8ff"
      },
      "execution_count": 50,
      "outputs": [
        {
          "output_type": "stream",
          "name": "stdout",
          "text": [
            "Test score for KNN: 0.7904452\n"
          ]
        }
      ]
    },
    {
      "cell_type": "markdown",
      "source": [
        "### Part B:  Evaulating Prediction Error with CV"
      ],
      "metadata": {
        "id": "MeZAG6iWGLBt"
      }
    },
    {
      "cell_type": "code",
      "source": [
        "'''\n",
        "Finding the cross-validation score from the optimal parameter for KNN\n",
        "'''\n",
        "\n",
        "knn_best_cv = round(grid_knn.best_score_,7)\n",
        "print(\"Optimal mean cross-validation score for KNN:\",  knn_best_cv)"
      ],
      "metadata": {
        "colab": {
          "base_uri": "https://localhost:8080/"
        },
        "id": "ye2g8Ijid04I",
        "outputId": "f21ea876-9089-489b-bea7-b408baf70b08"
      },
      "execution_count": 51,
      "outputs": [
        {
          "output_type": "stream",
          "name": "stdout",
          "text": [
            "Optimal mean cross-validation score for KNN: 0.7834239\n"
          ]
        }
      ]
    },
    {
      "cell_type": "markdown",
      "source": [
        "----\n",
        "\n",
        "# Question 9\n",
        "\n",
        "Choose a second model from question four.  Using the same three variables in the dataset that you think will be good predictors of \"spam\".  Describe why you chose any particular parameters for your model (e.g.- if you used KNN how did you decide to choose a specific value for k).  Run the model and evaluate prediction error in two ways: A) On test data directly and B) using k-fold cross-validation.  Did this model predict test data better than your previous model?\n",
        "\n"
      ],
      "metadata": {
        "id": "Gm7chFD3f6sx"
      }
    },
    {
      "cell_type": "markdown",
      "source": [
        "## Penalized Logistic Regression"
      ],
      "metadata": {
        "id": "yBLqrH9lDaGy"
      }
    },
    {
      "cell_type": "markdown",
      "source": [
        "### Finding optimal parameter"
      ],
      "metadata": {
        "id": "Goqh29JLV4a2"
      }
    },
    {
      "cell_type": "code",
      "source": [
        "'''\n",
        "Penalized Logistic Regression\n",
        "'''\n",
        "\n",
        "from sklearn.linear_model import LogisticRegression\n",
        "\n",
        "logreg =LogisticRegression(max_iter=1000000)\n",
        "hyperparameters = {'C': [0.001, 0.01, 0.1, 1, 10, 100], 'penalty': ['11', 'l2']}\n",
        "\n",
        "\n",
        "grid_logreg = GridSearchCV(logreg, param_grid=hyperparameters, cv=kfold)\n",
        "grid_logreg.fit(X_train_scaled, y_train)\n",
        "\n",
        "logreg_bestparam = grid_logreg.best_params_\n",
        "print(\"The best parameters for Logistic Regression:\", logreg_bestparam)\n"
      ],
      "metadata": {
        "colab": {
          "base_uri": "https://localhost:8080/"
        },
        "id": "7oP4sTzCRRfn",
        "outputId": "5c792bd5-3235-4477-a8f3-423bd7d57bc0"
      },
      "execution_count": 52,
      "outputs": [
        {
          "output_type": "stream",
          "name": "stdout",
          "text": [
            "The best parameters for Logistic Regression: {'C': 10, 'penalty': 'l2'}\n"
          ]
        }
      ]
    },
    {
      "cell_type": "markdown",
      "source": [
        "### Analysis of Parameter(s)\n",
        "\n",
        "The next model I will use is a penalized logistic regression\n",
        "\n",
        "To find the optimal parameter, I use Python's GridSearchCV function.\n",
        "\n",
        "Since the general practice is to set the tuning parameters for penalized logistic regression on a logarithmic scale, I set the parameters as $0.001$, $0.01$, $0.1$, $1$, $10$, and $100$. Additionally, I included the penalty parameters. The optimal parameters are $C=10$ and the penalty is $l2$. As a resutlt, I will use these to evaulate the model.\n",
        "\n",
        "Additionally, I use scaled data for the X training and test set using Python's StandardScaler function.\n",
        "\n"
      ],
      "metadata": {
        "id": "Y3OUcpqPTI_4"
      }
    },
    {
      "cell_type": "markdown",
      "source": [
        "## Model Evaluation\n",
        "\n",
        "### Part A"
      ],
      "metadata": {
        "id": "wpj58A5VG1Rq"
      }
    },
    {
      "cell_type": "code",
      "source": [
        "logreg_testscore = round(grid_logreg.score(X_test_scaled, y_test), 7)\n",
        "print(\"Test score for Penalized Logistic Regression:\", logreg_testscore)"
      ],
      "metadata": {
        "colab": {
          "base_uri": "https://localhost:8080/"
        },
        "id": "kM7fpCpMCjBL",
        "outputId": "cb9f5439-b783-4dc8-91c8-d7e0349694ec"
      },
      "execution_count": 53,
      "outputs": [
        {
          "output_type": "stream",
          "name": "stdout",
          "text": [
            "Test score for Penalized Logistic Regression: 0.7502714\n"
          ]
        }
      ]
    },
    {
      "cell_type": "markdown",
      "source": [
        "### Part B"
      ],
      "metadata": {
        "id": "RFhN7-TEG2W3"
      }
    },
    {
      "cell_type": "code",
      "source": [
        "logreg_best_cv = round(grid_logreg.best_score_ ,7)\n",
        "print(\"Optimal mean cross-validation score for Penalized Logistic Regression:\", logreg_best_cv)"
      ],
      "metadata": {
        "colab": {
          "base_uri": "https://localhost:8080/"
        },
        "id": "-h_H_lUKApTO",
        "outputId": "5f4c02d0-8400-46e6-d5af-3ab57b847d9f"
      },
      "execution_count": 54,
      "outputs": [
        {
          "output_type": "stream",
          "name": "stdout",
          "text": [
            "Optimal mean cross-validation score for Penalized Logistic Regression: 0.7695652\n"
          ]
        }
      ]
    },
    {
      "cell_type": "markdown",
      "source": [
        "### Analysis of Prediction Error\n",
        "\n",
        "For penalized logistic regression, the prediction error was worse for both the test score and optimal mean cross-validation score. In KNN, the test score is $0.7904452$ and the optimal mean cross-validation score is $0.7834239$. For penalized logistic regression, the test score is $0.7502714$ and the optimal mean cross-validation score is $0.7695652$.\n",
        "\n",
        "Since the optimal cross-validation score for the Penalized Logistic Regression model is worse than the KNN model, this model does not predict the data better."
      ],
      "metadata": {
        "id": "DO3b9XcIWQZo"
      }
    },
    {
      "cell_type": "markdown",
      "source": [
        "\n",
        "---\n",
        "\n",
        "# Question 10\n",
        "\n",
        "Choose a third model from question four.  Using the same three variables in the dataset that you think will be good predictors of \"spam\".  Describe why you chose any particular parameters for your model (e.g.- if you used KNN how did you decide to choose a specific value for k). Run the model and evaluate prediction error in two ways: A) On test data directly and B) using k-fold cross-validation.  Did this model predict test data better than your previous models?\n",
        "\n"
      ],
      "metadata": {
        "id": "WNk7CmfzhS9C"
      }
    },
    {
      "cell_type": "markdown",
      "source": [
        "## SVM\n",
        "\n",
        "### Finding optimal parameter and preprocessing"
      ],
      "metadata": {
        "id": "8puXc2lCEw8r"
      }
    },
    {
      "cell_type": "code",
      "source": [
        "'''\n",
        "SVM\n",
        "'''\n",
        "\n",
        "from sklearn.svm import SVC\n",
        "svm = SVC()\n"
      ],
      "metadata": {
        "id": "dnG0Dh7ghSVM"
      },
      "execution_count": 55,
      "outputs": []
    },
    {
      "cell_type": "code",
      "source": [
        "#Scaling X training and testing data using the MinMax function\n",
        "\n",
        "\n",
        "from sklearn.preprocessing import MinMaxScaler\n",
        "\n",
        "scaler = MinMaxScaler()\n",
        "scaler.fit(X_train)\n",
        "X_train_scaled = scaler.transform(X_train)\n",
        "X_test_scaled = scaler.transform(X_test)\n"
      ],
      "metadata": {
        "id": "paJBB8fPUqvl"
      },
      "execution_count": 56,
      "outputs": []
    },
    {
      "cell_type": "markdown",
      "source": [
        "Instead of using the StandardScaler, I use the MinMaxScaler for SVM, which makes the values fall between 0 or 1. Since the goal of SVM is create a hyperplane with the maximum distance between classes (in this case Spam and not Spam), I used the MinMaxScaler to make the data on the same scale to prevent any possible bias from outlier observations. Like KNN, SVM is can also have bias if the data is not scaled.\n",
        "\n"
      ],
      "metadata": {
        "id": "GVSG4I0rUS3S"
      }
    },
    {
      "cell_type": "code",
      "source": [
        "'''\n",
        "IMPORANT: Please allow 30 to 60 seconds to run\n",
        "'''\n",
        "\n",
        "hyperparameters = {'C': [0.1, 1,10], 'gamma': [0.1, 1,10]}\n",
        "\n",
        "grid_svm = GridSearchCV(svm, param_grid=hyperparameters, cv=kfold)\n",
        "grid_svm.fit(X_train_scaled, y_train)\n"
      ],
      "metadata": {
        "colab": {
          "base_uri": "https://localhost:8080/",
          "height": 115
        },
        "id": "-wl5ZUgeelbL",
        "outputId": "4a24a037-1ffe-49d0-f380-8ca40f87fd67"
      },
      "execution_count": 57,
      "outputs": [
        {
          "output_type": "execute_result",
          "data": {
            "text/plain": [
              "GridSearchCV(cv=KFold(n_splits=10, random_state=None, shuffle=False),\n",
              "             estimator=SVC(),\n",
              "             param_grid={'C': [0.1, 1, 10], 'gamma': [0.1, 1, 10]})"
            ],
            "text/html": [
              "<style>#sk-container-id-3 {color: black;background-color: white;}#sk-container-id-3 pre{padding: 0;}#sk-container-id-3 div.sk-toggleable {background-color: white;}#sk-container-id-3 label.sk-toggleable__label {cursor: pointer;display: block;width: 100%;margin-bottom: 0;padding: 0.3em;box-sizing: border-box;text-align: center;}#sk-container-id-3 label.sk-toggleable__label-arrow:before {content: \"▸\";float: left;margin-right: 0.25em;color: #696969;}#sk-container-id-3 label.sk-toggleable__label-arrow:hover:before {color: black;}#sk-container-id-3 div.sk-estimator:hover label.sk-toggleable__label-arrow:before {color: black;}#sk-container-id-3 div.sk-toggleable__content {max-height: 0;max-width: 0;overflow: hidden;text-align: left;background-color: #f0f8ff;}#sk-container-id-3 div.sk-toggleable__content pre {margin: 0.2em;color: black;border-radius: 0.25em;background-color: #f0f8ff;}#sk-container-id-3 input.sk-toggleable__control:checked~div.sk-toggleable__content {max-height: 200px;max-width: 100%;overflow: auto;}#sk-container-id-3 input.sk-toggleable__control:checked~label.sk-toggleable__label-arrow:before {content: \"▾\";}#sk-container-id-3 div.sk-estimator input.sk-toggleable__control:checked~label.sk-toggleable__label {background-color: #d4ebff;}#sk-container-id-3 div.sk-label input.sk-toggleable__control:checked~label.sk-toggleable__label {background-color: #d4ebff;}#sk-container-id-3 input.sk-hidden--visually {border: 0;clip: rect(1px 1px 1px 1px);clip: rect(1px, 1px, 1px, 1px);height: 1px;margin: -1px;overflow: hidden;padding: 0;position: absolute;width: 1px;}#sk-container-id-3 div.sk-estimator {font-family: monospace;background-color: #f0f8ff;border: 1px dotted black;border-radius: 0.25em;box-sizing: border-box;margin-bottom: 0.5em;}#sk-container-id-3 div.sk-estimator:hover {background-color: #d4ebff;}#sk-container-id-3 div.sk-parallel-item::after {content: \"\";width: 100%;border-bottom: 1px solid gray;flex-grow: 1;}#sk-container-id-3 div.sk-label:hover label.sk-toggleable__label {background-color: #d4ebff;}#sk-container-id-3 div.sk-serial::before {content: \"\";position: absolute;border-left: 1px solid gray;box-sizing: border-box;top: 0;bottom: 0;left: 50%;z-index: 0;}#sk-container-id-3 div.sk-serial {display: flex;flex-direction: column;align-items: center;background-color: white;padding-right: 0.2em;padding-left: 0.2em;position: relative;}#sk-container-id-3 div.sk-item {position: relative;z-index: 1;}#sk-container-id-3 div.sk-parallel {display: flex;align-items: stretch;justify-content: center;background-color: white;position: relative;}#sk-container-id-3 div.sk-item::before, #sk-container-id-3 div.sk-parallel-item::before {content: \"\";position: absolute;border-left: 1px solid gray;box-sizing: border-box;top: 0;bottom: 0;left: 50%;z-index: -1;}#sk-container-id-3 div.sk-parallel-item {display: flex;flex-direction: column;z-index: 1;position: relative;background-color: white;}#sk-container-id-3 div.sk-parallel-item:first-child::after {align-self: flex-end;width: 50%;}#sk-container-id-3 div.sk-parallel-item:last-child::after {align-self: flex-start;width: 50%;}#sk-container-id-3 div.sk-parallel-item:only-child::after {width: 0;}#sk-container-id-3 div.sk-dashed-wrapped {border: 1px dashed gray;margin: 0 0.4em 0.5em 0.4em;box-sizing: border-box;padding-bottom: 0.4em;background-color: white;}#sk-container-id-3 div.sk-label label {font-family: monospace;font-weight: bold;display: inline-block;line-height: 1.2em;}#sk-container-id-3 div.sk-label-container {text-align: center;}#sk-container-id-3 div.sk-container {/* jupyter's `normalize.less` sets `[hidden] { display: none; }` but bootstrap.min.css set `[hidden] { display: none !important; }` so we also need the `!important` here to be able to override the default hidden behavior on the sphinx rendered scikit-learn.org. See: https://github.com/scikit-learn/scikit-learn/issues/21755 */display: inline-block !important;position: relative;}#sk-container-id-3 div.sk-text-repr-fallback {display: none;}</style><div id=\"sk-container-id-3\" class=\"sk-top-container\"><div class=\"sk-text-repr-fallback\"><pre>GridSearchCV(cv=KFold(n_splits=10, random_state=None, shuffle=False),\n",
              "             estimator=SVC(),\n",
              "             param_grid={&#x27;C&#x27;: [0.1, 1, 10], &#x27;gamma&#x27;: [0.1, 1, 10]})</pre><b>In a Jupyter environment, please rerun this cell to show the HTML representation or trust the notebook. <br />On GitHub, the HTML representation is unable to render, please try loading this page with nbviewer.org.</b></div><div class=\"sk-container\" hidden><div class=\"sk-item sk-dashed-wrapped\"><div class=\"sk-label-container\"><div class=\"sk-label sk-toggleable\"><input class=\"sk-toggleable__control sk-hidden--visually\" id=\"sk-estimator-id-7\" type=\"checkbox\" ><label for=\"sk-estimator-id-7\" class=\"sk-toggleable__label sk-toggleable__label-arrow\">GridSearchCV</label><div class=\"sk-toggleable__content\"><pre>GridSearchCV(cv=KFold(n_splits=10, random_state=None, shuffle=False),\n",
              "             estimator=SVC(),\n",
              "             param_grid={&#x27;C&#x27;: [0.1, 1, 10], &#x27;gamma&#x27;: [0.1, 1, 10]})</pre></div></div></div><div class=\"sk-parallel\"><div class=\"sk-parallel-item\"><div class=\"sk-item\"><div class=\"sk-label-container\"><div class=\"sk-label sk-toggleable\"><input class=\"sk-toggleable__control sk-hidden--visually\" id=\"sk-estimator-id-8\" type=\"checkbox\" ><label for=\"sk-estimator-id-8\" class=\"sk-toggleable__label sk-toggleable__label-arrow\">estimator: SVC</label><div class=\"sk-toggleable__content\"><pre>SVC()</pre></div></div></div><div class=\"sk-serial\"><div class=\"sk-item\"><div class=\"sk-estimator sk-toggleable\"><input class=\"sk-toggleable__control sk-hidden--visually\" id=\"sk-estimator-id-9\" type=\"checkbox\" ><label for=\"sk-estimator-id-9\" class=\"sk-toggleable__label sk-toggleable__label-arrow\">SVC</label><div class=\"sk-toggleable__content\"><pre>SVC()</pre></div></div></div></div></div></div></div></div></div></div>"
            ]
          },
          "metadata": {},
          "execution_count": 57
        }
      ]
    },
    {
      "cell_type": "code",
      "source": [
        "svm_bestparam = grid_svm.best_params_\n",
        "print(\"The best parameters for SVM:\", svm_bestparam)\n"
      ],
      "metadata": {
        "colab": {
          "base_uri": "https://localhost:8080/"
        },
        "id": "rwG7z02pJtoM",
        "outputId": "80063bfa-99bb-4979-dae7-568e554ca53d"
      },
      "execution_count": 58,
      "outputs": [
        {
          "output_type": "stream",
          "name": "stdout",
          "text": [
            "The best parameters for SVM: {'C': 10, 'gamma': 10}\n"
          ]
        }
      ]
    },
    {
      "cell_type": "markdown",
      "source": [
        "### Analysis of Parameter(s)\n",
        "\n",
        "For both regularization parameter $C$ and the width of the Guassian kernal parameter $\\gamma$, I use the same values as done in  the Penalized Logistic Regression model: [ $0.01$, $0.1$, $1$, $10$, $100$]. However, I omit $0.01$ and $100$ due to the very long run time. After tuning the SVM model using gridsearch CV, the optimal parameters when $C=10$ and $\\gamma=10$. As a result, I will use these to evaulate the model."
      ],
      "metadata": {
        "id": "EEUPPQoVXCGm"
      }
    },
    {
      "cell_type": "markdown",
      "source": [
        "## Model Evaluation\n",
        "\n",
        "### Part A"
      ],
      "metadata": {
        "id": "XJK9fQrFJwjV"
      }
    },
    {
      "cell_type": "code",
      "source": [
        "svm_testscore = round(grid_svm.score(X_test_scaled, y_test), 7)\n",
        "print(\"Test score for SVM:\", svm_testscore)"
      ],
      "metadata": {
        "colab": {
          "base_uri": "https://localhost:8080/"
        },
        "id": "DXfynrlCgyMw",
        "outputId": "b9cc5167-98f9-45bd-f4d1-bd48485b8905"
      },
      "execution_count": 59,
      "outputs": [
        {
          "output_type": "stream",
          "name": "stdout",
          "text": [
            "Test score for SVM: 0.7763301\n"
          ]
        }
      ]
    },
    {
      "cell_type": "markdown",
      "source": [
        "### Part B"
      ],
      "metadata": {
        "id": "Wn89xazQMYL8"
      }
    },
    {
      "cell_type": "code",
      "source": [
        "svm_best_cv = round(grid_svm.best_score_ ,7)\n",
        "print(\"Optimal mean cross-validation score for SVM:\", svm_best_cv)"
      ],
      "metadata": {
        "colab": {
          "base_uri": "https://localhost:8080/"
        },
        "id": "WtOAqKQuUz-_",
        "outputId": "7329e250-2e02-4141-861b-1836e1d48a88"
      },
      "execution_count": 60,
      "outputs": [
        {
          "output_type": "stream",
          "name": "stdout",
          "text": [
            "Optimal mean cross-validation score for SVM: 0.7790761\n"
          ]
        }
      ]
    },
    {
      "cell_type": "markdown",
      "source": [
        "### Analysis:\n",
        "\n",
        "The test score for SVM is $0.7763301$ and the optimal mean cross-validation score is $0.7790761$. Although these scores are better than the scores for the Penalized Logistic Regression model, the best model so far for evaluating this data is KNN, as it has the highest optimal mean cross-validation ($0.7834239$).\n",
        "\n",
        "List of optimal mean cross-validation scores through Question 10:\n",
        "\n",
        "1. KNN $= 0.7834239$\n",
        "\n",
        "2. Penalized Logistic Regression $= 0.7695652$\n",
        "\n",
        "3. SVM $= 0.7790761$\n",
        "\n",
        "----"
      ],
      "metadata": {
        "id": "BQHNboyLXlpB"
      }
    },
    {
      "cell_type": "markdown",
      "source": [
        "# Question 11\n",
        "\n",
        "Choose a fourth model from question four.  Using the same three variables in the dataset that you think will be good predictors of \"spam\".  Describe why you chose any particular parameters for your model (e.g.- if you used KNN how did you decide to choose a specific value for k). Run the model and evaluate prediction error in two ways: A) On test data directly and B) using k-fold cross-validation. Evaluate prediction error, did this model predict better than your previous models?\n",
        "\n"
      ],
      "metadata": {
        "id": "5-ohLJ0JkKkg"
      }
    },
    {
      "cell_type": "markdown",
      "source": [
        "## Decision Tree Classifier\n",
        "\n",
        "### Finding optimal parameter"
      ],
      "metadata": {
        "id": "hU08dITUcsVh"
      }
    },
    {
      "cell_type": "code",
      "source": [
        "'''\n",
        "Decision Tree Model\n",
        "'''\n",
        "\n",
        "from sklearn.tree import DecisionTreeClassifier\n",
        "decision_tree = DecisionTreeClassifier(random_state=42)"
      ],
      "metadata": {
        "id": "cucq0g5APFCf"
      },
      "execution_count": 61,
      "outputs": []
    },
    {
      "cell_type": "code",
      "source": [
        "hyperparameters = {'max_depth': np.arange(1,9)}\n",
        "\n",
        "grid_tree = GridSearchCV(decision_tree, param_grid=hyperparameters, cv=kfold)\n",
        "grid_tree.fit(X_train_scaled, y_train)\n"
      ],
      "metadata": {
        "colab": {
          "base_uri": "https://localhost:8080/",
          "height": 115
        },
        "id": "fh9_RdA3PyYH",
        "outputId": "35d04c3e-fad9-4536-b1c2-d5bd032f5ab2"
      },
      "execution_count": 62,
      "outputs": [
        {
          "output_type": "execute_result",
          "data": {
            "text/plain": [
              "GridSearchCV(cv=KFold(n_splits=10, random_state=None, shuffle=False),\n",
              "             estimator=DecisionTreeClassifier(random_state=42),\n",
              "             param_grid={'max_depth': array([1, 2, 3, 4, 5, 6, 7, 8])})"
            ],
            "text/html": [
              "<style>#sk-container-id-4 {color: black;background-color: white;}#sk-container-id-4 pre{padding: 0;}#sk-container-id-4 div.sk-toggleable {background-color: white;}#sk-container-id-4 label.sk-toggleable__label {cursor: pointer;display: block;width: 100%;margin-bottom: 0;padding: 0.3em;box-sizing: border-box;text-align: center;}#sk-container-id-4 label.sk-toggleable__label-arrow:before {content: \"▸\";float: left;margin-right: 0.25em;color: #696969;}#sk-container-id-4 label.sk-toggleable__label-arrow:hover:before {color: black;}#sk-container-id-4 div.sk-estimator:hover label.sk-toggleable__label-arrow:before {color: black;}#sk-container-id-4 div.sk-toggleable__content {max-height: 0;max-width: 0;overflow: hidden;text-align: left;background-color: #f0f8ff;}#sk-container-id-4 div.sk-toggleable__content pre {margin: 0.2em;color: black;border-radius: 0.25em;background-color: #f0f8ff;}#sk-container-id-4 input.sk-toggleable__control:checked~div.sk-toggleable__content {max-height: 200px;max-width: 100%;overflow: auto;}#sk-container-id-4 input.sk-toggleable__control:checked~label.sk-toggleable__label-arrow:before {content: \"▾\";}#sk-container-id-4 div.sk-estimator input.sk-toggleable__control:checked~label.sk-toggleable__label {background-color: #d4ebff;}#sk-container-id-4 div.sk-label input.sk-toggleable__control:checked~label.sk-toggleable__label {background-color: #d4ebff;}#sk-container-id-4 input.sk-hidden--visually {border: 0;clip: rect(1px 1px 1px 1px);clip: rect(1px, 1px, 1px, 1px);height: 1px;margin: -1px;overflow: hidden;padding: 0;position: absolute;width: 1px;}#sk-container-id-4 div.sk-estimator {font-family: monospace;background-color: #f0f8ff;border: 1px dotted black;border-radius: 0.25em;box-sizing: border-box;margin-bottom: 0.5em;}#sk-container-id-4 div.sk-estimator:hover {background-color: #d4ebff;}#sk-container-id-4 div.sk-parallel-item::after {content: \"\";width: 100%;border-bottom: 1px solid gray;flex-grow: 1;}#sk-container-id-4 div.sk-label:hover label.sk-toggleable__label {background-color: #d4ebff;}#sk-container-id-4 div.sk-serial::before {content: \"\";position: absolute;border-left: 1px solid gray;box-sizing: border-box;top: 0;bottom: 0;left: 50%;z-index: 0;}#sk-container-id-4 div.sk-serial {display: flex;flex-direction: column;align-items: center;background-color: white;padding-right: 0.2em;padding-left: 0.2em;position: relative;}#sk-container-id-4 div.sk-item {position: relative;z-index: 1;}#sk-container-id-4 div.sk-parallel {display: flex;align-items: stretch;justify-content: center;background-color: white;position: relative;}#sk-container-id-4 div.sk-item::before, #sk-container-id-4 div.sk-parallel-item::before {content: \"\";position: absolute;border-left: 1px solid gray;box-sizing: border-box;top: 0;bottom: 0;left: 50%;z-index: -1;}#sk-container-id-4 div.sk-parallel-item {display: flex;flex-direction: column;z-index: 1;position: relative;background-color: white;}#sk-container-id-4 div.sk-parallel-item:first-child::after {align-self: flex-end;width: 50%;}#sk-container-id-4 div.sk-parallel-item:last-child::after {align-self: flex-start;width: 50%;}#sk-container-id-4 div.sk-parallel-item:only-child::after {width: 0;}#sk-container-id-4 div.sk-dashed-wrapped {border: 1px dashed gray;margin: 0 0.4em 0.5em 0.4em;box-sizing: border-box;padding-bottom: 0.4em;background-color: white;}#sk-container-id-4 div.sk-label label {font-family: monospace;font-weight: bold;display: inline-block;line-height: 1.2em;}#sk-container-id-4 div.sk-label-container {text-align: center;}#sk-container-id-4 div.sk-container {/* jupyter's `normalize.less` sets `[hidden] { display: none; }` but bootstrap.min.css set `[hidden] { display: none !important; }` so we also need the `!important` here to be able to override the default hidden behavior on the sphinx rendered scikit-learn.org. See: https://github.com/scikit-learn/scikit-learn/issues/21755 */display: inline-block !important;position: relative;}#sk-container-id-4 div.sk-text-repr-fallback {display: none;}</style><div id=\"sk-container-id-4\" class=\"sk-top-container\"><div class=\"sk-text-repr-fallback\"><pre>GridSearchCV(cv=KFold(n_splits=10, random_state=None, shuffle=False),\n",
              "             estimator=DecisionTreeClassifier(random_state=42),\n",
              "             param_grid={&#x27;max_depth&#x27;: array([1, 2, 3, 4, 5, 6, 7, 8])})</pre><b>In a Jupyter environment, please rerun this cell to show the HTML representation or trust the notebook. <br />On GitHub, the HTML representation is unable to render, please try loading this page with nbviewer.org.</b></div><div class=\"sk-container\" hidden><div class=\"sk-item sk-dashed-wrapped\"><div class=\"sk-label-container\"><div class=\"sk-label sk-toggleable\"><input class=\"sk-toggleable__control sk-hidden--visually\" id=\"sk-estimator-id-10\" type=\"checkbox\" ><label for=\"sk-estimator-id-10\" class=\"sk-toggleable__label sk-toggleable__label-arrow\">GridSearchCV</label><div class=\"sk-toggleable__content\"><pre>GridSearchCV(cv=KFold(n_splits=10, random_state=None, shuffle=False),\n",
              "             estimator=DecisionTreeClassifier(random_state=42),\n",
              "             param_grid={&#x27;max_depth&#x27;: array([1, 2, 3, 4, 5, 6, 7, 8])})</pre></div></div></div><div class=\"sk-parallel\"><div class=\"sk-parallel-item\"><div class=\"sk-item\"><div class=\"sk-label-container\"><div class=\"sk-label sk-toggleable\"><input class=\"sk-toggleable__control sk-hidden--visually\" id=\"sk-estimator-id-11\" type=\"checkbox\" ><label for=\"sk-estimator-id-11\" class=\"sk-toggleable__label sk-toggleable__label-arrow\">estimator: DecisionTreeClassifier</label><div class=\"sk-toggleable__content\"><pre>DecisionTreeClassifier(random_state=42)</pre></div></div></div><div class=\"sk-serial\"><div class=\"sk-item\"><div class=\"sk-estimator sk-toggleable\"><input class=\"sk-toggleable__control sk-hidden--visually\" id=\"sk-estimator-id-12\" type=\"checkbox\" ><label for=\"sk-estimator-id-12\" class=\"sk-toggleable__label sk-toggleable__label-arrow\">DecisionTreeClassifier</label><div class=\"sk-toggleable__content\"><pre>DecisionTreeClassifier(random_state=42)</pre></div></div></div></div></div></div></div></div></div></div>"
            ]
          },
          "metadata": {},
          "execution_count": 62
        }
      ]
    },
    {
      "cell_type": "code",
      "source": [
        "tree_bestparam = grid_tree.best_params_\n",
        "print(\"The best parameters for Decision Tree Classifier:\", tree_bestparam)\n"
      ],
      "metadata": {
        "colab": {
          "base_uri": "https://localhost:8080/"
        },
        "id": "18UlHr-ySA-p",
        "outputId": "4ae44195-4d19-4ab5-a670-947ed960e120"
      },
      "execution_count": 63,
      "outputs": [
        {
          "output_type": "stream",
          "name": "stdout",
          "text": [
            "The best parameters for Decision Tree Classifier: {'max_depth': 5}\n"
          ]
        }
      ]
    },
    {
      "cell_type": "markdown",
      "source": [
        "### Analysis of Parameters\n",
        "\n",
        "The last model I am using is the Decision Tree Classifer. Unlike the previous models, I will not scale the data since this does not involve classifying based off distances, like KNN or SVM.\n",
        "\n",
        "The only parameter I decided to tune in the decision tree is the max depth. I set the parameters to be 1 through 9.\n",
        "\n",
        "The gini coefficent and entropy scores tend to be the same; as a result, it did not make sense to tune the criterion. Additionally, min_leaf_samples is a hard parameter to tune because it is difficult to find a minumum number of observations at each internal node. As a result, I set it to its default.\n",
        "\n",
        "The best max_depth parameter is 5. As a resutlt, I will use this parameter to evaulate the model."
      ],
      "metadata": {
        "id": "9JmrShvGYe5E"
      }
    },
    {
      "cell_type": "markdown",
      "source": [
        "### Part A"
      ],
      "metadata": {
        "id": "lg4moycAd_75"
      }
    },
    {
      "cell_type": "code",
      "source": [
        "tree_testscore = round(grid_tree.score(X_test_scaled, y_test), 7)\n",
        "print(\"Test score for Decision Tree Classification:\", tree_testscore)"
      ],
      "metadata": {
        "colab": {
          "base_uri": "https://localhost:8080/"
        },
        "id": "nzs0uwAXSK4T",
        "outputId": "ab2232e5-a226-49d6-948f-e8cb2a9dbc6f"
      },
      "execution_count": 64,
      "outputs": [
        {
          "output_type": "stream",
          "name": "stdout",
          "text": [
            "Test score for Decision Tree Classification: 0.7795874\n"
          ]
        }
      ]
    },
    {
      "cell_type": "markdown",
      "source": [
        "### Part B"
      ],
      "metadata": {
        "id": "76P4ZkOdeBEN"
      }
    },
    {
      "cell_type": "code",
      "source": [
        "tree_best_cv = round(grid_tree.best_score_ ,7)\n",
        "print(\"Optimal mean cross-validation score for Decision Tree Classification:\", tree_best_cv)"
      ],
      "metadata": {
        "colab": {
          "base_uri": "https://localhost:8080/"
        },
        "id": "sLguqmBVSKs3",
        "outputId": "ecfaee0b-81f3-4a5a-d66c-236e08c44dec"
      },
      "execution_count": 65,
      "outputs": [
        {
          "output_type": "stream",
          "name": "stdout",
          "text": [
            "Optimal mean cross-validation score for Decision Tree Classification: 0.7861413\n"
          ]
        }
      ]
    },
    {
      "cell_type": "markdown",
      "source": [
        "### Analysis:\n",
        "\n",
        "The Decision Tree Classifier has the highest optimal mean cross-validation score amongst all models tested. As a result, it is the best model to evaluate new data.\n",
        "\n",
        "List of optimal mean cross-validation scores through Question 11:\n",
        "\n",
        "1. KNN $= 0.7834239$\n",
        "\n",
        "2. Penalized Logistic Regression $= 0.7695652$\n",
        "\n",
        "3. SVM $= 0.7790761$\n",
        "\n",
        "4. Decision Tree Classifier $=0.7861413$"
      ],
      "metadata": {
        "id": "MyTE6TtPeIgj"
      }
    },
    {
      "cell_type": "markdown",
      "source": [
        "----\n",
        "\n",
        "## Question 12\n",
        "\n",
        "Now rerun your best model from questions 8 through 11, but this time add three new variables to the model that you think will increase prediction accuracy.   Did this model predict test data better than your previous models?  \n",
        "\n"
      ],
      "metadata": {
        "id": "WQZ19OINmMDQ"
      }
    },
    {
      "cell_type": "markdown",
      "source": [
        "The additional variables I believe will increase the prediction accuracy are are listed below:\n",
        "\n",
        "1. word_freq_receive:\n",
        "\n",
        "2. word_freq_business:\n",
        "\n",
        "3. word_freq_order:\n",
        "\n"
      ],
      "metadata": {
        "id": "vBaNvtF3pBVH"
      }
    },
    {
      "cell_type": "code",
      "source": [
        "#Creating y and X variables\n",
        "X = spam_df[['word_freq_your:', 'word_freq_money:', 'word_freq_credit:',\n",
        "             'word_freq_receive:', 'word_freq_business:', 'word_freq_order:']]\n",
        "y = spam_df['spam']\n"
      ],
      "metadata": {
        "id": "OJYrlbramBd2"
      },
      "execution_count": 66,
      "outputs": []
    },
    {
      "cell_type": "code",
      "source": [
        "#Splitting X and y into testing and training with default split (80% training and 20% testing)\n",
        "X_train, X_test, y_train, y_test = train_test_split(X, y, random_state=42, train_size=0.8)\n",
        "\n"
      ],
      "metadata": {
        "id": "AJztk4CHqdVP"
      },
      "execution_count": 67,
      "outputs": []
    },
    {
      "cell_type": "markdown",
      "source": [
        "## Decision Tree Model\n",
        "\n",
        "The best model (the one with the highest optimal cross-validation score) was the Decision Tree Classifer model with a max_depth of 5.\n",
        "\n",
        "### Using the same parameters as Question 11\n",
        "\n",
        "I will evaluate the mean cross-validation score of the model with the three new features, using the same parameters from Question 11 (max_depth $=5$)."
      ],
      "metadata": {
        "id": "i-CeA3HtKgGb"
      }
    },
    {
      "cell_type": "code",
      "source": [
        "from sklearn.model_selection import cross_val_score\n",
        "\n",
        "decision_tree = DecisionTreeClassifier(max_depth=5, random_state=42)\n",
        "\n",
        "decision_tree.fit(X_train, y_train)\n",
        "decision_tree_mean_score = cross_val_score(decision_tree, X_train, y_train, cv=kfold).mean()\n",
        "\n",
        "print(\"Test score for Decision Tree Classifier: \", round(decision_tree.score(X_test, y_test), 7))\n",
        "print(\"Mean cross-validation score for Decision Tree Classifier: \", round(decision_tree_mean_score, 7))\n"
      ],
      "metadata": {
        "colab": {
          "base_uri": "https://localhost:8080/"
        },
        "id": "HfrkGIpOKlnB",
        "outputId": "4d83ee3e-12bb-40ab-d44a-3843e82b3734"
      },
      "execution_count": 68,
      "outputs": [
        {
          "output_type": "stream",
          "name": "stdout",
          "text": [
            "Test score for Decision Tree Classifier:  0.7774159\n",
            "Mean cross-validation score for Decision Tree Classifier:  0.8103261\n"
          ]
        }
      ]
    },
    {
      "cell_type": "markdown",
      "source": [
        "### Analysis:\n",
        "\n",
        "The mean cross-validation score using the same parameters as the Decision Tree Classifier used in Question 11 (max_depth $=5$) was higher than when three variables were added. The mean cross-validation scores are listed below for reference:\n",
        "\n",
        "1. Decision Tree Classifier with only the original three features (from Question 11): $0.7861413$\n",
        "2. Decision Tree Classifier with the six features: $0.8103261$\n",
        "\n",
        "\n",
        "I will also tune the new Decision Tree Classifier model to find the optimal parameters for max_depth using GridSearchCV. This will allow me to make a final decision on which model I would use to evaluate the data. I will use the same hyperparameters from Question 11."
      ],
      "metadata": {
        "id": "ajy5JNaKK4rm"
      }
    },
    {
      "cell_type": "code",
      "source": [
        "decision_tree = DecisionTreeClassifier(random_state=42)\n",
        "\n",
        "hyperparameters = {'max_depth': np.arange(1,9)}\n",
        "\n",
        "grid_tree = GridSearchCV(decision_tree, param_grid=hyperparameters, cv=kfold)\n",
        "grid_tree.fit(X_train, y_train)\n",
        "\n",
        "print(\"The best parameters for DecisionTree Classifier:\", grid_tree.best_params_)\n",
        "print(\"Test score for DecisionTree Classifier:\", round(grid_tree.score(X_test, y_test), 7))\n",
        "print(\"Optimal mean cross-validation score for DecisionTree Classifier:\", round(grid_tree.best_score_ ,7))"
      ],
      "metadata": {
        "colab": {
          "base_uri": "https://localhost:8080/"
        },
        "id": "ye2IdMu5LoKP",
        "outputId": "c344a7c8-c4a7-4ba1-a03f-a4cdbdbe4d0f"
      },
      "execution_count": 69,
      "outputs": [
        {
          "output_type": "stream",
          "name": "stdout",
          "text": [
            "The best parameters for DecisionTree Classifier: {'max_depth': 8}\n",
            "Test score for DecisionTree Classifier: 0.7904452\n",
            "Optimal mean cross-validation score for DecisionTree Classifier: 0.8163043\n"
          ]
        }
      ]
    },
    {
      "cell_type": "markdown",
      "source": [
        "### Decision Tree Classifier GridsearchCV Analysis:\n",
        "\n",
        "\n",
        "After running a GridSearchCV model for the Decision Tree Classifer with all six variables, the optimal parameter is when the max depth is $8$. Additionally, the optimal mean cross-validation is $0.8163043$, which is higher than when had the max_depth was set to $5$.\n",
        "\n",
        "----"
      ],
      "metadata": {
        "id": "Ncbj4lh9O2j8"
      }
    },
    {
      "cell_type": "markdown",
      "source": [
        "# Question 13\n",
        "\n",
        "Rerun all your other models with this final set of six variables, evaluate prediction error, and choose a final model.  Why did you select this model among all of the models that you ran?  \n",
        "\n"
      ],
      "metadata": {
        "id": "ubS9LL_Hj_B4"
      }
    },
    {
      "cell_type": "markdown",
      "source": [
        "\n",
        "### Method\n",
        "\n",
        "Like my Decision Tree Classifier model, I am going to run models with the optimal parameters from the previous questions to evaluate whether or not the original model improved when more variables were added. After, I am going to tune the models to see find the optimal parameters with the new independent variables. This will allow me to make a proper decision on the final model I will choose."
      ],
      "metadata": {
        "id": "-Xuz8okGPWwm"
      }
    },
    {
      "cell_type": "markdown",
      "source": [
        "## SVM\n",
        "\n",
        "### Using the same parameters as Question 10\n",
        "\n",
        "$C=10$ and $\\gamma=10$"
      ],
      "metadata": {
        "id": "UcVdYiZXerAa"
      }
    },
    {
      "cell_type": "code",
      "source": [
        "'''\n",
        "Since the SVM gridsearchCV model in Question 9 was run with X scaled data, using MinMaxScaler, I\n",
        "am going to scale the new X training data with the same function\n",
        "'''\n",
        "\n",
        "#Scaling X training and testing data using the StandardScaler function\n",
        "scaler = MinMaxScaler()\n",
        "scaler.fit(X_train)\n",
        "X_train_scaled = scaler.transform(X_train)\n",
        "X_test_scaled = scaler.transform(X_test)"
      ],
      "metadata": {
        "id": "C4YPYkEFXCrR"
      },
      "execution_count": 70,
      "outputs": []
    },
    {
      "cell_type": "code",
      "source": [
        "svm = SVC(C=10, gamma=10)\n",
        "\n",
        "svm.fit(X_train_scaled, y_train)\n",
        "svm_mean_score = cross_val_score(svm, X_train_scaled, y_train, cv=kfold).mean()\n",
        "\n",
        "print(\"Test score for SVM: \", round(svm.score(X_test_scaled, y_test), 7))\n",
        "print(\"Mean cross-validation score: \", round(svm_mean_score, 7))\n"
      ],
      "metadata": {
        "id": "AfKaTq51qwIw",
        "colab": {
          "base_uri": "https://localhost:8080/"
        },
        "outputId": "850a7869-0d1b-4701-f792-e4c2406992dd"
      },
      "execution_count": 71,
      "outputs": [
        {
          "output_type": "stream",
          "name": "stdout",
          "text": [
            "Test score for SVM:  0.7926167\n",
            "Mean cross-validation score:  0.8127717\n"
          ]
        }
      ]
    },
    {
      "cell_type": "markdown",
      "source": [
        "### Analysis:\n",
        "\n",
        "The mean cross-validation score using the same parameters as the SVM used in Question 10 ($C=10$ and $\\gamma=10$) was higher than when three variables were added. The mean cross-validation scores are listed below for reference:\n",
        "\n",
        "1. SVM  with only the original three features (from Question 10): $0.7790761$\n",
        "2. SVM with the six features: $0.8127717$\n"
      ],
      "metadata": {
        "id": "hhoftl_5gNT1"
      }
    },
    {
      "cell_type": "markdown",
      "source": [
        "\n",
        "\n",
        "I will also tune the new SVM model to find the optimal parameters for $C$ and $\\gamma$ using GridSearchCV. This will allow me to make a final decision on which model I would use to evaluate the data. I will use the same hyperparameters from Question 10."
      ],
      "metadata": {
        "id": "pp7BtVqYi00o"
      }
    },
    {
      "cell_type": "code",
      "source": [
        "'''\n",
        "IMPORANT: Please allow 30 to 60 seconds to run\n",
        "'''\n",
        "\n",
        "svm = SVC()\n",
        "\n",
        "hyperparameters = {'C': [0.1, 1,10], 'gamma': [0.1, 1,10]}\n",
        "\n",
        "grid_svm = GridSearchCV(svm, param_grid=hyperparameters, cv=kfold)\n",
        "grid_svm.fit(X_train_scaled, y_train)\n",
        "\n",
        "print(\"The best parameters for SVM:\", grid_svm.best_params_)\n",
        "print(\"Test score for SVM:\", round(grid_svm.score(X_test_scaled, y_test), 7))\n",
        "print(\"Optimal mean cross-validation score for SVM:\", round(grid_svm.best_score_ ,7))"
      ],
      "metadata": {
        "id": "5Pew_v1arKPl",
        "colab": {
          "base_uri": "https://localhost:8080/"
        },
        "outputId": "1df331e8-b53d-46ce-9f6c-d6fae63e19ac"
      },
      "execution_count": 72,
      "outputs": [
        {
          "output_type": "stream",
          "name": "stdout",
          "text": [
            "The best parameters for SVM: {'C': 10, 'gamma': 10}\n",
            "Test score for SVM: 0.7926167\n",
            "Optimal mean cross-validation score for SVM: 0.8127717\n"
          ]
        }
      ]
    },
    {
      "cell_type": "markdown",
      "source": [
        "### SVM GridsearchCV Analysis:\n",
        "\n",
        "The optimal parameters for SVM are the same as those found in Question 10. However, the optimal mean cross-validation score increased when we added more variables.\n",
        "\n",
        "---"
      ],
      "metadata": {
        "id": "2QLu_U00irmA"
      }
    },
    {
      "cell_type": "markdown",
      "source": [
        "## KNN\n",
        "\n",
        "### Paramters from Question 8\n",
        "\n",
        "n-neighbors $= 17$"
      ],
      "metadata": {
        "id": "ZR_VRYFfoSQN"
      }
    },
    {
      "cell_type": "code",
      "source": [
        "'''\n",
        "Since the KNN gridsearchCV model in Question 8 was run with X scaled data, using StandardScaler, I\n",
        "am going to scale the new X training data with the same funciton\n",
        "'''\n",
        "\n",
        "#Scaling X training and testing data using the StandardScaler function\n",
        "scaler = StandardScaler()\n",
        "scaler.fit(X_train)\n",
        "X_train_scaled = scaler.transform(X_train)\n",
        "X_test_scaled = scaler.transform(X_test)"
      ],
      "metadata": {
        "id": "DrGxHgA6os1c"
      },
      "execution_count": 73,
      "outputs": []
    },
    {
      "cell_type": "code",
      "source": [
        "knn = KNeighborsClassifier(n_neighbors=17)\n",
        "\n",
        "knn.fit(X_train_scaled, y_train)\n",
        "knn_mean_score = cross_val_score(knn, X_train_scaled, y_train, cv=kfold).mean()\n",
        "\n",
        "print(\"Test score for KNN:\", round(knn.score(X_test_scaled, y_test), 7))\n",
        "print(\"Mean cross-validation score for KNN:\", round(knn_mean_score, 7))\n"
      ],
      "metadata": {
        "colab": {
          "base_uri": "https://localhost:8080/"
        },
        "id": "W7NwZXxMoxFP",
        "outputId": "3321d63c-51e0-4c53-8fe7-781f94aeaa50"
      },
      "execution_count": 74,
      "outputs": [
        {
          "output_type": "stream",
          "name": "stdout",
          "text": [
            "Test score for KNN: 0.8023887\n",
            "Mean cross-validation score for KNN: 0.8048913\n"
          ]
        }
      ]
    },
    {
      "cell_type": "markdown",
      "source": [
        "### Analysis\n",
        "\n",
        "The mean cross-validation score using the same parameter as the KNN used in Question 10 (n_neighbors$=17$) was higher than when three variables were added. he mean cross-validation scores are listed below for reference:\n",
        "\n",
        "1. KNN with the original three features (from Question 8): $0.7834239$\n",
        "2. KNN with the six features: $0.8048913$"
      ],
      "metadata": {
        "id": "2a0PaVOhpQCh"
      }
    },
    {
      "cell_type": "markdown",
      "source": [
        "I will also tune the new KNN model to find the optimal parameter of the nearest neighbors using GridSearchCV. This will allow me to make a final decision on which model I would use to evaluate the data. I will use the same hyperparameters from Question 8."
      ],
      "metadata": {
        "id": "GgEIgPSkpu-F"
      }
    },
    {
      "cell_type": "code",
      "source": [
        "knn = KNeighborsClassifier()\n",
        "\n",
        "hyperparameters = {'n_neighbors': np.arange(1, 23, 2) }\n",
        "\n",
        "grid_knn = GridSearchCV(knn, param_grid=hyperparameters, cv=kfold)\n",
        "grid_knn.fit(X_train_scaled, y_train)\n",
        "\n",
        "print(\"The best parameters for KNN:\", grid_knn.best_params_)\n",
        "print(\"Test score for KNN:\", round(grid_knn.score(X_test_scaled, y_test), 7))\n",
        "print(\"Optimal mean cross-validation score for KNN:\", round(grid_knn.best_score_ ,7))"
      ],
      "metadata": {
        "colab": {
          "base_uri": "https://localhost:8080/"
        },
        "id": "vX0GXdeIp1PV",
        "outputId": "ac345f45-1e47-47d7-f8eb-7fa6ada5da2c"
      },
      "execution_count": 75,
      "outputs": [
        {
          "output_type": "stream",
          "name": "stdout",
          "text": [
            "The best parameters for KNN: {'n_neighbors': 9}\n",
            "Test score for KNN: 0.8099891\n",
            "Optimal mean cross-validation score for KNN: 0.8179348\n"
          ]
        }
      ]
    },
    {
      "cell_type": "markdown",
      "source": [
        "### KNN GridsearchCV Analysis:\n",
        "\n",
        "\n",
        "After running a GridSearchCV model for the KNN with all six variables, the optimal parameter  is when n_neighbors $=9$. Additionally, the optimal mean cross-validation is $0.8179348$, which is higher than when we had n_neighbors set to $17$."
      ],
      "metadata": {
        "id": "0FToR9AOR68h"
      }
    },
    {
      "cell_type": "markdown",
      "source": [
        "### Logistic Regression\n",
        "\n",
        "### Parameters from Question 9\n",
        "\n",
        "$C=10$ and Penalty=$L2$\n",
        "\n",
        "\n"
      ],
      "metadata": {
        "id": "XL35vFU_krh2"
      }
    },
    {
      "cell_type": "code",
      "source": [
        "logreg =LogisticRegression(C=10, penalty='l2', max_iter=1000000)\n",
        "\n",
        "logreg.fit(X_train_scaled, y_train)\n",
        "logreg_mean_score = cross_val_score(logreg, X_train_scaled, y_train, cv=kfold).mean()\n",
        "\n",
        "print(\"The test score for Logistic Regression: \", round(logreg.score(X_test_scaled, y_test), 7))\n",
        "print(\"The mean cross-validation score for Logistic Regression: \", round(logreg_mean_score, 7))\n"
      ],
      "metadata": {
        "id": "p60fypUGrka7",
        "colab": {
          "base_uri": "https://localhost:8080/"
        },
        "outputId": "eea2dd7b-2e0c-49aa-f090-9a94a253bb19"
      },
      "execution_count": 76,
      "outputs": [
        {
          "output_type": "stream",
          "name": "stdout",
          "text": [
            "The test score for Logistic Regression:  0.7665581\n",
            "The mean cross-validation score for Logistic Regression:  0.7915761\n"
          ]
        }
      ]
    },
    {
      "cell_type": "markdown",
      "source": [
        "### Analysis\n",
        "\n",
        "The mean cross-validation score using the same parameters as the Penalized Logistic Regression used in Question 9 ($C=10$ and penalty=$l2$) was higher than when the three original three variables were included. he mean cross-validation scores are listed below for reference:\n",
        "\n",
        "1. Penalized Logistic Regression with the original three features (Optimized): $0.7695652$\n",
        "2. Penalized Logistic Regression with the additional three features: $0.7915761$"
      ],
      "metadata": {
        "id": "7HR2UQLel9Pv"
      }
    },
    {
      "cell_type": "markdown",
      "source": [
        "### Logistic Regression Tuning\n",
        "\n",
        "I will also tune the new Penalized Logistic Regression model to find the optimal parameter $C$ and penalty using GridSearchCV. This will allow me to make a final decision on which model I would use to evaluate the data. I will use the same hyperparameters from Question 9."
      ],
      "metadata": {
        "id": "C_Re87eOmd2H"
      }
    },
    {
      "cell_type": "code",
      "source": [
        "logreg =LogisticRegression(max_iter=1000000)\n",
        "hyperparameters = {'C': [0.001, 0.01, 0.1, 1, 10, 100], 'penalty': ['11', 'l2']}\n",
        "\n",
        "\n",
        "grid_logreg = GridSearchCV(logreg, param_grid=hyperparameters, cv=kfold)\n",
        "grid_logreg.fit(X_train_scaled, y_train)\n",
        "\n",
        "print(\"The best parameters for Logistic Regression:\", grid_logreg.best_params_)\n",
        "print(\"Test score for Logistic Regression:\", round(grid_logreg.score(X_test_scaled, y_test), 7))\n",
        "print(\"Optimal mean cross-validation score for Logistic Regression:\", round(grid_logreg.best_score_ ,7))"
      ],
      "metadata": {
        "id": "wD38g35CsE0Y",
        "colab": {
          "base_uri": "https://localhost:8080/"
        },
        "outputId": "9080a2e6-8c69-452f-caa0-cd8c7e722747"
      },
      "execution_count": 77,
      "outputs": [
        {
          "output_type": "stream",
          "name": "stdout",
          "text": [
            "The best parameters for Logistic Regression: {'C': 1, 'penalty': 'l2'}\n",
            "Test score for Logistic Regression: 0.762215\n",
            "Optimal mean cross-validation score for Logistic Regression: 0.7915761\n"
          ]
        }
      ]
    },
    {
      "cell_type": "markdown",
      "source": [
        "The optimal parameter is when $C=1$ and the penalty is $L2$, giving a mean cross-validation score of $0.7915761$. Although this is the same as when $C=10$ and the penalty is $L2$, I will choose the simplier model ($C=1$). Note that this is only comparing across Penalized Logistic Regression models, not amongst all models.\n",
        "\n",
        "----"
      ],
      "metadata": {
        "id": "SiBzSMhXn0iJ"
      }
    },
    {
      "cell_type": "markdown",
      "source": [
        "### Summary of Results\n",
        "\n",
        "Scores with three Original Variables (tuned):\n",
        "\n",
        "1. KNN $= 0.7834239$\n",
        "\n",
        "2. Penalized Logistic Regression $= 0.7695652$\n",
        "\n",
        "3. SVM $= 0.7790761$\n",
        "\n",
        "4. Decision Tree Classifier $=0.7861413$\n",
        "\n",
        "\n",
        "Scores Scores with all six independent variables using the optimal parameters found in Questions 8 through 11:\n",
        "\n",
        "1. KNN $= 0.8048913$\n",
        "\n",
        "2. Penalized Logistic Regression $ = 0.7915761  $\n",
        "\n",
        "3. SVM $ = 0.8127717 $\n",
        "\n",
        "4. Decision Tree Classifier $= 0.8103261 $\n",
        "\n",
        "Scores with all six independent variables after applyin GridSearchCV:\n",
        "\n",
        "1. KNN $= 0.8179348$\n",
        "\n",
        "2. Penalized Logistic Regression $=0.7915761$\n",
        "\n",
        "3. SVM $= 0.8127717$\n",
        "\n",
        "4. Decision Tree Classifier $= 0.8163043 $\n",
        "\n",
        "\n",
        "## Final Model\n",
        "\n",
        "The best model is the KNN with my six features, after scaling the X training and test data with StandardScaler, and 9 neighbors, which has a mean cross-validation score of $0.8179348$. As a result, I will choose this model. Additionally, it is worth noting that it makes sense that this model will have the best mean cross-validation score. Although the dataset has thousands of observations, it is relatively simple. There is no missing data, and the target feature is binary. Although Logistic Regression and SVM also have close scores, I will choose KNN based off the scoring metric."
      ],
      "metadata": {
        "id": "rLkQAyG-2tYd"
      }
    },
    {
      "cell_type": "markdown",
      "source": [
        "---\n",
        "\n",
        "## Question 14\n",
        "\n",
        "What variable that currently is not in your model, if included, would be likely to increase your final model's predictive power?  For this answer try to speculate about a variable outside the variables available in the data that would improve you model.\n",
        "\n",
        "### Answer\n",
        "\n",
        "One variable that is not in the model but would likely increase my final model's predictive power is the frequenchy of the word \"hello.\" In my experience, a lot of my emails that go to spam, or emails I put in spam, often start with the word \"hello.\" Normally, when someone is trying to solicate money or my information, they start the email with the word \"Hello.\"\n",
        "\n",
        "---"
      ],
      "metadata": {
        "id": "R39s5QsB3cey"
      }
    },
    {
      "cell_type": "markdown",
      "source": [
        "## Question 15\n",
        "\n",
        " Lastly, you have listed each of the models that we have learned to use to predict dependent variables like spam.  List each model we have focused on in class thus far that you could use to evaluate data with a continuous dependent variable."
      ],
      "metadata": {
        "id": "EsdbX5Og4OPn"
      }
    },
    {
      "cell_type": "markdown",
      "source": [
        "### Answer\n",
        "\n",
        "Below, I still out the following models that could be used to evaluate data with a continous dependent variable:\n",
        "\n",
        "1. Linear Regression\n",
        "2. Lasso Regression\n",
        "3. Ridge Regression\n",
        "4. KNeighbors Regression\n",
        "5. Decision Tree Regression\n",
        "6. Random Forest Regression\n",
        "7. Bagging Regression"
      ],
      "metadata": {
        "id": "bUiYmYuD4XQK"
      }
    }
  ]
}