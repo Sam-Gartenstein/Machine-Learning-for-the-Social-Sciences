{
 "cells": [
  {
   "cell_type": "markdown",
   "metadata": {},
   "source": [
    "# Samuel Gartenstein QMSS GR5073 Homework 2"
   ]
  },
  {
   "cell_type": "code",
   "execution_count": 1,
   "metadata": {
    "id": "tH0YKHcI_lgN"
   },
   "outputs": [],
   "source": [
    "#Importing Necessary Libraries\n",
    "import numpy as np\n",
    "import pandas as pd\n",
    "import matplotlib.pyplot as plt\n",
    "import warnings\n",
    "warnings.filterwarnings(\"ignore\")\n"
   ]
  },
  {
   "cell_type": "code",
   "execution_count": 2,
   "metadata": {
    "colab": {
     "base_uri": "https://localhost:8080/",
     "height": 668
    },
    "id": "tMPvTeQd_8_3",
    "outputId": "8224ed13-ac37-4b82-c911-7700320222b2"
   },
   "outputs": [
    {
     "data": {
      "text/html": [
       "<div>\n",
       "<style scoped>\n",
       "    .dataframe tbody tr th:only-of-type {\n",
       "        vertical-align: middle;\n",
       "    }\n",
       "\n",
       "    .dataframe tbody tr th {\n",
       "        vertical-align: top;\n",
       "    }\n",
       "\n",
       "    .dataframe thead th {\n",
       "        text-align: right;\n",
       "    }\n",
       "</style>\n",
       "<table border=\"1\" class=\"dataframe\">\n",
       "  <thead>\n",
       "    <tr style=\"text-align: right;\">\n",
       "      <th></th>\n",
       "      <th>rownames</th>\n",
       "      <th>distcod</th>\n",
       "      <th>county</th>\n",
       "      <th>district</th>\n",
       "      <th>grspan</th>\n",
       "      <th>enrltot</th>\n",
       "      <th>teachers</th>\n",
       "      <th>calwpct</th>\n",
       "      <th>mealpct</th>\n",
       "      <th>computer</th>\n",
       "      <th>testscr</th>\n",
       "      <th>compstu</th>\n",
       "      <th>expnstu</th>\n",
       "      <th>str</th>\n",
       "      <th>avginc</th>\n",
       "      <th>elpct</th>\n",
       "      <th>readscr</th>\n",
       "      <th>mathscr</th>\n",
       "    </tr>\n",
       "  </thead>\n",
       "  <tbody>\n",
       "    <tr>\n",
       "      <th>0</th>\n",
       "      <td>1</td>\n",
       "      <td>75119</td>\n",
       "      <td>Alameda</td>\n",
       "      <td>Sunol Glen Unified</td>\n",
       "      <td>KK-08</td>\n",
       "      <td>195</td>\n",
       "      <td>10.900000</td>\n",
       "      <td>0.510200</td>\n",
       "      <td>2.040800</td>\n",
       "      <td>67</td>\n",
       "      <td>690.799988</td>\n",
       "      <td>0.343590</td>\n",
       "      <td>6384.911133</td>\n",
       "      <td>17.889910</td>\n",
       "      <td>22.690001</td>\n",
       "      <td>0.000000</td>\n",
       "      <td>691.599976</td>\n",
       "      <td>690.000000</td>\n",
       "    </tr>\n",
       "    <tr>\n",
       "      <th>1</th>\n",
       "      <td>2</td>\n",
       "      <td>61499</td>\n",
       "      <td>Butte</td>\n",
       "      <td>Manzanita Elementary</td>\n",
       "      <td>KK-08</td>\n",
       "      <td>240</td>\n",
       "      <td>11.150000</td>\n",
       "      <td>15.416700</td>\n",
       "      <td>47.916698</td>\n",
       "      <td>101</td>\n",
       "      <td>661.200012</td>\n",
       "      <td>0.420833</td>\n",
       "      <td>5099.380859</td>\n",
       "      <td>21.524664</td>\n",
       "      <td>9.824000</td>\n",
       "      <td>4.583333</td>\n",
       "      <td>660.500000</td>\n",
       "      <td>661.900024</td>\n",
       "    </tr>\n",
       "    <tr>\n",
       "      <th>2</th>\n",
       "      <td>3</td>\n",
       "      <td>61549</td>\n",
       "      <td>Butte</td>\n",
       "      <td>Thermalito Union Elementary</td>\n",
       "      <td>KK-08</td>\n",
       "      <td>1550</td>\n",
       "      <td>82.900002</td>\n",
       "      <td>55.032299</td>\n",
       "      <td>76.322601</td>\n",
       "      <td>169</td>\n",
       "      <td>643.599976</td>\n",
       "      <td>0.109032</td>\n",
       "      <td>5501.954590</td>\n",
       "      <td>18.697226</td>\n",
       "      <td>8.978000</td>\n",
       "      <td>30.000002</td>\n",
       "      <td>636.299988</td>\n",
       "      <td>650.900024</td>\n",
       "    </tr>\n",
       "    <tr>\n",
       "      <th>3</th>\n",
       "      <td>4</td>\n",
       "      <td>61457</td>\n",
       "      <td>Butte</td>\n",
       "      <td>Golden Feather Union Elementary</td>\n",
       "      <td>KK-08</td>\n",
       "      <td>243</td>\n",
       "      <td>14.000000</td>\n",
       "      <td>36.475399</td>\n",
       "      <td>77.049202</td>\n",
       "      <td>85</td>\n",
       "      <td>647.700012</td>\n",
       "      <td>0.349794</td>\n",
       "      <td>7101.831055</td>\n",
       "      <td>17.357143</td>\n",
       "      <td>8.978000</td>\n",
       "      <td>0.000000</td>\n",
       "      <td>651.900024</td>\n",
       "      <td>643.500000</td>\n",
       "    </tr>\n",
       "    <tr>\n",
       "      <th>4</th>\n",
       "      <td>5</td>\n",
       "      <td>61523</td>\n",
       "      <td>Butte</td>\n",
       "      <td>Palermo Union Elementary</td>\n",
       "      <td>KK-08</td>\n",
       "      <td>1335</td>\n",
       "      <td>71.500000</td>\n",
       "      <td>33.108601</td>\n",
       "      <td>78.427002</td>\n",
       "      <td>171</td>\n",
       "      <td>640.849976</td>\n",
       "      <td>0.128090</td>\n",
       "      <td>5235.987793</td>\n",
       "      <td>18.671329</td>\n",
       "      <td>9.080333</td>\n",
       "      <td>13.857677</td>\n",
       "      <td>641.799988</td>\n",
       "      <td>639.900024</td>\n",
       "    </tr>\n",
       "    <tr>\n",
       "      <th>5</th>\n",
       "      <td>6</td>\n",
       "      <td>62042</td>\n",
       "      <td>Fresno</td>\n",
       "      <td>Burrel Union Elementary</td>\n",
       "      <td>KK-08</td>\n",
       "      <td>137</td>\n",
       "      <td>6.400000</td>\n",
       "      <td>12.318800</td>\n",
       "      <td>86.956497</td>\n",
       "      <td>25</td>\n",
       "      <td>605.550049</td>\n",
       "      <td>0.182482</td>\n",
       "      <td>5580.146973</td>\n",
       "      <td>21.406250</td>\n",
       "      <td>10.415000</td>\n",
       "      <td>12.408759</td>\n",
       "      <td>605.700012</td>\n",
       "      <td>605.400024</td>\n",
       "    </tr>\n",
       "    <tr>\n",
       "      <th>6</th>\n",
       "      <td>7</td>\n",
       "      <td>68536</td>\n",
       "      <td>San Joaquin</td>\n",
       "      <td>Holt Union Elementary</td>\n",
       "      <td>KK-08</td>\n",
       "      <td>195</td>\n",
       "      <td>10.000000</td>\n",
       "      <td>12.903200</td>\n",
       "      <td>94.623703</td>\n",
       "      <td>28</td>\n",
       "      <td>606.750000</td>\n",
       "      <td>0.143590</td>\n",
       "      <td>5253.331055</td>\n",
       "      <td>19.500000</td>\n",
       "      <td>6.577000</td>\n",
       "      <td>68.717949</td>\n",
       "      <td>604.500000</td>\n",
       "      <td>609.000000</td>\n",
       "    </tr>\n",
       "    <tr>\n",
       "      <th>7</th>\n",
       "      <td>8</td>\n",
       "      <td>63834</td>\n",
       "      <td>Kern</td>\n",
       "      <td>Vineland Elementary</td>\n",
       "      <td>KK-08</td>\n",
       "      <td>888</td>\n",
       "      <td>42.500000</td>\n",
       "      <td>18.806299</td>\n",
       "      <td>100.000000</td>\n",
       "      <td>66</td>\n",
       "      <td>609.000000</td>\n",
       "      <td>0.074324</td>\n",
       "      <td>4565.746094</td>\n",
       "      <td>20.894117</td>\n",
       "      <td>8.174000</td>\n",
       "      <td>46.959461</td>\n",
       "      <td>605.500000</td>\n",
       "      <td>612.500000</td>\n",
       "    </tr>\n",
       "    <tr>\n",
       "      <th>8</th>\n",
       "      <td>9</td>\n",
       "      <td>62331</td>\n",
       "      <td>Fresno</td>\n",
       "      <td>Orange Center Elementary</td>\n",
       "      <td>KK-08</td>\n",
       "      <td>379</td>\n",
       "      <td>19.000000</td>\n",
       "      <td>32.189999</td>\n",
       "      <td>93.139801</td>\n",
       "      <td>35</td>\n",
       "      <td>612.500000</td>\n",
       "      <td>0.092348</td>\n",
       "      <td>5355.548340</td>\n",
       "      <td>19.947369</td>\n",
       "      <td>7.385000</td>\n",
       "      <td>30.079157</td>\n",
       "      <td>608.900024</td>\n",
       "      <td>616.099976</td>\n",
       "    </tr>\n",
       "    <tr>\n",
       "      <th>9</th>\n",
       "      <td>10</td>\n",
       "      <td>67306</td>\n",
       "      <td>Sacramento</td>\n",
       "      <td>Del Paso Heights Elementary</td>\n",
       "      <td>KK-06</td>\n",
       "      <td>2247</td>\n",
       "      <td>108.000000</td>\n",
       "      <td>78.994202</td>\n",
       "      <td>87.316399</td>\n",
       "      <td>0</td>\n",
       "      <td>612.650024</td>\n",
       "      <td>0.000000</td>\n",
       "      <td>5036.211426</td>\n",
       "      <td>20.805555</td>\n",
       "      <td>11.613333</td>\n",
       "      <td>40.275921</td>\n",
       "      <td>611.900024</td>\n",
       "      <td>613.400024</td>\n",
       "    </tr>\n",
       "  </tbody>\n",
       "</table>\n",
       "</div>"
      ],
      "text/plain": [
       "   rownames  distcod       county                         district grspan  \\\n",
       "0         1    75119      Alameda               Sunol Glen Unified  KK-08   \n",
       "1         2    61499        Butte             Manzanita Elementary  KK-08   \n",
       "2         3    61549        Butte      Thermalito Union Elementary  KK-08   \n",
       "3         4    61457        Butte  Golden Feather Union Elementary  KK-08   \n",
       "4         5    61523        Butte         Palermo Union Elementary  KK-08   \n",
       "5         6    62042       Fresno          Burrel Union Elementary  KK-08   \n",
       "6         7    68536  San Joaquin            Holt Union Elementary  KK-08   \n",
       "7         8    63834         Kern              Vineland Elementary  KK-08   \n",
       "8         9    62331       Fresno         Orange Center Elementary  KK-08   \n",
       "9        10    67306   Sacramento      Del Paso Heights Elementary  KK-06   \n",
       "\n",
       "   enrltot    teachers    calwpct     mealpct  computer     testscr   compstu  \\\n",
       "0      195   10.900000   0.510200    2.040800        67  690.799988  0.343590   \n",
       "1      240   11.150000  15.416700   47.916698       101  661.200012  0.420833   \n",
       "2     1550   82.900002  55.032299   76.322601       169  643.599976  0.109032   \n",
       "3      243   14.000000  36.475399   77.049202        85  647.700012  0.349794   \n",
       "4     1335   71.500000  33.108601   78.427002       171  640.849976  0.128090   \n",
       "5      137    6.400000  12.318800   86.956497        25  605.550049  0.182482   \n",
       "6      195   10.000000  12.903200   94.623703        28  606.750000  0.143590   \n",
       "7      888   42.500000  18.806299  100.000000        66  609.000000  0.074324   \n",
       "8      379   19.000000  32.189999   93.139801        35  612.500000  0.092348   \n",
       "9     2247  108.000000  78.994202   87.316399         0  612.650024  0.000000   \n",
       "\n",
       "       expnstu        str     avginc      elpct     readscr     mathscr  \n",
       "0  6384.911133  17.889910  22.690001   0.000000  691.599976  690.000000  \n",
       "1  5099.380859  21.524664   9.824000   4.583333  660.500000  661.900024  \n",
       "2  5501.954590  18.697226   8.978000  30.000002  636.299988  650.900024  \n",
       "3  7101.831055  17.357143   8.978000   0.000000  651.900024  643.500000  \n",
       "4  5235.987793  18.671329   9.080333  13.857677  641.799988  639.900024  \n",
       "5  5580.146973  21.406250  10.415000  12.408759  605.700012  605.400024  \n",
       "6  5253.331055  19.500000   6.577000  68.717949  604.500000  609.000000  \n",
       "7  4565.746094  20.894117   8.174000  46.959461  605.500000  612.500000  \n",
       "8  5355.548340  19.947369   7.385000  30.079157  608.900024  616.099976  \n",
       "9  5036.211426  20.805555  11.613333  40.275921  611.900024  613.400024  "
      ]
     },
     "execution_count": 2,
     "metadata": {},
     "output_type": "execute_result"
    }
   ],
   "source": [
    "#Creating dataframe for car data, which I will refer to as car dataframe\n",
    "educ_df = pd.read_csv(\"https://vincentarelbundock.github.io/Rdatasets/csv/Ecdat/Caschool.csv\")\n",
    "educ_df.head(10)"
   ]
  },
  {
   "cell_type": "code",
   "execution_count": 3,
   "metadata": {
    "colab": {
     "base_uri": "https://localhost:8080/"
    },
    "id": "r_djyW9OA9Rq",
    "outputId": "9495921e-a5ea-4da1-de79-421cc3b64105"
   },
   "outputs": [
    {
     "data": {
      "text/plain": [
       "(420, 18)"
      ]
     },
     "execution_count": 3,
     "metadata": {},
     "output_type": "execute_result"
    }
   ],
   "source": [
    "#Getting the shape of the education dataframe\n",
    "educ_df.shape"
   ]
  },
  {
   "cell_type": "code",
   "execution_count": 4,
   "metadata": {
    "colab": {
     "base_uri": "https://localhost:8080/"
    },
    "id": "689S5lh1BkQQ",
    "outputId": "434cf162-53e3-42ad-dfcc-d34954c66367"
   },
   "outputs": [
    {
     "data": {
      "text/plain": [
       "rownames      int64\n",
       "distcod       int64\n",
       "county       object\n",
       "district     object\n",
       "grspan       object\n",
       "enrltot       int64\n",
       "teachers    float64\n",
       "calwpct     float64\n",
       "mealpct     float64\n",
       "computer      int64\n",
       "testscr     float64\n",
       "compstu     float64\n",
       "expnstu     float64\n",
       "str         float64\n",
       "avginc      float64\n",
       "elpct       float64\n",
       "readscr     float64\n",
       "mathscr     float64\n",
       "dtype: object"
      ]
     },
     "execution_count": 4,
     "metadata": {},
     "output_type": "execute_result"
    }
   ],
   "source": [
    "#Examining columns and their data types\n",
    "educ_df.dtypes"
   ]
  },
  {
   "cell_type": "markdown",
   "metadata": {
    "id": "6r7GgSVBBBpJ"
   },
   "source": [
    "##  #1.1 \n",
    "\n",
    "Visualize the univariate distribution of the target feature and each of the three continuous explanatory variables that you think are likely to have a relationship with the target feature.\n",
    "\n",
    "---"
   ]
  },
  {
   "cell_type": "code",
   "execution_count": 5,
   "metadata": {
    "colab": {
     "base_uri": "https://localhost:8080/",
     "height": 489
    },
    "id": "K4YzooCoMXG2",
    "outputId": "0b49defa-8b0b-47b6-b8f8-54cfd9abf84a"
   },
   "outputs": [
    {
     "data": {
      "text/plain": [
       "Text(0.5, 1.0, 'Average Test Score Frequency Distribution')"
      ]
     },
     "execution_count": 5,
     "metadata": {},
     "output_type": "execute_result"
    },
    {
     "data": {
      "image/png": "[encoded data removed]",
      "text/plain": [
       "<Figure size 640x480 with 1 Axes>"
      ]
     },
     "metadata": {},
     "output_type": "display_data"
    }
   ],
   "source": [
    "#Histogram of each California District's Average Test Scores\n",
    "plt.hist(educ_df[\"testscr\"], bins=20, edgecolor='black')\n",
    "plt.xlabel(\"Test Scores\")\n",
    "plt.ylabel(\"Frequency\")\n",
    "plt.title(\"Average Test Score Frequency Distribution\")"
   ]
  },
  {
   "cell_type": "code",
   "execution_count": 6,
   "metadata": {
    "colab": {
     "base_uri": "https://localhost:8080/",
     "height": 489
    },
    "id": "I9AMBtHbATc-",
    "outputId": "1b108453-3e88-486f-cc84-76ec2a228664"
   },
   "outputs": [
    {
     "data": {
      "text/plain": [
       "Text(0.5, 1.0, 'Average Number of Teachers Frequency Distribution')"
      ]
     },
     "execution_count": 6,
     "metadata": {},
     "output_type": "execute_result"
    },
    {
     "data": {
      "image/png": "[encoded data removed]",
      "text/plain": [
       "<Figure size 640x480 with 1 Axes>"
      ]
     },
     "metadata": {},
     "output_type": "display_data"
    }
   ],
   "source": [
    "#Histogram of each California District's Average Number of Teachers\n",
    "plt.hist(educ_df[\"teachers\"], bins=20, edgecolor='black')\n",
    "plt.xlabel(\"Avereage Number of Teachers\")\n",
    "plt.ylabel(\"Frequency\")\n",
    "plt.title(\"Average Number of Teachers Frequency Distribution\")"
   ]
  },
  {
   "cell_type": "code",
   "execution_count": 7,
   "metadata": {
    "colab": {
     "base_uri": "https://localhost:8080/",
     "height": 489
    },
    "id": "FcwOPiumLoAd",
    "outputId": "e9fb1b83-d443-4a95-82d6-15f1ccfb6a0c"
   },
   "outputs": [
    {
     "data": {
      "text/plain": [
       "Text(0.5, 1.0, 'Average Number of Computers Frequency Distribution')"
      ]
     },
     "execution_count": 7,
     "metadata": {},
     "output_type": "execute_result"
    },
    {
     "data": {
      "image/png": "[encoded data removed]",
      "text/plain": [
       "<Figure size 640x480 with 1 Axes>"
      ]
     },
     "metadata": {},
     "output_type": "display_data"
    }
   ],
   "source": [
    "#Histogram of each California District's Number of Computers\n",
    "plt.hist(educ_df[\"computer\"], bins=20, edgecolor='black')\n",
    "plt.xlabel(\"Number of Computers\")\n",
    "plt.ylabel(\"Frequency\")\n",
    "plt.title(\"Average Number of Computers Frequency Distribution\")"
   ]
  },
  {
   "cell_type": "code",
   "execution_count": 8,
   "metadata": {
    "colab": {
     "base_uri": "https://localhost:8080/",
     "height": 489
    },
    "id": "FtNCy29OLvCF",
    "outputId": "201ddbf2-93b7-4e98-8df4-3fa45bbc7aad"
   },
   "outputs": [
    {
     "data": {
      "text/plain": [
       "Text(0.5, 1.0, 'Expenditure per Student Frequency Distribution')"
      ]
     },
     "execution_count": 8,
     "metadata": {},
     "output_type": "execute_result"
    },
    {
     "data": {
      "image/png": "[encoded data removed]",
      "text/plain": [
       "<Figure size 640x480 with 1 Axes>"
      ]
     },
     "metadata": {},
     "output_type": "display_data"
    }
   ],
   "source": [
    "#Histogram of each California District's Expenditure per Student\n",
    "\n",
    "plt.hist(educ_df[\"expnstu\"], bins=20, edgecolor='black')\n",
    "plt.xlabel(\"Expenditure per Student\") #X-axis label\n",
    "plt.ylabel(\"Frequency\") #Y-axis label\n",
    "plt.title(\"Expenditure per Student Frequency Distribution\") #Title"
   ]
  },
  {
   "cell_type": "markdown",
   "metadata": {
    "id": "nR40fZahErNY"
   },
   "source": [
    "## #1.2 \n",
    "\n",
    "Visualize the dependency of the target on each feature from 1.1.\n",
    "\n",
    "---"
   ]
  },
  {
   "cell_type": "code",
   "execution_count": 9,
   "metadata": {
    "colab": {
     "base_uri": "https://localhost:8080/",
     "height": 489
    },
    "id": "BTSJjbxfMmeI",
    "outputId": "3557da1a-fd4e-4f1b-a1a6-a91035bd771f"
   },
   "outputs": [
    {
     "data": {
      "text/plain": [
       "Text(0.5, 1.0, 'Average Number of Teachers vs Test Scores for each California District')"
      ]
     },
     "execution_count": 9,
     "metadata": {},
     "output_type": "execute_result"
    },
    {
     "data": {
      "image/png": "[encoded data removed]",
      "text/plain": [
       "<Figure size 640x480 with 1 Axes>"
      ]
     },
     "metadata": {},
     "output_type": "display_data"
    }
   ],
   "source": [
    "#Scatter plot of Average Number of Teachers vs Test Scores for each California District\n",
    "plt.scatter(x=educ_df[\"teachers\"], y=educ_df[\"testscr\"])\n",
    "plt.xlabel(\"Average Number of Teachers\")\n",
    "plt.ylabel(\"Test Scores\")\n",
    "plt.title(\"Average Number of Teachers vs Test Scores for each California District\")"
   ]
  },
  {
   "cell_type": "code",
   "execution_count": 10,
   "metadata": {
    "colab": {
     "base_uri": "https://localhost:8080/",
     "height": 489
    },
    "id": "h7GUg9Q_My0o",
    "outputId": "c15e73e3-d1ae-4890-c772-ba2fcedcf6d1"
   },
   "outputs": [
    {
     "data": {
      "text/plain": [
       "Text(0.5, 1.0, 'Average Number of Computers vs Test Scores for each California District')"
      ]
     },
     "execution_count": 10,
     "metadata": {},
     "output_type": "execute_result"
    },
    {
     "data": {
      "image/png": "[encoded data removed]",
      "text/plain": [
       "<Figure size 640x480 with 1 Axes>"
      ]
     },
     "metadata": {},
     "output_type": "display_data"
    }
   ],
   "source": [
    "#Scatter plot of Average Number of Computers vs Test Scores for each California District\n",
    "plt.scatter(x=educ_df[\"computer\"], y=educ_df[\"testscr\"])\n",
    "plt.xlabel(\"Average Number of Computers\")\n",
    "plt.ylabel(\"Test Scores\")\n",
    "plt.title(\"Average Number of Computers vs Test Scores for each California District\")"
   ]
  },
  {
   "cell_type": "code",
   "execution_count": 11,
   "metadata": {
    "colab": {
     "base_uri": "https://localhost:8080/",
     "height": 489
    },
    "id": "C90hJjgRMDYa",
    "outputId": "58e5db19-edd3-4021-d56d-5675d3801fb2"
   },
   "outputs": [
    {
     "data": {
      "text/plain": [
       "Text(0.5, 1.0, 'Expenditure per Student vs Test Scores for each California District')"
      ]
     },
     "execution_count": 11,
     "metadata": {},
     "output_type": "execute_result"
    },
    {
     "data": {
      "image/png": "[encoded data removed]",
      "text/plain": [
       "<Figure size 640x480 with 1 Axes>"
      ]
     },
     "metadata": {},
     "output_type": "display_data"
    }
   ],
   "source": [
    "#Scatter plot of Expenditure per Student vs Test Scores for each California District\n",
    "plt.scatter(x=educ_df[\"expnstu\"], y=educ_df[\"testscr\"])\n",
    "plt.xlabel(\"Expenditure per Student\") #X-axis label\n",
    "plt.ylabel(\"Test Scores\") #Y-axis label\n",
    "plt.title(\"Expenditure per Student vs Test Scores for each California District\") #Title"
   ]
  },
  {
   "cell_type": "markdown",
   "metadata": {
    "id": "UsIGDCz_Eq2x"
   },
   "source": [
    "## #1.3 \n",
    "\n",
    "\n",
    "Split data in training and test set. Build models that evaluate the relationship between all available X variables in the California test dataset and the target variable. Evaluate KNN for regression, Linear Regression (OLS), Ridge, and Lasso using cross-validation with the default parameters. Does scaling the data with the StandardScaler help?\n",
    "\n",
    "---"
   ]
  },
  {
   "cell_type": "code",
   "execution_count": 12,
   "metadata": {
    "colab": {
     "base_uri": "https://localhost:8080/",
     "height": 204
    },
    "id": "EtChjk7LFiW7",
    "outputId": "0d57f8b1-ad15-4213-af78-22e6315be9ff"
   },
   "outputs": [
    {
     "data": {
      "text/html": [
       "<div>\n",
       "<style scoped>\n",
       "    .dataframe tbody tr th:only-of-type {\n",
       "        vertical-align: middle;\n",
       "    }\n",
       "\n",
       "    .dataframe tbody tr th {\n",
       "        vertical-align: top;\n",
       "    }\n",
       "\n",
       "    .dataframe thead th {\n",
       "        text-align: right;\n",
       "    }\n",
       "</style>\n",
       "<table border=\"1\" class=\"dataframe\">\n",
       "  <thead>\n",
       "    <tr style=\"text-align: right;\">\n",
       "      <th></th>\n",
       "      <th>enrltot</th>\n",
       "      <th>teachers</th>\n",
       "      <th>calwpct</th>\n",
       "      <th>mealpct</th>\n",
       "      <th>computer</th>\n",
       "      <th>compstu</th>\n",
       "      <th>expnstu</th>\n",
       "      <th>str</th>\n",
       "      <th>avginc</th>\n",
       "      <th>elpct</th>\n",
       "    </tr>\n",
       "  </thead>\n",
       "  <tbody>\n",
       "    <tr>\n",
       "      <th>0</th>\n",
       "      <td>195</td>\n",
       "      <td>10.900000</td>\n",
       "      <td>0.510200</td>\n",
       "      <td>2.040800</td>\n",
       "      <td>67</td>\n",
       "      <td>0.343590</td>\n",
       "      <td>6384.911133</td>\n",
       "      <td>17.889910</td>\n",
       "      <td>22.690001</td>\n",
       "      <td>0.000000</td>\n",
       "    </tr>\n",
       "    <tr>\n",
       "      <th>1</th>\n",
       "      <td>240</td>\n",
       "      <td>11.150000</td>\n",
       "      <td>15.416700</td>\n",
       "      <td>47.916698</td>\n",
       "      <td>101</td>\n",
       "      <td>0.420833</td>\n",
       "      <td>5099.380859</td>\n",
       "      <td>21.524664</td>\n",
       "      <td>9.824000</td>\n",
       "      <td>4.583333</td>\n",
       "    </tr>\n",
       "    <tr>\n",
       "      <th>2</th>\n",
       "      <td>1550</td>\n",
       "      <td>82.900002</td>\n",
       "      <td>55.032299</td>\n",
       "      <td>76.322601</td>\n",
       "      <td>169</td>\n",
       "      <td>0.109032</td>\n",
       "      <td>5501.954590</td>\n",
       "      <td>18.697226</td>\n",
       "      <td>8.978000</td>\n",
       "      <td>30.000002</td>\n",
       "    </tr>\n",
       "    <tr>\n",
       "      <th>3</th>\n",
       "      <td>243</td>\n",
       "      <td>14.000000</td>\n",
       "      <td>36.475399</td>\n",
       "      <td>77.049202</td>\n",
       "      <td>85</td>\n",
       "      <td>0.349794</td>\n",
       "      <td>7101.831055</td>\n",
       "      <td>17.357143</td>\n",
       "      <td>8.978000</td>\n",
       "      <td>0.000000</td>\n",
       "    </tr>\n",
       "    <tr>\n",
       "      <th>4</th>\n",
       "      <td>1335</td>\n",
       "      <td>71.500000</td>\n",
       "      <td>33.108601</td>\n",
       "      <td>78.427002</td>\n",
       "      <td>171</td>\n",
       "      <td>0.128090</td>\n",
       "      <td>5235.987793</td>\n",
       "      <td>18.671329</td>\n",
       "      <td>9.080333</td>\n",
       "      <td>13.857677</td>\n",
       "    </tr>\n",
       "  </tbody>\n",
       "</table>\n",
       "</div>"
      ],
      "text/plain": [
       "   enrltot   teachers    calwpct    mealpct  computer   compstu      expnstu  \\\n",
       "0      195  10.900000   0.510200   2.040800        67  0.343590  6384.911133   \n",
       "1      240  11.150000  15.416700  47.916698       101  0.420833  5099.380859   \n",
       "2     1550  82.900002  55.032299  76.322601       169  0.109032  5501.954590   \n",
       "3      243  14.000000  36.475399  77.049202        85  0.349794  7101.831055   \n",
       "4     1335  71.500000  33.108601  78.427002       171  0.128090  5235.987793   \n",
       "\n",
       "         str     avginc      elpct  \n",
       "0  17.889910  22.690001   0.000000  \n",
       "1  21.524664   9.824000   4.583333  \n",
       "2  18.697226   8.978000  30.000002  \n",
       "3  17.357143   8.978000   0.000000  \n",
       "4  18.671329   9.080333  13.857677  "
      ]
     },
     "execution_count": 12,
     "metadata": {},
     "output_type": "execute_result"
    }
   ],
   "source": [
    "#Creating y and X variables\n",
    "X = educ_df[['enrltot', 'teachers', 'calwpct', 'mealpct', 'computer', 'compstu', 'expnstu', 'str', 'avginc', 'elpct']]\n",
    "y = educ_df['testscr']\n",
    "\n",
    "X.head()"
   ]
  },
  {
   "cell_type": "code",
   "execution_count": 13,
   "metadata": {
    "id": "VBxZMNbYrhEb"
   },
   "outputs": [],
   "source": [
    "from sklearn.model_selection import train_test_split\n",
    "\n",
    "#Splitting X and y into testing and training with default split (75% training and 25% testing)\n",
    "X_train, X_test, y_train, y_test = train_test_split(X, y, random_state=42)\n"
   ]
  },
  {
   "cell_type": "code",
   "execution_count": 14,
   "metadata": {
    "colab": {
     "base_uri": "https://localhost:8080/"
    },
    "id": "M-zAEtSUGrsD",
    "outputId": "e29679d2-a893-4974-87dd-8557b2d6b366"
   },
   "outputs": [
    {
     "name": "stdout",
     "output_type": "stream",
     "text": [
      "Mean cross-validation score for Linear Regression: 0.7793254938876506\n",
      "\n",
      "Training score for Linear Regression:  0.805466898083568\n",
      "Test score for Linear Regression:  0.8070239455626856\n"
     ]
    }
   ],
   "source": [
    "from sklearn.linear_model import LinearRegression\n",
    "from sklearn.model_selection import cross_val_score\n",
    "\n",
    "'''\n",
    "Fitting Linear Regression model with X and y training data, and finding the mean Cross-Validation score\n",
    "using R-squared as the scoring metric\n",
    "'''\n",
    "\n",
    "lr = LinearRegression() #Creating Linear Regression object\n",
    "lr.fit(X_train, y_train) #Fitting model with Linear Regression\n",
    "\n",
    "#Finding finding the mean cross-validation score\n",
    "lr_cv = np.mean(cross_val_score(LinearRegression(), X_train, y_train, cv=10, scoring=\"r2\"))\n",
    "\n",
    "lr_train_score = lr.score(X_train, y_train)\n",
    "lr_test_score = lr.score(X_test, y_test)\n",
    "\n",
    "print(\"Mean cross-validation score for Linear Regression:\", lr_cv)\n",
    "print()\n",
    "print(\"Training score for Linear Regression: \", lr_train_score)\n",
    "print(\"Test score for Linear Regression: \", lr_test_score)"
   ]
  },
  {
   "cell_type": "code",
   "execution_count": 15,
   "metadata": {
    "colab": {
     "base_uri": "https://localhost:8080/"
    },
    "id": "VHrxIFfPIAtY",
    "outputId": "b9a9a3dc-7641-4594-c12a-fa4018ca790e"
   },
   "outputs": [
    {
     "name": "stdout",
     "output_type": "stream",
     "text": [
      "Mean cross-validation score for KNR: -0.05399014482377114\n",
      "\n",
      "Training score for KNR:  0.3026415254272742\n",
      "Test score for KNR:  0.08485554970397224\n"
     ]
    }
   ],
   "source": [
    "'''\n",
    "Fitting K Neighbors Rregression model with X and y training data, and finding the mean Cross-Validation score\n",
    "using R-squared as the scoring metric\n",
    "'''\n",
    "\n",
    "from sklearn.neighbors import KNeighborsRegressor\n",
    "from sklearn.model_selection import KFold\n",
    "\n",
    "kfold = KFold() #K-fold object with default parameters\n",
    "\n",
    "#KNN Regression\n",
    "knr = KNeighborsRegressor() #Creating a KNeighborsRegressor object with default parameters\n",
    "knr.fit(X_train, y_train) #Fitting model with KNeighbors Regression\n",
    "\n",
    "##Finding finding the mean cross-validation score\n",
    "knr_cv = np.mean(cross_val_score(knr, X_train, y_train, cv=kfold, scoring=\"r2\"))\n",
    "\n",
    "knr_train_score = knr.score(X_train, y_train)\n",
    "knr_test_score = knr.score(X_test, y_test)\n",
    "\n",
    "print(\"Mean cross-validation score for KNR:\", knr_cv)\n",
    "print()\n",
    "print(\"Training score for KNR: \", knr_train_score)\n",
    "print(\"Test score for KNR: \", knr_test_score)"
   ]
  },
  {
   "cell_type": "code",
   "execution_count": 16,
   "metadata": {
    "colab": {
     "base_uri": "https://localhost:8080/"
    },
    "id": "yq_L_mh9MAr0",
    "outputId": "5ab25e28-fd40-4f72-f8ba-08e63e316621"
   },
   "outputs": [
    {
     "name": "stdout",
     "output_type": "stream",
     "text": [
      "Mean cross-validation score for Ridge Regression: 0.7804642232100513\n",
      "\n",
      "Training score for Ridge Regression:  0.8054613325106026\n",
      "Test score for Ridge Regression:  0.8074600282558804\n"
     ]
    }
   ],
   "source": [
    "'''\n",
    "Fitting Ridge Rregression model with X and y training data, and finding the mean Cross-Validation score\n",
    "using R-squared as the scoring metric\n",
    "'''\n",
    "\n",
    "from sklearn.linear_model import Ridge\n",
    "\n",
    "ridge = Ridge() #Ridge Regression object with the default paramaters\n",
    "ridge.fit(X_train, y_train) #Fitting training data with Ridge Regression\n",
    "\n",
    "##Finding finding the mean cross-validation score\n",
    "ridge_cv = np.mean(cross_val_score(ridge, X_train, y_train, cv=10, scoring=\"r2\"))\n",
    "\n",
    "ridge_train_score = ridge.score(X_train, y_train)\n",
    "ridge_test_score = ridge.score(X_test, y_test)\n",
    "\n",
    "print(\"Mean cross-validation score for Ridge Regression:\", ridge_cv)\n",
    "print()\n",
    "print(\"Training score for Ridge Regression: \", ridge_train_score)\n",
    "print(\"Test score for Ridge Regression: \", ridge_test_score)"
   ]
  },
  {
   "cell_type": "code",
   "execution_count": 17,
   "metadata": {
    "colab": {
     "base_uri": "https://localhost:8080/"
    },
    "id": "uNacODqt_WDE",
    "outputId": "c98015eb-4c78-4671-d2e4-9737256df7f2"
   },
   "outputs": [
    {
     "name": "stdout",
     "output_type": "stream",
     "text": [
      "Mean cross-validation score for Lasso Regression: 0.7827814938698006\n",
      "\n",
      "Training score for Lasso Regression:  0.804640715519991\n",
      "Test score for Lasso Regression:  0.8069005920264551\n"
     ]
    }
   ],
   "source": [
    "'''\n",
    "Fitting Lasso Rregression model with X and y training data, and finding the mean Cross-Validation score\n",
    "using R-squared as the scoring metric\n",
    "'''\n",
    "\n",
    "from sklearn.linear_model import Lasso\n",
    "lasso = Lasso(max_iter=100000) #Ridge Regression object with the default paramaters expect max_iter\n",
    "\n",
    "lasso.fit(X_train, y_train) #Fitting training data with Lasso Regression\n",
    "lasso_cv = np.mean(cross_val_score(lasso, X_train, y_train, cv=10, scoring=\"r2\"))\n",
    "\n",
    "lasso_train_score = lasso.score(X_train, y_train)\n",
    "lasso_test_score = lasso.score(X_test, y_test)\n",
    "\n",
    "print(\"Mean cross-validation score for Lasso Regression:\", lasso_cv)\n",
    "print()\n",
    "print(\"Training score for Lasso Regression: \", lasso_train_score)\n",
    "print(\"Test score for Lasso Regression: \", lasso_test_score)"
   ]
  },
  {
   "cell_type": "markdown",
   "metadata": {
    "id": "1GJ_QIKeCV6G"
   },
   "source": [
    "---\n",
    "\n",
    "### Using Standard Scaler"
   ]
  },
  {
   "cell_type": "markdown",
   "metadata": {
    "id": "nOB5ga3uxHM7"
   },
   "source": [
    "Now, the X training and testing data is being scaled using the Standard Scaler, meaning which feature has a mean of 0 and a standard deviation of 1. All models will be fit with scaled X training data.\n",
    "\n",
    "---"
   ]
  },
  {
   "cell_type": "code",
   "execution_count": 18,
   "metadata": {
    "id": "ak4hIM1iAR3j"
   },
   "outputs": [],
   "source": [
    "from sklearn.preprocessing import StandardScaler\n",
    "\n",
    "#Scaling X training and testing data using the StandardScaler function\n",
    "scaler = StandardScaler()\n",
    "scaler.fit(X_train)\n",
    "X_train_scaled = scaler.transform(X_train)\n",
    "X_test_scaled = scaler.transform(X_test)"
   ]
  },
  {
   "cell_type": "code",
   "execution_count": 19,
   "metadata": {
    "colab": {
     "base_uri": "https://localhost:8080/"
    },
    "id": "G9OLUdpQErAz",
    "outputId": "473e5112-b578-45ac-a658-676e0df0c06c"
   },
   "outputs": [
    {
     "name": "stdout",
     "output_type": "stream",
     "text": [
      "Mean cross-validation score for Linear Regression with scaled X training: 0.7793254938876508\n",
      "\n",
      "Training score for Linear Regression with scaled X training:  0.8054668980835678\n",
      "Test score for Linear Regression with scaled X testing:  0.8070239455626853\n"
     ]
    }
   ],
   "source": [
    "'''\n",
    "Fitting Linear Regression model with X (scaled) and y training data, and finding the mean Cross-Validation score\n",
    "using R-squared as the scoring metric\n",
    "'''\n",
    "lr.fit(X_train_scaled, y_train)\n",
    "lr_cv_scaler = (cross_val_score(lr, X_train_scaled, y_train, cv=10, scoring=\"r2\")).mean()\n",
    "\n",
    "lr_trn_ss_score = lr.score(X_train_scaled, y_train)\n",
    "lr_tst_ss_score = lr.score(X_test_scaled, y_test)\n",
    "\n",
    "\n",
    "print(\"Mean cross-validation score for Linear Regression with scaled X training:\", lr_cv_scaler)\n",
    "print()\n",
    "print(\"Training score for Linear Regression with scaled X training: \", lr_trn_ss_score)\n",
    "print(\"Test score for Linear Regression with scaled X testing: \", lr_tst_ss_score)"
   ]
  },
  {
   "cell_type": "code",
   "execution_count": 20,
   "metadata": {
    "colab": {
     "base_uri": "https://localhost:8080/"
    },
    "id": "RRm1mza6EynA",
    "outputId": "67d0591f-ef24-4366-cc95-25fc8ae08cfd"
   },
   "outputs": [
    {
     "name": "stdout",
     "output_type": "stream",
     "text": [
      "Mean cross-validation score for KNR with scaled X training: 0.7111400899098527\n",
      "\n",
      "Training score for KNR with scaled X training:  0.8093746497315928\n",
      "Test score for KNR with scaled X testing:  0.7689310586146225\n"
     ]
    }
   ],
   "source": [
    "'''\n",
    "Fitting K Neighbors Rregression model with default parameters and with X (scaled) and y training data, \n",
    "and finding the mean Cross-Validation score using R-squared as the scoring metric\n",
    "'''\n",
    "\n",
    "knr.fit(X_train_scaled, y_train)\n",
    "knr_cv_scaler = cross_val_score(knr, X_train_scaled, y_train, cv=kfold, scoring=\"r2\").mean()\n",
    "\n",
    "knr_trn_ss_score = knr.score(X_train_scaled, y_train)\n",
    "knr_tst_ss_score = knr.score(X_test_scaled, y_test)\n",
    "\n",
    "print(\"Mean cross-validation score for KNR with scaled X training:\", knr_cv_scaler)\n",
    "print()\n",
    "print(\"Training score for KNR with scaled X training: \", knr_trn_ss_score)\n",
    "print(\"Test score for KNR with scaled X testing: \", knr_tst_ss_score)"
   ]
  },
  {
   "cell_type": "code",
   "execution_count": 21,
   "metadata": {
    "colab": {
     "base_uri": "https://localhost:8080/"
    },
    "id": "7MqnZJFDFJ6h",
    "outputId": "947573bc-4b0a-4459-81bb-88c2a652f9de"
   },
   "outputs": [
    {
     "name": "stdout",
     "output_type": "stream",
     "text": [
      "Mean cross-validation score for Ridge Regression with scaled X training: 0.7816951420138591\n",
      "\n",
      "Training score for Ridge Regression with scaled X training:  0.8054474937982297\n",
      "Test score for Ridge Regression with scaled X testing:  0.8069708569856147\n"
     ]
    }
   ],
   "source": [
    "'''\n",
    "Fitting Ridge Rregression model with X (scaled) and y training data, and finding the mean Cross-Validation score\n",
    "using R-squared as the scoring metric\n",
    "'''\n",
    "\n",
    "ridge.fit(X_train_scaled, y_train)\n",
    "ridge_cv_scaler = (cross_val_score(ridge, X_train_scaled, y_train, cv=10, scoring=\"r2\")).mean()\n",
    "\n",
    "rdge_trn_ss_score = ridge.score(X_train_scaled, y_train)\n",
    "rdge_tst_ss_score = ridge.score(X_test_scaled, y_test)\n",
    "\n",
    "print(\"Mean cross-validation score for Ridge Regression with scaled X training:\", ridge_cv_scaler)\n",
    "print()\n",
    "print(\"Training score for Ridge Regression with scaled X training: \", rdge_trn_ss_score)\n",
    "print(\"Test score for Ridge Regression with scaled X testing: \", rdge_tst_ss_score)"
   ]
  },
  {
   "cell_type": "code",
   "execution_count": 22,
   "metadata": {
    "colab": {
     "base_uri": "https://localhost:8080/"
    },
    "id": "BSPh-B6pFNr-",
    "outputId": "7435bb55-81bd-4131-f5b1-fc065fcc415d"
   },
   "outputs": [
    {
     "name": "stdout",
     "output_type": "stream",
     "text": [
      "Mean cross-validation score for Lasso Regression with scaled X training: 0.7800572013872077\n",
      "\n",
      "Training score for Lasso Regression with scaled X training:  0.7967326633807648\n",
      "Test score for Lasso Regression with scaled X testing:  0.7860587618553807\n"
     ]
    }
   ],
   "source": [
    "'''\n",
    "Fitting Lasso Rregression model with X (scaled) and y training data, and finding the mean Cross-Validation score\n",
    "using R-squared as the scoring metric\n",
    "'''\n",
    "\n",
    "lasso.fit(X_train_scaled, y_train)\n",
    "lasso_cv_scaler = (cross_val_score(Lasso(), X_train_scaled, y_train, cv=10, scoring=\"r2\")).mean()\n",
    "\n",
    "las_trn_ss_score = lasso.score(X_train_scaled, y_train)\n",
    "las_tst_ss_score = lasso.score(X_test_scaled, y_test)\n",
    "\n",
    "\n",
    "print(\"Mean cross-validation score for Lasso Regression with scaled X training:\", lasso_cv_scaler)\n",
    "print()\n",
    "print(\"Training score for Lasso Regression with scaled X training: \", las_trn_ss_score)\n",
    "print(\"Test score for Lasso Regression with scaled X testing: \", las_tst_ss_score)"
   ]
  },
  {
   "cell_type": "code",
   "execution_count": 23,
   "metadata": {
    "colab": {
     "base_uri": "https://localhost:8080/",
     "height": 204
    },
    "id": "Ij0dQFX37EMU",
    "outputId": "606374b5-0729-488f-e69c-914bfa3df39e"
   },
   "outputs": [
    {
     "data": {
      "text/html": [
       "<div>\n",
       "<style scoped>\n",
       "    .dataframe tbody tr th:only-of-type {\n",
       "        vertical-align: middle;\n",
       "    }\n",
       "\n",
       "    .dataframe tbody tr th {\n",
       "        vertical-align: top;\n",
       "    }\n",
       "\n",
       "    .dataframe thead th {\n",
       "        text-align: right;\n",
       "    }\n",
       "</style>\n",
       "<table border=\"1\" class=\"dataframe\">\n",
       "  <thead>\n",
       "    <tr style=\"text-align: right;\">\n",
       "      <th></th>\n",
       "      <th>Original (Default Parameters)</th>\n",
       "      <th>Scaled (Default Parameters)</th>\n",
       "    </tr>\n",
       "    <tr>\n",
       "      <th>Regression</th>\n",
       "      <th></th>\n",
       "      <th></th>\n",
       "    </tr>\n",
       "  </thead>\n",
       "  <tbody>\n",
       "    <tr>\n",
       "      <th>Linear Regression</th>\n",
       "      <td>0.779325</td>\n",
       "      <td>0.779325</td>\n",
       "    </tr>\n",
       "    <tr>\n",
       "      <th>KN Regression</th>\n",
       "      <td>-0.053990</td>\n",
       "      <td>0.711140</td>\n",
       "    </tr>\n",
       "    <tr>\n",
       "      <th>Ridge Regression</th>\n",
       "      <td>0.780464</td>\n",
       "      <td>0.781695</td>\n",
       "    </tr>\n",
       "    <tr>\n",
       "      <th>Lasso Regression</th>\n",
       "      <td>0.782781</td>\n",
       "      <td>0.780057</td>\n",
       "    </tr>\n",
       "  </tbody>\n",
       "</table>\n",
       "</div>"
      ],
      "text/plain": [
       "                   Original (Default Parameters)  Scaled (Default Parameters)\n",
       "Regression                                                                   \n",
       "Linear Regression                       0.779325                     0.779325\n",
       "KN Regression                          -0.053990                     0.711140\n",
       "Ridge Regression                        0.780464                     0.781695\n",
       "Lasso Regression                        0.782781                     0.780057"
      ]
     },
     "execution_count": 23,
     "metadata": {},
     "output_type": "execute_result"
    }
   ],
   "source": [
    "#MEAN CROSS-VALIDATION SCORE DATAFRAME\n",
    "\n",
    "\n",
    "'''\n",
    "Creating a dataframe with all mean cross-validation scores from all model evaluations up until now\n",
    "\n",
    "The first column: mean cross-validation scores when the X training data is unscaled\n",
    "The second column: mean cross-validation scores when the X training is scaled using the StandardScaler function\n",
    "'''\n",
    "\n",
    "regression = [\"Linear Regression\", \"KN Regression\", \"Ridge Regression\", \"Lasso Regression\"]\n",
    "\n",
    "cv_df = (pd.DataFrame({'Original (Default Parameters)':[lr_cv, knr_cv, ridge_cv, lasso_cv],\n",
    "                            'Scaled (Default Parameters)':[lr_cv_scaler, knr_cv_scaler, ridge_cv_scaler, lasso_cv_scaler],\n",
    "                            'Regression':regression})).set_index('Regression')\n",
    "\n",
    "\n",
    "cv_df"
   ]
  },
  {
   "cell_type": "markdown",
   "metadata": {},
   "source": [
    "### Question 1.3 Cross-Validation Analysis\n",
    "\n",
    "#### Cross Validation Analysis\n",
    "\n",
    "Before applying StandardScaler, all models with the exception of KN Regression have an $R^2>0.75$. An interesting feature of the $R^2$ for the KN Regression is that it is negative.\n",
    "\n",
    "Overall, using the StandardScaler function yielded mixed results for the non-tuned models. For the Linear Regression model, applying the standard scaler function did not change the mean cross-validation score. For the Lasso Regression, scaling the X training data actually lowered the mean cross-validation score. For the Ridge Regression, scaling the data marginally increased the cross-validation score. However, for the K Nearest Regressor, scaling the X training data significantly increased the mean cross-validation score, going from $-0.053990$ to $0.711140$.\n",
    "\n",
    "#### Test Score Analysis\n",
    "\n",
    "For the test scores, as shown in the dataframe below, scaling the data decreased $R^2$ for Lasso Regression, Ridge Regression, and Linear Regression. However, like the mean cross-validation score, the KN Regression test score significantly increased. \n"
   ]
  },
  {
   "cell_type": "code",
   "execution_count": 24,
   "metadata": {},
   "outputs": [
    {
     "data": {
      "text/html": [
       "<div>\n",
       "<style scoped>\n",
       "    .dataframe tbody tr th:only-of-type {\n",
       "        vertical-align: middle;\n",
       "    }\n",
       "\n",
       "    .dataframe tbody tr th {\n",
       "        vertical-align: top;\n",
       "    }\n",
       "\n",
       "    .dataframe thead th {\n",
       "        text-align: right;\n",
       "    }\n",
       "</style>\n",
       "<table border=\"1\" class=\"dataframe\">\n",
       "  <thead>\n",
       "    <tr style=\"text-align: right;\">\n",
       "      <th></th>\n",
       "      <th>Original (Default Parameters)</th>\n",
       "      <th>Scaled (Default Parameters)</th>\n",
       "    </tr>\n",
       "    <tr>\n",
       "      <th>Regression</th>\n",
       "      <th></th>\n",
       "      <th></th>\n",
       "    </tr>\n",
       "  </thead>\n",
       "  <tbody>\n",
       "    <tr>\n",
       "      <th>Linear Regression</th>\n",
       "      <td>0.807024</td>\n",
       "      <td>0.786059</td>\n",
       "    </tr>\n",
       "    <tr>\n",
       "      <th>KN Regression</th>\n",
       "      <td>0.084856</td>\n",
       "      <td>0.768931</td>\n",
       "    </tr>\n",
       "    <tr>\n",
       "      <th>Ridge Regression</th>\n",
       "      <td>0.807460</td>\n",
       "      <td>0.806971</td>\n",
       "    </tr>\n",
       "    <tr>\n",
       "      <th>Lasso Regression</th>\n",
       "      <td>0.806901</td>\n",
       "      <td>0.786059</td>\n",
       "    </tr>\n",
       "  </tbody>\n",
       "</table>\n",
       "</div>"
      ],
      "text/plain": [
       "                   Original (Default Parameters)  Scaled (Default Parameters)\n",
       "Regression                                                                   \n",
       "Linear Regression                       0.807024                     0.786059\n",
       "KN Regression                           0.084856                     0.768931\n",
       "Ridge Regression                        0.807460                     0.806971\n",
       "Lasso Regression                        0.806901                     0.786059"
      ]
     },
     "execution_count": 24,
     "metadata": {},
     "output_type": "execute_result"
    }
   ],
   "source": [
    "#TEST SCORE DATAFRAME\n",
    "\n",
    "'''\n",
    "Creating a dataframe with all test scores from all model evaluations. The first column\n",
    "contains the mean cross-validation scores when the X training data is unscaled. The second column\n",
    "contains the results when the X training is scaled using the StandardScaler function.\n",
    "'''\n",
    "\n",
    "test_score_df = (pd.DataFrame({'Original (Default Parameters)':[lr_test_score, knr_test_score, ridge_test_score, lasso_test_score],\n",
    "                            'Scaled (Default Parameters)':[las_tst_ss_score, knr_tst_ss_score, rdge_tst_ss_score, las_tst_ss_score],\n",
    "                            'Regression':regression})).set_index('Regression')\n",
    "\n",
    "test_score_df\n"
   ]
  },
  {
   "cell_type": "markdown",
   "metadata": {
    "id": "-Q7gNOMgGBj_"
   },
   "source": [
    "## #1.4 \n",
    "\n",
    "Tune the parameters of the models where possible using GridSearchCV. Do the results improve?\n",
    "\n",
    "---"
   ]
  },
  {
   "cell_type": "code",
   "execution_count": 25,
   "metadata": {
    "colab": {
     "base_uri": "https://localhost:8080/"
    },
    "id": "hygFIG2tFRfA",
    "outputId": "d6fd325e-25e9-461c-88e9-641d5023375e"
   },
   "outputs": [
    {
     "name": "stdout",
     "output_type": "stream",
     "text": [
      "The best mean cross-validation for KNR: 0.7192052754738234\n",
      "The best parameter for KNR: {'n_neighbors': 6}\n",
      "\n",
      "KNR test set score: 0.7821359562363542\n"
     ]
    }
   ],
   "source": [
    "#For the GridSearchCV, I use the scaled x training set (X_train_scaled)\n",
    "\n",
    "from sklearn.model_selection import GridSearchCV\n",
    "\n",
    "\n",
    "#Defining a set of neighbors (from 1 to 10) that the model will tune\n",
    "hyperparameters = {'n_neighbors': np.arange(1,10,1) }\n",
    "\n",
    "#Performing grid search to find the best mean CV score with the hyperparameters defined above\n",
    "grid_knr = GridSearchCV(knr, param_grid=hyperparameters, cv=kfold)\n",
    "grid_knr.fit(X_train_scaled, y_train)\n",
    "\n",
    "knr_score = grid_knr.best_score_\n",
    "knr_bestparam =  grid_knr.best_params_\n",
    "\n",
    "knr_grid_testscore = grid_knr.score(X_test_scaled, y_test)\n",
    "\n",
    "\n",
    "print(\"The best mean cross-validation for KNR:\", knr_score)\n",
    "print(\"The best parameter for KNR:\", knr_bestparam)\n",
    "print()\n",
    "print(\"KNR test set score:\",  knr_grid_testscore)\n",
    "\n"
   ]
  },
  {
   "cell_type": "code",
   "execution_count": 26,
   "metadata": {
    "colab": {
     "base_uri": "https://localhost:8080/"
    },
    "id": "Fbq9cOShGhbk",
    "outputId": "71ec744e-143f-426e-d63c-e065541b7d60"
   },
   "outputs": [
    {
     "name": "stdout",
     "output_type": "stream",
     "text": [
      "The best mean cross-validation for Ridge Regression: 0.7835059533121874\n",
      "The best parameter for Ridge Regression: {'alpha': 10}\n",
      "\n",
      "Ridge Regression test set score: 0.8044679189926074\n"
     ]
    }
   ],
   "source": [
    "#For Ridge Regression\n",
    "\n",
    "#Defining a set of alpha\n",
    "hyperparameters = {'alpha': [.001, .01, .1, 1, 10, 100] }\n",
    "\n",
    "grid_ridge = GridSearchCV(ridge, param_grid=hyperparameters, cv=10)\n",
    "grid_ridge.fit(X_train_scaled, y_train)\n",
    "\n",
    "ridge_score = grid_ridge.best_score_\n",
    "ridge_bestparam = grid_ridge.best_params_\n",
    "ridge_grid_testscore = grid_ridge.score(X_test_scaled, y_test)\n",
    "\n",
    "print(\"The best mean cross-validation for Ridge Regression:\", ridge_score)\n",
    "print(\"The best parameter for Ridge Regression:\", ridge_bestparam)\n",
    "print()\n",
    "print(\"Ridge Regression test set score:\",  ridge_grid_testscore)\n"
   ]
  },
  {
   "cell_type": "code",
   "execution_count": 27,
   "metadata": {
    "colab": {
     "base_uri": "https://localhost:8080/"
    },
    "id": "zsaM0OblIQii",
    "outputId": "268f3638-7d41-4920-8612-f147933e76d1"
   },
   "outputs": [
    {
     "name": "stdout",
     "output_type": "stream",
     "text": [
      "The best mean cross-validation score for Lasso Regression: 0.7838051601477599\n",
      "The best parameters for Lasso Regression: {'alpha': 0.1}\n",
      "\n",
      "Lasso Regression test set score: 0.8054789700502258\n"
     ]
    }
   ],
   "source": [
    "'''\n",
    "Hyperparameters for Lasso are the same as used in the previous Ridge Regression Grid Search\n",
    "'''\n",
    "\n",
    "grid_lasso = GridSearchCV(lasso, param_grid=hyperparameters, cv=10)\n",
    "grid_lasso.fit(X_train_scaled, y_train)\n",
    "\n",
    "lasso_score = grid_lasso.best_score_\n",
    "lasso_bestparam = grid_lasso.best_params_\n",
    "lasso_grid_testscore = grid_lasso.score(X_test_scaled, y_test)\n",
    "\n",
    "\n",
    "print(\"The best mean cross-validation score for Lasso Regression:\", lasso_score)\n",
    "print(\"The best parameters for Lasso Regression:\", lasso_bestparam)\n",
    "print()\n",
    "print(\"Lasso Regression test set score:\",  lasso_grid_testscore)\n"
   ]
  },
  {
   "cell_type": "code",
   "execution_count": 28,
   "metadata": {
    "colab": {
     "base_uri": "https://localhost:8080/",
     "height": 204
    },
    "id": "eGl_U28m6K7V",
    "outputId": "a1e711bf-ce74-4a37-f2c5-a7f71b3bac99"
   },
   "outputs": [
    {
     "data": {
      "text/html": [
       "<div>\n",
       "<style scoped>\n",
       "    .dataframe tbody tr th:only-of-type {\n",
       "        vertical-align: middle;\n",
       "    }\n",
       "\n",
       "    .dataframe tbody tr th {\n",
       "        vertical-align: top;\n",
       "    }\n",
       "\n",
       "    .dataframe thead th {\n",
       "        text-align: right;\n",
       "    }\n",
       "</style>\n",
       "<table border=\"1\" class=\"dataframe\">\n",
       "  <thead>\n",
       "    <tr style=\"text-align: right;\">\n",
       "      <th></th>\n",
       "      <th>Original (Default Parameters)</th>\n",
       "      <th>Scaled (Default Parameters)</th>\n",
       "      <th>Tuned (Scaled X)</th>\n",
       "    </tr>\n",
       "    <tr>\n",
       "      <th>Regression</th>\n",
       "      <th></th>\n",
       "      <th></th>\n",
       "      <th></th>\n",
       "    </tr>\n",
       "  </thead>\n",
       "  <tbody>\n",
       "    <tr>\n",
       "      <th>Linear Regression</th>\n",
       "      <td>0.779325</td>\n",
       "      <td>0.779325</td>\n",
       "      <td>N/A</td>\n",
       "    </tr>\n",
       "    <tr>\n",
       "      <th>KN Regression</th>\n",
       "      <td>-0.053990</td>\n",
       "      <td>0.711140</td>\n",
       "      <td>0.719205</td>\n",
       "    </tr>\n",
       "    <tr>\n",
       "      <th>Ridge Regression</th>\n",
       "      <td>0.780464</td>\n",
       "      <td>0.781695</td>\n",
       "      <td>0.783506</td>\n",
       "    </tr>\n",
       "    <tr>\n",
       "      <th>Lasso Regression</th>\n",
       "      <td>0.782781</td>\n",
       "      <td>0.780057</td>\n",
       "      <td>0.783805</td>\n",
       "    </tr>\n",
       "  </tbody>\n",
       "</table>\n",
       "</div>"
      ],
      "text/plain": [
       "                   Original (Default Parameters)  Scaled (Default Parameters)  \\\n",
       "Regression                                                                      \n",
       "Linear Regression                       0.779325                     0.779325   \n",
       "KN Regression                          -0.053990                     0.711140   \n",
       "Ridge Regression                        0.780464                     0.781695   \n",
       "Lasso Regression                        0.782781                     0.780057   \n",
       "\n",
       "                  Tuned (Scaled X)  \n",
       "Regression                          \n",
       "Linear Regression              N/A  \n",
       "KN Regression             0.719205  \n",
       "Ridge Regression          0.783506  \n",
       "Lasso Regression          0.783805  "
      ]
     },
     "execution_count": 28,
     "metadata": {},
     "output_type": "execute_result"
    }
   ],
   "source": [
    "#FINAL MEAN CROSS-VALIDATION SCORE DATAFRAME\n",
    "\n",
    "\n",
    "'''\n",
    "Creating a dataframe with all mean cross-validation scores from all model evaluations  \n",
    "\n",
    "The first column: mean cross-validation scores when the X training data is unscaled\n",
    "The second column: mean cross-validation scores when the X training is scaled using the StandardScaler function\n",
    "The third column: mean cross-validation scores for tuned model when the X training is scaled using the \n",
    "StandardScaler function\n",
    "'''\n",
    "\n",
    "grid_cv_df = (pd.DataFrame({'Tuned (Scaled X)':[\"N/A\", knr_score, ridge_score, lasso_score],\n",
    "                         'Regression':regression})).set_index('Regression')\n",
    "\n",
    "data_frames = [cv_df, grid_cv_df]\n",
    "final_cv = pd.concat(data_frames, axis=1)\n",
    "\n",
    "#Calculting Percent Change\n",
    "\n",
    "final_cv"
   ]
  },
  {
   "cell_type": "markdown",
   "metadata": {},
   "source": [
    "### 1.4 Analysis\n",
    "\n",
    "#### Cross Validation Analysis\n",
    "\n",
    "Tuning the parameters increased the mean cross-validation for all models when applicable, however the increases were marginal. The KN Regression only increased by $1.13$%; the Ridge Regression model only increased by $0.23$%; and the Lasso Regression only increased by $0.48$%. \n",
    "\n",
    "The two best models are the Ridge Regression and Lasso Regression, both with scaled X data using StandardScaler. For Ridge Regression the paramater is $\\alpha = 10$ and the mean cross-validation score is $R^2 = 0.783506$. For Lasso Regression, the parameter is $\\alpha=0.1$ and the mean cross-validation score is $R^2 = 0.783805$. \n",
    "\n",
    "#### Test Score Analysis\n",
    "\n",
    "Additionally, as shown in the dataframe below, the models with the tuned parameters also had the best test scores. For the Ridge Regression when $\\alpha = 10$, the test-score is $R^2=0.804468$, and for the Lasso Regression when $\\alpha=0.1$, the test score is $0.805479$."
   ]
  },
  {
   "cell_type": "code",
   "execution_count": 29,
   "metadata": {},
   "outputs": [
    {
     "data": {
      "text/html": [
       "<div>\n",
       "<style scoped>\n",
       "    .dataframe tbody tr th:only-of-type {\n",
       "        vertical-align: middle;\n",
       "    }\n",
       "\n",
       "    .dataframe tbody tr th {\n",
       "        vertical-align: top;\n",
       "    }\n",
       "\n",
       "    .dataframe thead th {\n",
       "        text-align: right;\n",
       "    }\n",
       "</style>\n",
       "<table border=\"1\" class=\"dataframe\">\n",
       "  <thead>\n",
       "    <tr style=\"text-align: right;\">\n",
       "      <th></th>\n",
       "      <th>Original (Default Parameters)</th>\n",
       "      <th>Scaled (Default Parameters)</th>\n",
       "      <th>Tuned (Scaled X)</th>\n",
       "    </tr>\n",
       "    <tr>\n",
       "      <th>Regression</th>\n",
       "      <th></th>\n",
       "      <th></th>\n",
       "      <th></th>\n",
       "    </tr>\n",
       "  </thead>\n",
       "  <tbody>\n",
       "    <tr>\n",
       "      <th>Linear Regression</th>\n",
       "      <td>0.807024</td>\n",
       "      <td>0.786059</td>\n",
       "      <td>N/A</td>\n",
       "    </tr>\n",
       "    <tr>\n",
       "      <th>KN Regression</th>\n",
       "      <td>0.084856</td>\n",
       "      <td>0.768931</td>\n",
       "      <td>0.782136</td>\n",
       "    </tr>\n",
       "    <tr>\n",
       "      <th>Ridge Regression</th>\n",
       "      <td>0.807460</td>\n",
       "      <td>0.806971</td>\n",
       "      <td>0.804468</td>\n",
       "    </tr>\n",
       "    <tr>\n",
       "      <th>Lasso Regression</th>\n",
       "      <td>0.806901</td>\n",
       "      <td>0.786059</td>\n",
       "      <td>0.805479</td>\n",
       "    </tr>\n",
       "  </tbody>\n",
       "</table>\n",
       "</div>"
      ],
      "text/plain": [
       "                   Original (Default Parameters)  Scaled (Default Parameters)  \\\n",
       "Regression                                                                      \n",
       "Linear Regression                       0.807024                     0.786059   \n",
       "KN Regression                           0.084856                     0.768931   \n",
       "Ridge Regression                        0.807460                     0.806971   \n",
       "Lasso Regression                        0.806901                     0.786059   \n",
       "\n",
       "                  Tuned (Scaled X)  \n",
       "Regression                          \n",
       "Linear Regression              N/A  \n",
       "KN Regression             0.782136  \n",
       "Ridge Regression          0.804468  \n",
       "Lasso Regression          0.805479  "
      ]
     },
     "execution_count": 29,
     "metadata": {},
     "output_type": "execute_result"
    }
   ],
   "source": [
    "#FINAL TEST SCORE DATAFRAME\n",
    "\n",
    "'''\n",
    "Creating a dataframe with all test scores from all model evaluations  \n",
    "\n",
    "The first column: test scores when the X training data is unscaled\n",
    "The second column: test scores when the X training is scaled using the StandardScaler function\n",
    "The third column: test scores for tuned model when the X training is scaled using the \n",
    "StandardScaler function\n",
    "'''\n",
    "grid_testscore_df = (pd.DataFrame({'Tuned (Scaled X)':[\"N/A\", knr_grid_testscore, ridge_grid_testscore, lasso_grid_testscore],\n",
    "                         'Regression':regression})).set_index('Regression')\n",
    "grid_testscore_df\n",
    "\n",
    "data_frames = [test_score_df, grid_testscore_df]\n",
    "final_ts = pd.concat(data_frames, axis=1)\n",
    "final_ts"
   ]
  },
  {
   "cell_type": "markdown",
   "metadata": {
    "id": "7HMCxPyVInI5"
   },
   "source": [
    "## #1.5 \n",
    "\n",
    "Compare the coefficients of your two best linear models (not knn), do they agree on which features are important?\n",
    "\n",
    "---"
   ]
  },
  {
   "cell_type": "code",
   "execution_count": 30,
   "metadata": {
    "colab": {
     "base_uri": "https://localhost:8080/",
     "height": 509
    },
    "id": "yBWz54o7Ichq",
    "outputId": "04209a93-e974-4f44-ac86-b616003254dd"
   },
   "outputs": [
    {
     "name": "stdout",
     "output_type": "stream",
     "text": [
      "Index(['enrltot', 'teachers', 'calwpct', 'mealpct', 'computer', 'compstu',\n",
      "       'expnstu', 'str', 'avginc', 'elpct'],\n",
      "      dtype='object')\n",
      "[ 0.07269491 -0.92810378 -1.24237127 -9.65603891  0.94468825 -0.08099605\n",
      "  1.15706149 -0.63971526  3.7388452  -3.52255519]\n",
      "[ -0.          -0.          -0.         -10.63996226  -0.\n",
      "   0.           0.45852359  -0.22704534   3.32363204  -2.55679942]\n"
     ]
    },
    {
     "data": {
      "text/html": [
       "<div>\n",
       "<style scoped>\n",
       "    .dataframe tbody tr th:only-of-type {\n",
       "        vertical-align: middle;\n",
       "    }\n",
       "\n",
       "    .dataframe tbody tr th {\n",
       "        vertical-align: top;\n",
       "    }\n",
       "\n",
       "    .dataframe thead th {\n",
       "        text-align: right;\n",
       "    }\n",
       "</style>\n",
       "<table border=\"1\" class=\"dataframe\">\n",
       "  <thead>\n",
       "    <tr style=\"text-align: right;\">\n",
       "      <th></th>\n",
       "      <th>Ridge Coef</th>\n",
       "      <th>Lasso Coef</th>\n",
       "    </tr>\n",
       "    <tr>\n",
       "      <th>Feature</th>\n",
       "      <th></th>\n",
       "      <th></th>\n",
       "    </tr>\n",
       "  </thead>\n",
       "  <tbody>\n",
       "    <tr>\n",
       "      <th>enrltot</th>\n",
       "      <td>0.072695</td>\n",
       "      <td>-0.000000</td>\n",
       "    </tr>\n",
       "    <tr>\n",
       "      <th>teachers</th>\n",
       "      <td>-0.928104</td>\n",
       "      <td>-0.000000</td>\n",
       "    </tr>\n",
       "    <tr>\n",
       "      <th>calwpct</th>\n",
       "      <td>-1.242371</td>\n",
       "      <td>-0.000000</td>\n",
       "    </tr>\n",
       "    <tr>\n",
       "      <th>mealpct</th>\n",
       "      <td>-9.656039</td>\n",
       "      <td>-10.639962</td>\n",
       "    </tr>\n",
       "    <tr>\n",
       "      <th>computer</th>\n",
       "      <td>0.944688</td>\n",
       "      <td>-0.000000</td>\n",
       "    </tr>\n",
       "    <tr>\n",
       "      <th>compstu</th>\n",
       "      <td>-0.080996</td>\n",
       "      <td>0.000000</td>\n",
       "    </tr>\n",
       "    <tr>\n",
       "      <th>expnstu</th>\n",
       "      <td>1.157061</td>\n",
       "      <td>0.458524</td>\n",
       "    </tr>\n",
       "    <tr>\n",
       "      <th>str</th>\n",
       "      <td>-0.639715</td>\n",
       "      <td>-0.227045</td>\n",
       "    </tr>\n",
       "    <tr>\n",
       "      <th>avginc</th>\n",
       "      <td>3.738845</td>\n",
       "      <td>3.323632</td>\n",
       "    </tr>\n",
       "    <tr>\n",
       "      <th>elpct</th>\n",
       "      <td>-3.522555</td>\n",
       "      <td>-2.556799</td>\n",
       "    </tr>\n",
       "  </tbody>\n",
       "</table>\n",
       "</div>"
      ],
      "text/plain": [
       "          Ridge Coef  Lasso Coef\n",
       "Feature                         \n",
       "enrltot     0.072695   -0.000000\n",
       "teachers   -0.928104   -0.000000\n",
       "calwpct    -1.242371   -0.000000\n",
       "mealpct    -9.656039  -10.639962\n",
       "computer    0.944688   -0.000000\n",
       "compstu    -0.080996    0.000000\n",
       "expnstu     1.157061    0.458524\n",
       "str        -0.639715   -0.227045\n",
       "avginc      3.738845    3.323632\n",
       "elpct      -3.522555   -2.556799"
      ]
     },
     "execution_count": 30,
     "metadata": {},
     "output_type": "execute_result"
    }
   ],
   "source": [
    "\n",
    "ridge10 = Ridge(alpha=10) #Ridge Function with optimal parameter\n",
    "ridge_opt = ridge.fit(X_train_scaled, y_train)\n",
    "\n",
    "lasso01 = Lasso(alpha=0.1) #Lasso Function with optimal parameter\n",
    "lasso_opt = lasso.fit(X_train_scaled, y_train)\n",
    "\n",
    "ridge_coef = ridge_opt.coef_\n",
    "lasso_coef = lasso_opt.coef_\n",
    "\n",
    "print(X.columns)\n",
    "print(ridge_coef)\n",
    "print(lasso_coef)\n",
    "\n",
    "#Creating dataframe of coefficients for both ridge and lasso regressions\n",
    "coef_df = (pd.DataFrame({'Ridge Coef':ridge_coef, 'Lasso Coef':lasso_coef, 'Feature':X.columns}).set_index('Feature'))\n",
    "\n",
    "coef_df"
   ]
  },
  {
   "cell_type": "code",
   "execution_count": 31,
   "metadata": {
    "colab": {
     "base_uri": "https://localhost:8080/",
     "height": 525
    },
    "id": "vI0ZAB7SNCVa",
    "outputId": "e4d31be8-c0f8-4c98-90e8-ad3dd3b44411"
   },
   "outputs": [
    {
     "data": {
      "image/png": "[encoded data removed]",
      "text/plain": [
       "<Figure size 640x480 with 1 Axes>"
      ]
     },
     "metadata": {},
     "output_type": "display_data"
    }
   ],
   "source": [
    "coef_plot = coef_df.plot.bar(rot=0)\n",
    "plt.title(\"Ridge and Lasso Regression Coefficent Magnitudes\")\n",
    "plt.xticks(rotation=90)\n",
    "plt.ylabel(\"Coefficent Magnitude\")\n",
    "plt.grid(True, which=\"both\")"
   ]
  },
  {
   "cell_type": "markdown",
   "metadata": {
    "id": "Dw_IL2UOUyNH"
   },
   "source": [
    "### 1.5 Analysis\n",
    "\n",
    "The models agree with which features are important. The most important coefficients for both models were the percent qualifying for reduced-price lunch, district average income, and percent of English learners.\n",
    "\n",
    "The percent qualifying for reduced-price lunch has the largest coefficient magnitudes, which $-9.65$ for the tuned Ridge Regression model and $-10.63$ for the tuned Lasso Regression.\n",
    "\n",
    "The models for the most part agree on which coefficents were the least important, such as the total enrollment and number of teachers, and although the Lasso model shrinked the magnitudes to zero, causing a minor discrepancy.\n",
    "\n",
    "----"
   ]
  },
  {
   "cell_type": "markdown",
   "metadata": {
    "id": "CEiDkPiFU6Wu"
   },
   "source": [
    "## #1.6 \n",
    "\n",
    "Now that you have experimented with different models, discuss which final model you would choose to predict new data\n",
    "\n",
    "----"
   ]
  },
  {
   "cell_type": "markdown",
   "metadata": {
    "id": "bBYLMqxEU9rg"
   },
   "source": [
    "To predict the final data, I would use the Lasso Regression model with an parameter of $\\alpha=0.1$, with scaled X training data using StandardScaler. This is because it has the highest mean cross-validation score $(R^2=$0.783805$)$. Additionally, this model, after scaling X testing, also has the highest test score ($R^2=0.805479$).\n",
    "\n",
    "----"
   ]
  },
  {
   "cell_type": "markdown",
   "metadata": {
    "id": "r_mpWIMSI5HT"
   },
   "source": [
    "### Part 2: Classification on red and white wine characteristics\n",
    "\n"
   ]
  },
  {
   "cell_type": "markdown",
   "metadata": {
    "id": "vrqmBv3KO8o7"
   },
   "source": [
    "First, import the red and the white wine csv files into separate pandas dataframes from the following website:\n",
    "\n",
    "https://archive.ics.uci.edu/ml/machine-learning-databases/wine-quality/\n",
    "\n",
    "(Note: you need to adjust the argument for read_csv() from sep=',' to sep=';')\n",
    "\n",
    "Add a new column to each data frame called \"winetype\".  For the white wine dataset label the values in this column with a 0, indicating white wine.  For the red wine dataset, label values with a 1, indicating red wine.  Combine both datasets into a single dataframe.\n",
    "\n",
    "The target data (i.e. the dependent variable) is \"winetype\".\n",
    "\n"
   ]
  },
  {
   "cell_type": "code",
   "execution_count": 32,
   "metadata": {
    "colab": {
     "base_uri": "https://localhost:8080/",
     "height": 376
    },
    "id": "jMlUXCUGJfzc",
    "outputId": "dea305f9-3953-425e-d160-8e5422062cc4"
   },
   "outputs": [
    {
     "data": {
      "text/html": [
       "<div>\n",
       "<style scoped>\n",
       "    .dataframe tbody tr th:only-of-type {\n",
       "        vertical-align: middle;\n",
       "    }\n",
       "\n",
       "    .dataframe tbody tr th {\n",
       "        vertical-align: top;\n",
       "    }\n",
       "\n",
       "    .dataframe thead th {\n",
       "        text-align: right;\n",
       "    }\n",
       "</style>\n",
       "<table border=\"1\" class=\"dataframe\">\n",
       "  <thead>\n",
       "    <tr style=\"text-align: right;\">\n",
       "      <th></th>\n",
       "      <th>fixed acidity</th>\n",
       "      <th>volatile acidity</th>\n",
       "      <th>citric acid</th>\n",
       "      <th>residual sugar</th>\n",
       "      <th>chlorides</th>\n",
       "      <th>free sulfur dioxide</th>\n",
       "      <th>total sulfur dioxide</th>\n",
       "      <th>density</th>\n",
       "      <th>pH</th>\n",
       "      <th>sulphates</th>\n",
       "      <th>alcohol</th>\n",
       "      <th>quality</th>\n",
       "    </tr>\n",
       "  </thead>\n",
       "  <tbody>\n",
       "    <tr>\n",
       "      <th>0</th>\n",
       "      <td>7.4</td>\n",
       "      <td>0.70</td>\n",
       "      <td>0.00</td>\n",
       "      <td>1.9</td>\n",
       "      <td>0.076</td>\n",
       "      <td>11.0</td>\n",
       "      <td>34.0</td>\n",
       "      <td>0.9978</td>\n",
       "      <td>3.51</td>\n",
       "      <td>0.56</td>\n",
       "      <td>9.4</td>\n",
       "      <td>5</td>\n",
       "    </tr>\n",
       "    <tr>\n",
       "      <th>1</th>\n",
       "      <td>7.8</td>\n",
       "      <td>0.88</td>\n",
       "      <td>0.00</td>\n",
       "      <td>2.6</td>\n",
       "      <td>0.098</td>\n",
       "      <td>25.0</td>\n",
       "      <td>67.0</td>\n",
       "      <td>0.9968</td>\n",
       "      <td>3.20</td>\n",
       "      <td>0.68</td>\n",
       "      <td>9.8</td>\n",
       "      <td>5</td>\n",
       "    </tr>\n",
       "    <tr>\n",
       "      <th>2</th>\n",
       "      <td>7.8</td>\n",
       "      <td>0.76</td>\n",
       "      <td>0.04</td>\n",
       "      <td>2.3</td>\n",
       "      <td>0.092</td>\n",
       "      <td>15.0</td>\n",
       "      <td>54.0</td>\n",
       "      <td>0.9970</td>\n",
       "      <td>3.26</td>\n",
       "      <td>0.65</td>\n",
       "      <td>9.8</td>\n",
       "      <td>5</td>\n",
       "    </tr>\n",
       "    <tr>\n",
       "      <th>3</th>\n",
       "      <td>11.2</td>\n",
       "      <td>0.28</td>\n",
       "      <td>0.56</td>\n",
       "      <td>1.9</td>\n",
       "      <td>0.075</td>\n",
       "      <td>17.0</td>\n",
       "      <td>60.0</td>\n",
       "      <td>0.9980</td>\n",
       "      <td>3.16</td>\n",
       "      <td>0.58</td>\n",
       "      <td>9.8</td>\n",
       "      <td>6</td>\n",
       "    </tr>\n",
       "    <tr>\n",
       "      <th>4</th>\n",
       "      <td>7.4</td>\n",
       "      <td>0.70</td>\n",
       "      <td>0.00</td>\n",
       "      <td>1.9</td>\n",
       "      <td>0.076</td>\n",
       "      <td>11.0</td>\n",
       "      <td>34.0</td>\n",
       "      <td>0.9978</td>\n",
       "      <td>3.51</td>\n",
       "      <td>0.56</td>\n",
       "      <td>9.4</td>\n",
       "      <td>5</td>\n",
       "    </tr>\n",
       "    <tr>\n",
       "      <th>5</th>\n",
       "      <td>7.4</td>\n",
       "      <td>0.66</td>\n",
       "      <td>0.00</td>\n",
       "      <td>1.8</td>\n",
       "      <td>0.075</td>\n",
       "      <td>13.0</td>\n",
       "      <td>40.0</td>\n",
       "      <td>0.9978</td>\n",
       "      <td>3.51</td>\n",
       "      <td>0.56</td>\n",
       "      <td>9.4</td>\n",
       "      <td>5</td>\n",
       "    </tr>\n",
       "    <tr>\n",
       "      <th>6</th>\n",
       "      <td>7.9</td>\n",
       "      <td>0.60</td>\n",
       "      <td>0.06</td>\n",
       "      <td>1.6</td>\n",
       "      <td>0.069</td>\n",
       "      <td>15.0</td>\n",
       "      <td>59.0</td>\n",
       "      <td>0.9964</td>\n",
       "      <td>3.30</td>\n",
       "      <td>0.46</td>\n",
       "      <td>9.4</td>\n",
       "      <td>5</td>\n",
       "    </tr>\n",
       "    <tr>\n",
       "      <th>7</th>\n",
       "      <td>7.3</td>\n",
       "      <td>0.65</td>\n",
       "      <td>0.00</td>\n",
       "      <td>1.2</td>\n",
       "      <td>0.065</td>\n",
       "      <td>15.0</td>\n",
       "      <td>21.0</td>\n",
       "      <td>0.9946</td>\n",
       "      <td>3.39</td>\n",
       "      <td>0.47</td>\n",
       "      <td>10.0</td>\n",
       "      <td>7</td>\n",
       "    </tr>\n",
       "    <tr>\n",
       "      <th>8</th>\n",
       "      <td>7.8</td>\n",
       "      <td>0.58</td>\n",
       "      <td>0.02</td>\n",
       "      <td>2.0</td>\n",
       "      <td>0.073</td>\n",
       "      <td>9.0</td>\n",
       "      <td>18.0</td>\n",
       "      <td>0.9968</td>\n",
       "      <td>3.36</td>\n",
       "      <td>0.57</td>\n",
       "      <td>9.5</td>\n",
       "      <td>7</td>\n",
       "    </tr>\n",
       "    <tr>\n",
       "      <th>9</th>\n",
       "      <td>7.5</td>\n",
       "      <td>0.50</td>\n",
       "      <td>0.36</td>\n",
       "      <td>6.1</td>\n",
       "      <td>0.071</td>\n",
       "      <td>17.0</td>\n",
       "      <td>102.0</td>\n",
       "      <td>0.9978</td>\n",
       "      <td>3.35</td>\n",
       "      <td>0.80</td>\n",
       "      <td>10.5</td>\n",
       "      <td>5</td>\n",
       "    </tr>\n",
       "  </tbody>\n",
       "</table>\n",
       "</div>"
      ],
      "text/plain": [
       "   fixed acidity  volatile acidity  citric acid  residual sugar  chlorides  \\\n",
       "0            7.4              0.70         0.00             1.9      0.076   \n",
       "1            7.8              0.88         0.00             2.6      0.098   \n",
       "2            7.8              0.76         0.04             2.3      0.092   \n",
       "3           11.2              0.28         0.56             1.9      0.075   \n",
       "4            7.4              0.70         0.00             1.9      0.076   \n",
       "5            7.4              0.66         0.00             1.8      0.075   \n",
       "6            7.9              0.60         0.06             1.6      0.069   \n",
       "7            7.3              0.65         0.00             1.2      0.065   \n",
       "8            7.8              0.58         0.02             2.0      0.073   \n",
       "9            7.5              0.50         0.36             6.1      0.071   \n",
       "\n",
       "   free sulfur dioxide  total sulfur dioxide  density    pH  sulphates  \\\n",
       "0                 11.0                  34.0   0.9978  3.51       0.56   \n",
       "1                 25.0                  67.0   0.9968  3.20       0.68   \n",
       "2                 15.0                  54.0   0.9970  3.26       0.65   \n",
       "3                 17.0                  60.0   0.9980  3.16       0.58   \n",
       "4                 11.0                  34.0   0.9978  3.51       0.56   \n",
       "5                 13.0                  40.0   0.9978  3.51       0.56   \n",
       "6                 15.0                  59.0   0.9964  3.30       0.46   \n",
       "7                 15.0                  21.0   0.9946  3.39       0.47   \n",
       "8                  9.0                  18.0   0.9968  3.36       0.57   \n",
       "9                 17.0                 102.0   0.9978  3.35       0.80   \n",
       "\n",
       "   alcohol  quality  \n",
       "0      9.4        5  \n",
       "1      9.8        5  \n",
       "2      9.8        5  \n",
       "3      9.8        6  \n",
       "4      9.4        5  \n",
       "5      9.4        5  \n",
       "6      9.4        5  \n",
       "7     10.0        7  \n",
       "8      9.5        7  \n",
       "9     10.5        5  "
      ]
     },
     "execution_count": 32,
     "metadata": {},
     "output_type": "execute_result"
    }
   ],
   "source": [
    "#Creating dataframe for red wine data\n",
    "red_wine_df = pd.read_csv(\"https://archive.ics.uci.edu/ml/machine-learning-databases/wine-quality/winequality-red.csv\", sep=';')\n",
    "red_wine_df.head(10)"
   ]
  },
  {
   "cell_type": "code",
   "execution_count": 33,
   "metadata": {
    "colab": {
     "base_uri": "https://localhost:8080/",
     "height": 376
    },
    "id": "cj3bJv71O3FR",
    "outputId": "aa0c2a48-6c7e-4a1b-c925-faea53b5d5d4"
   },
   "outputs": [
    {
     "data": {
      "text/html": [
       "<div>\n",
       "<style scoped>\n",
       "    .dataframe tbody tr th:only-of-type {\n",
       "        vertical-align: middle;\n",
       "    }\n",
       "\n",
       "    .dataframe tbody tr th {\n",
       "        vertical-align: top;\n",
       "    }\n",
       "\n",
       "    .dataframe thead th {\n",
       "        text-align: right;\n",
       "    }\n",
       "</style>\n",
       "<table border=\"1\" class=\"dataframe\">\n",
       "  <thead>\n",
       "    <tr style=\"text-align: right;\">\n",
       "      <th></th>\n",
       "      <th>fixed acidity</th>\n",
       "      <th>volatile acidity</th>\n",
       "      <th>citric acid</th>\n",
       "      <th>residual sugar</th>\n",
       "      <th>chlorides</th>\n",
       "      <th>free sulfur dioxide</th>\n",
       "      <th>total sulfur dioxide</th>\n",
       "      <th>density</th>\n",
       "      <th>pH</th>\n",
       "      <th>sulphates</th>\n",
       "      <th>alcohol</th>\n",
       "      <th>quality</th>\n",
       "      <th>winetype</th>\n",
       "    </tr>\n",
       "  </thead>\n",
       "  <tbody>\n",
       "    <tr>\n",
       "      <th>0</th>\n",
       "      <td>7.4</td>\n",
       "      <td>0.70</td>\n",
       "      <td>0.00</td>\n",
       "      <td>1.9</td>\n",
       "      <td>0.076</td>\n",
       "      <td>11.0</td>\n",
       "      <td>34.0</td>\n",
       "      <td>0.9978</td>\n",
       "      <td>3.51</td>\n",
       "      <td>0.56</td>\n",
       "      <td>9.4</td>\n",
       "      <td>5</td>\n",
       "      <td>1</td>\n",
       "    </tr>\n",
       "    <tr>\n",
       "      <th>1</th>\n",
       "      <td>7.8</td>\n",
       "      <td>0.88</td>\n",
       "      <td>0.00</td>\n",
       "      <td>2.6</td>\n",
       "      <td>0.098</td>\n",
       "      <td>25.0</td>\n",
       "      <td>67.0</td>\n",
       "      <td>0.9968</td>\n",
       "      <td>3.20</td>\n",
       "      <td>0.68</td>\n",
       "      <td>9.8</td>\n",
       "      <td>5</td>\n",
       "      <td>1</td>\n",
       "    </tr>\n",
       "    <tr>\n",
       "      <th>2</th>\n",
       "      <td>7.8</td>\n",
       "      <td>0.76</td>\n",
       "      <td>0.04</td>\n",
       "      <td>2.3</td>\n",
       "      <td>0.092</td>\n",
       "      <td>15.0</td>\n",
       "      <td>54.0</td>\n",
       "      <td>0.9970</td>\n",
       "      <td>3.26</td>\n",
       "      <td>0.65</td>\n",
       "      <td>9.8</td>\n",
       "      <td>5</td>\n",
       "      <td>1</td>\n",
       "    </tr>\n",
       "    <tr>\n",
       "      <th>3</th>\n",
       "      <td>11.2</td>\n",
       "      <td>0.28</td>\n",
       "      <td>0.56</td>\n",
       "      <td>1.9</td>\n",
       "      <td>0.075</td>\n",
       "      <td>17.0</td>\n",
       "      <td>60.0</td>\n",
       "      <td>0.9980</td>\n",
       "      <td>3.16</td>\n",
       "      <td>0.58</td>\n",
       "      <td>9.8</td>\n",
       "      <td>6</td>\n",
       "      <td>1</td>\n",
       "    </tr>\n",
       "    <tr>\n",
       "      <th>4</th>\n",
       "      <td>7.4</td>\n",
       "      <td>0.70</td>\n",
       "      <td>0.00</td>\n",
       "      <td>1.9</td>\n",
       "      <td>0.076</td>\n",
       "      <td>11.0</td>\n",
       "      <td>34.0</td>\n",
       "      <td>0.9978</td>\n",
       "      <td>3.51</td>\n",
       "      <td>0.56</td>\n",
       "      <td>9.4</td>\n",
       "      <td>5</td>\n",
       "      <td>1</td>\n",
       "    </tr>\n",
       "    <tr>\n",
       "      <th>5</th>\n",
       "      <td>7.4</td>\n",
       "      <td>0.66</td>\n",
       "      <td>0.00</td>\n",
       "      <td>1.8</td>\n",
       "      <td>0.075</td>\n",
       "      <td>13.0</td>\n",
       "      <td>40.0</td>\n",
       "      <td>0.9978</td>\n",
       "      <td>3.51</td>\n",
       "      <td>0.56</td>\n",
       "      <td>9.4</td>\n",
       "      <td>5</td>\n",
       "      <td>1</td>\n",
       "    </tr>\n",
       "    <tr>\n",
       "      <th>6</th>\n",
       "      <td>7.9</td>\n",
       "      <td>0.60</td>\n",
       "      <td>0.06</td>\n",
       "      <td>1.6</td>\n",
       "      <td>0.069</td>\n",
       "      <td>15.0</td>\n",
       "      <td>59.0</td>\n",
       "      <td>0.9964</td>\n",
       "      <td>3.30</td>\n",
       "      <td>0.46</td>\n",
       "      <td>9.4</td>\n",
       "      <td>5</td>\n",
       "      <td>1</td>\n",
       "    </tr>\n",
       "    <tr>\n",
       "      <th>7</th>\n",
       "      <td>7.3</td>\n",
       "      <td>0.65</td>\n",
       "      <td>0.00</td>\n",
       "      <td>1.2</td>\n",
       "      <td>0.065</td>\n",
       "      <td>15.0</td>\n",
       "      <td>21.0</td>\n",
       "      <td>0.9946</td>\n",
       "      <td>3.39</td>\n",
       "      <td>0.47</td>\n",
       "      <td>10.0</td>\n",
       "      <td>7</td>\n",
       "      <td>1</td>\n",
       "    </tr>\n",
       "    <tr>\n",
       "      <th>8</th>\n",
       "      <td>7.8</td>\n",
       "      <td>0.58</td>\n",
       "      <td>0.02</td>\n",
       "      <td>2.0</td>\n",
       "      <td>0.073</td>\n",
       "      <td>9.0</td>\n",
       "      <td>18.0</td>\n",
       "      <td>0.9968</td>\n",
       "      <td>3.36</td>\n",
       "      <td>0.57</td>\n",
       "      <td>9.5</td>\n",
       "      <td>7</td>\n",
       "      <td>1</td>\n",
       "    </tr>\n",
       "    <tr>\n",
       "      <th>9</th>\n",
       "      <td>7.5</td>\n",
       "      <td>0.50</td>\n",
       "      <td>0.36</td>\n",
       "      <td>6.1</td>\n",
       "      <td>0.071</td>\n",
       "      <td>17.0</td>\n",
       "      <td>102.0</td>\n",
       "      <td>0.9978</td>\n",
       "      <td>3.35</td>\n",
       "      <td>0.80</td>\n",
       "      <td>10.5</td>\n",
       "      <td>5</td>\n",
       "      <td>1</td>\n",
       "    </tr>\n",
       "  </tbody>\n",
       "</table>\n",
       "</div>"
      ],
      "text/plain": [
       "   fixed acidity  volatile acidity  citric acid  residual sugar  chlorides  \\\n",
       "0            7.4              0.70         0.00             1.9      0.076   \n",
       "1            7.8              0.88         0.00             2.6      0.098   \n",
       "2            7.8              0.76         0.04             2.3      0.092   \n",
       "3           11.2              0.28         0.56             1.9      0.075   \n",
       "4            7.4              0.70         0.00             1.9      0.076   \n",
       "5            7.4              0.66         0.00             1.8      0.075   \n",
       "6            7.9              0.60         0.06             1.6      0.069   \n",
       "7            7.3              0.65         0.00             1.2      0.065   \n",
       "8            7.8              0.58         0.02             2.0      0.073   \n",
       "9            7.5              0.50         0.36             6.1      0.071   \n",
       "\n",
       "   free sulfur dioxide  total sulfur dioxide  density    pH  sulphates  \\\n",
       "0                 11.0                  34.0   0.9978  3.51       0.56   \n",
       "1                 25.0                  67.0   0.9968  3.20       0.68   \n",
       "2                 15.0                  54.0   0.9970  3.26       0.65   \n",
       "3                 17.0                  60.0   0.9980  3.16       0.58   \n",
       "4                 11.0                  34.0   0.9978  3.51       0.56   \n",
       "5                 13.0                  40.0   0.9978  3.51       0.56   \n",
       "6                 15.0                  59.0   0.9964  3.30       0.46   \n",
       "7                 15.0                  21.0   0.9946  3.39       0.47   \n",
       "8                  9.0                  18.0   0.9968  3.36       0.57   \n",
       "9                 17.0                 102.0   0.9978  3.35       0.80   \n",
       "\n",
       "   alcohol  quality  winetype  \n",
       "0      9.4        5         1  \n",
       "1      9.8        5         1  \n",
       "2      9.8        5         1  \n",
       "3      9.8        6         1  \n",
       "4      9.4        5         1  \n",
       "5      9.4        5         1  \n",
       "6      9.4        5         1  \n",
       "7     10.0        7         1  \n",
       "8      9.5        7         1  \n",
       "9     10.5        5         1  "
      ]
     },
     "execution_count": 33,
     "metadata": {},
     "output_type": "execute_result"
    }
   ],
   "source": [
    "#Creating column with all values being 1, meaning the indicator variable for red wine is 1 in impending merged wine dataframe\n",
    "red_wine_df[\"winetype\"]=1\n",
    "red_wine_df.head(10)"
   ]
  },
  {
   "cell_type": "code",
   "execution_count": 34,
   "metadata": {
    "colab": {
     "base_uri": "https://localhost:8080/",
     "height": 376
    },
    "id": "HLSHdkrEPLVR",
    "outputId": "63382188-303e-4533-d94b-8753f23c036f"
   },
   "outputs": [
    {
     "data": {
      "text/html": [
       "<div>\n",
       "<style scoped>\n",
       "    .dataframe tbody tr th:only-of-type {\n",
       "        vertical-align: middle;\n",
       "    }\n",
       "\n",
       "    .dataframe tbody tr th {\n",
       "        vertical-align: top;\n",
       "    }\n",
       "\n",
       "    .dataframe thead th {\n",
       "        text-align: right;\n",
       "    }\n",
       "</style>\n",
       "<table border=\"1\" class=\"dataframe\">\n",
       "  <thead>\n",
       "    <tr style=\"text-align: right;\">\n",
       "      <th></th>\n",
       "      <th>fixed acidity</th>\n",
       "      <th>volatile acidity</th>\n",
       "      <th>citric acid</th>\n",
       "      <th>residual sugar</th>\n",
       "      <th>chlorides</th>\n",
       "      <th>free sulfur dioxide</th>\n",
       "      <th>total sulfur dioxide</th>\n",
       "      <th>density</th>\n",
       "      <th>pH</th>\n",
       "      <th>sulphates</th>\n",
       "      <th>alcohol</th>\n",
       "      <th>quality</th>\n",
       "    </tr>\n",
       "  </thead>\n",
       "  <tbody>\n",
       "    <tr>\n",
       "      <th>0</th>\n",
       "      <td>7.0</td>\n",
       "      <td>0.27</td>\n",
       "      <td>0.36</td>\n",
       "      <td>20.7</td>\n",
       "      <td>0.045</td>\n",
       "      <td>45.0</td>\n",
       "      <td>170.0</td>\n",
       "      <td>1.0010</td>\n",
       "      <td>3.00</td>\n",
       "      <td>0.45</td>\n",
       "      <td>8.8</td>\n",
       "      <td>6</td>\n",
       "    </tr>\n",
       "    <tr>\n",
       "      <th>1</th>\n",
       "      <td>6.3</td>\n",
       "      <td>0.30</td>\n",
       "      <td>0.34</td>\n",
       "      <td>1.6</td>\n",
       "      <td>0.049</td>\n",
       "      <td>14.0</td>\n",
       "      <td>132.0</td>\n",
       "      <td>0.9940</td>\n",
       "      <td>3.30</td>\n",
       "      <td>0.49</td>\n",
       "      <td>9.5</td>\n",
       "      <td>6</td>\n",
       "    </tr>\n",
       "    <tr>\n",
       "      <th>2</th>\n",
       "      <td>8.1</td>\n",
       "      <td>0.28</td>\n",
       "      <td>0.40</td>\n",
       "      <td>6.9</td>\n",
       "      <td>0.050</td>\n",
       "      <td>30.0</td>\n",
       "      <td>97.0</td>\n",
       "      <td>0.9951</td>\n",
       "      <td>3.26</td>\n",
       "      <td>0.44</td>\n",
       "      <td>10.1</td>\n",
       "      <td>6</td>\n",
       "    </tr>\n",
       "    <tr>\n",
       "      <th>3</th>\n",
       "      <td>7.2</td>\n",
       "      <td>0.23</td>\n",
       "      <td>0.32</td>\n",
       "      <td>8.5</td>\n",
       "      <td>0.058</td>\n",
       "      <td>47.0</td>\n",
       "      <td>186.0</td>\n",
       "      <td>0.9956</td>\n",
       "      <td>3.19</td>\n",
       "      <td>0.40</td>\n",
       "      <td>9.9</td>\n",
       "      <td>6</td>\n",
       "    </tr>\n",
       "    <tr>\n",
       "      <th>4</th>\n",
       "      <td>7.2</td>\n",
       "      <td>0.23</td>\n",
       "      <td>0.32</td>\n",
       "      <td>8.5</td>\n",
       "      <td>0.058</td>\n",
       "      <td>47.0</td>\n",
       "      <td>186.0</td>\n",
       "      <td>0.9956</td>\n",
       "      <td>3.19</td>\n",
       "      <td>0.40</td>\n",
       "      <td>9.9</td>\n",
       "      <td>6</td>\n",
       "    </tr>\n",
       "    <tr>\n",
       "      <th>5</th>\n",
       "      <td>8.1</td>\n",
       "      <td>0.28</td>\n",
       "      <td>0.40</td>\n",
       "      <td>6.9</td>\n",
       "      <td>0.050</td>\n",
       "      <td>30.0</td>\n",
       "      <td>97.0</td>\n",
       "      <td>0.9951</td>\n",
       "      <td>3.26</td>\n",
       "      <td>0.44</td>\n",
       "      <td>10.1</td>\n",
       "      <td>6</td>\n",
       "    </tr>\n",
       "    <tr>\n",
       "      <th>6</th>\n",
       "      <td>6.2</td>\n",
       "      <td>0.32</td>\n",
       "      <td>0.16</td>\n",
       "      <td>7.0</td>\n",
       "      <td>0.045</td>\n",
       "      <td>30.0</td>\n",
       "      <td>136.0</td>\n",
       "      <td>0.9949</td>\n",
       "      <td>3.18</td>\n",
       "      <td>0.47</td>\n",
       "      <td>9.6</td>\n",
       "      <td>6</td>\n",
       "    </tr>\n",
       "    <tr>\n",
       "      <th>7</th>\n",
       "      <td>7.0</td>\n",
       "      <td>0.27</td>\n",
       "      <td>0.36</td>\n",
       "      <td>20.7</td>\n",
       "      <td>0.045</td>\n",
       "      <td>45.0</td>\n",
       "      <td>170.0</td>\n",
       "      <td>1.0010</td>\n",
       "      <td>3.00</td>\n",
       "      <td>0.45</td>\n",
       "      <td>8.8</td>\n",
       "      <td>6</td>\n",
       "    </tr>\n",
       "    <tr>\n",
       "      <th>8</th>\n",
       "      <td>6.3</td>\n",
       "      <td>0.30</td>\n",
       "      <td>0.34</td>\n",
       "      <td>1.6</td>\n",
       "      <td>0.049</td>\n",
       "      <td>14.0</td>\n",
       "      <td>132.0</td>\n",
       "      <td>0.9940</td>\n",
       "      <td>3.30</td>\n",
       "      <td>0.49</td>\n",
       "      <td>9.5</td>\n",
       "      <td>6</td>\n",
       "    </tr>\n",
       "    <tr>\n",
       "      <th>9</th>\n",
       "      <td>8.1</td>\n",
       "      <td>0.22</td>\n",
       "      <td>0.43</td>\n",
       "      <td>1.5</td>\n",
       "      <td>0.044</td>\n",
       "      <td>28.0</td>\n",
       "      <td>129.0</td>\n",
       "      <td>0.9938</td>\n",
       "      <td>3.22</td>\n",
       "      <td>0.45</td>\n",
       "      <td>11.0</td>\n",
       "      <td>6</td>\n",
       "    </tr>\n",
       "  </tbody>\n",
       "</table>\n",
       "</div>"
      ],
      "text/plain": [
       "   fixed acidity  volatile acidity  citric acid  residual sugar  chlorides  \\\n",
       "0            7.0              0.27         0.36            20.7      0.045   \n",
       "1            6.3              0.30         0.34             1.6      0.049   \n",
       "2            8.1              0.28         0.40             6.9      0.050   \n",
       "3            7.2              0.23         0.32             8.5      0.058   \n",
       "4            7.2              0.23         0.32             8.5      0.058   \n",
       "5            8.1              0.28         0.40             6.9      0.050   \n",
       "6            6.2              0.32         0.16             7.0      0.045   \n",
       "7            7.0              0.27         0.36            20.7      0.045   \n",
       "8            6.3              0.30         0.34             1.6      0.049   \n",
       "9            8.1              0.22         0.43             1.5      0.044   \n",
       "\n",
       "   free sulfur dioxide  total sulfur dioxide  density    pH  sulphates  \\\n",
       "0                 45.0                 170.0   1.0010  3.00       0.45   \n",
       "1                 14.0                 132.0   0.9940  3.30       0.49   \n",
       "2                 30.0                  97.0   0.9951  3.26       0.44   \n",
       "3                 47.0                 186.0   0.9956  3.19       0.40   \n",
       "4                 47.0                 186.0   0.9956  3.19       0.40   \n",
       "5                 30.0                  97.0   0.9951  3.26       0.44   \n",
       "6                 30.0                 136.0   0.9949  3.18       0.47   \n",
       "7                 45.0                 170.0   1.0010  3.00       0.45   \n",
       "8                 14.0                 132.0   0.9940  3.30       0.49   \n",
       "9                 28.0                 129.0   0.9938  3.22       0.45   \n",
       "\n",
       "   alcohol  quality  \n",
       "0      8.8        6  \n",
       "1      9.5        6  \n",
       "2     10.1        6  \n",
       "3      9.9        6  \n",
       "4      9.9        6  \n",
       "5     10.1        6  \n",
       "6      9.6        6  \n",
       "7      8.8        6  \n",
       "8      9.5        6  \n",
       "9     11.0        6  "
      ]
     },
     "execution_count": 34,
     "metadata": {},
     "output_type": "execute_result"
    }
   ],
   "source": [
    "#Creating dataframe for white wine data\n",
    "white_wine_df = pd.read_csv(\"https://archive.ics.uci.edu/ml/machine-learning-databases/wine-quality/winequality-white.csv\", sep=';')\n",
    "white_wine_df.head(10)"
   ]
  },
  {
   "cell_type": "code",
   "execution_count": 35,
   "metadata": {
    "colab": {
     "base_uri": "https://localhost:8080/",
     "height": 376
    },
    "id": "rTir-ekIPrzD",
    "outputId": "fa623e62-b408-4f5d-f24f-f1f4dfd208ee"
   },
   "outputs": [
    {
     "data": {
      "text/html": [
       "<div>\n",
       "<style scoped>\n",
       "    .dataframe tbody tr th:only-of-type {\n",
       "        vertical-align: middle;\n",
       "    }\n",
       "\n",
       "    .dataframe tbody tr th {\n",
       "        vertical-align: top;\n",
       "    }\n",
       "\n",
       "    .dataframe thead th {\n",
       "        text-align: right;\n",
       "    }\n",
       "</style>\n",
       "<table border=\"1\" class=\"dataframe\">\n",
       "  <thead>\n",
       "    <tr style=\"text-align: right;\">\n",
       "      <th></th>\n",
       "      <th>fixed acidity</th>\n",
       "      <th>volatile acidity</th>\n",
       "      <th>citric acid</th>\n",
       "      <th>residual sugar</th>\n",
       "      <th>chlorides</th>\n",
       "      <th>free sulfur dioxide</th>\n",
       "      <th>total sulfur dioxide</th>\n",
       "      <th>density</th>\n",
       "      <th>pH</th>\n",
       "      <th>sulphates</th>\n",
       "      <th>alcohol</th>\n",
       "      <th>quality</th>\n",
       "      <th>winetype</th>\n",
       "    </tr>\n",
       "  </thead>\n",
       "  <tbody>\n",
       "    <tr>\n",
       "      <th>0</th>\n",
       "      <td>7.0</td>\n",
       "      <td>0.27</td>\n",
       "      <td>0.36</td>\n",
       "      <td>20.7</td>\n",
       "      <td>0.045</td>\n",
       "      <td>45.0</td>\n",
       "      <td>170.0</td>\n",
       "      <td>1.0010</td>\n",
       "      <td>3.00</td>\n",
       "      <td>0.45</td>\n",
       "      <td>8.8</td>\n",
       "      <td>6</td>\n",
       "      <td>0</td>\n",
       "    </tr>\n",
       "    <tr>\n",
       "      <th>1</th>\n",
       "      <td>6.3</td>\n",
       "      <td>0.30</td>\n",
       "      <td>0.34</td>\n",
       "      <td>1.6</td>\n",
       "      <td>0.049</td>\n",
       "      <td>14.0</td>\n",
       "      <td>132.0</td>\n",
       "      <td>0.9940</td>\n",
       "      <td>3.30</td>\n",
       "      <td>0.49</td>\n",
       "      <td>9.5</td>\n",
       "      <td>6</td>\n",
       "      <td>0</td>\n",
       "    </tr>\n",
       "    <tr>\n",
       "      <th>2</th>\n",
       "      <td>8.1</td>\n",
       "      <td>0.28</td>\n",
       "      <td>0.40</td>\n",
       "      <td>6.9</td>\n",
       "      <td>0.050</td>\n",
       "      <td>30.0</td>\n",
       "      <td>97.0</td>\n",
       "      <td>0.9951</td>\n",
       "      <td>3.26</td>\n",
       "      <td>0.44</td>\n",
       "      <td>10.1</td>\n",
       "      <td>6</td>\n",
       "      <td>0</td>\n",
       "    </tr>\n",
       "    <tr>\n",
       "      <th>3</th>\n",
       "      <td>7.2</td>\n",
       "      <td>0.23</td>\n",
       "      <td>0.32</td>\n",
       "      <td>8.5</td>\n",
       "      <td>0.058</td>\n",
       "      <td>47.0</td>\n",
       "      <td>186.0</td>\n",
       "      <td>0.9956</td>\n",
       "      <td>3.19</td>\n",
       "      <td>0.40</td>\n",
       "      <td>9.9</td>\n",
       "      <td>6</td>\n",
       "      <td>0</td>\n",
       "    </tr>\n",
       "    <tr>\n",
       "      <th>4</th>\n",
       "      <td>7.2</td>\n",
       "      <td>0.23</td>\n",
       "      <td>0.32</td>\n",
       "      <td>8.5</td>\n",
       "      <td>0.058</td>\n",
       "      <td>47.0</td>\n",
       "      <td>186.0</td>\n",
       "      <td>0.9956</td>\n",
       "      <td>3.19</td>\n",
       "      <td>0.40</td>\n",
       "      <td>9.9</td>\n",
       "      <td>6</td>\n",
       "      <td>0</td>\n",
       "    </tr>\n",
       "    <tr>\n",
       "      <th>5</th>\n",
       "      <td>8.1</td>\n",
       "      <td>0.28</td>\n",
       "      <td>0.40</td>\n",
       "      <td>6.9</td>\n",
       "      <td>0.050</td>\n",
       "      <td>30.0</td>\n",
       "      <td>97.0</td>\n",
       "      <td>0.9951</td>\n",
       "      <td>3.26</td>\n",
       "      <td>0.44</td>\n",
       "      <td>10.1</td>\n",
       "      <td>6</td>\n",
       "      <td>0</td>\n",
       "    </tr>\n",
       "    <tr>\n",
       "      <th>6</th>\n",
       "      <td>6.2</td>\n",
       "      <td>0.32</td>\n",
       "      <td>0.16</td>\n",
       "      <td>7.0</td>\n",
       "      <td>0.045</td>\n",
       "      <td>30.0</td>\n",
       "      <td>136.0</td>\n",
       "      <td>0.9949</td>\n",
       "      <td>3.18</td>\n",
       "      <td>0.47</td>\n",
       "      <td>9.6</td>\n",
       "      <td>6</td>\n",
       "      <td>0</td>\n",
       "    </tr>\n",
       "    <tr>\n",
       "      <th>7</th>\n",
       "      <td>7.0</td>\n",
       "      <td>0.27</td>\n",
       "      <td>0.36</td>\n",
       "      <td>20.7</td>\n",
       "      <td>0.045</td>\n",
       "      <td>45.0</td>\n",
       "      <td>170.0</td>\n",
       "      <td>1.0010</td>\n",
       "      <td>3.00</td>\n",
       "      <td>0.45</td>\n",
       "      <td>8.8</td>\n",
       "      <td>6</td>\n",
       "      <td>0</td>\n",
       "    </tr>\n",
       "    <tr>\n",
       "      <th>8</th>\n",
       "      <td>6.3</td>\n",
       "      <td>0.30</td>\n",
       "      <td>0.34</td>\n",
       "      <td>1.6</td>\n",
       "      <td>0.049</td>\n",
       "      <td>14.0</td>\n",
       "      <td>132.0</td>\n",
       "      <td>0.9940</td>\n",
       "      <td>3.30</td>\n",
       "      <td>0.49</td>\n",
       "      <td>9.5</td>\n",
       "      <td>6</td>\n",
       "      <td>0</td>\n",
       "    </tr>\n",
       "    <tr>\n",
       "      <th>9</th>\n",
       "      <td>8.1</td>\n",
       "      <td>0.22</td>\n",
       "      <td>0.43</td>\n",
       "      <td>1.5</td>\n",
       "      <td>0.044</td>\n",
       "      <td>28.0</td>\n",
       "      <td>129.0</td>\n",
       "      <td>0.9938</td>\n",
       "      <td>3.22</td>\n",
       "      <td>0.45</td>\n",
       "      <td>11.0</td>\n",
       "      <td>6</td>\n",
       "      <td>0</td>\n",
       "    </tr>\n",
       "  </tbody>\n",
       "</table>\n",
       "</div>"
      ],
      "text/plain": [
       "   fixed acidity  volatile acidity  citric acid  residual sugar  chlorides  \\\n",
       "0            7.0              0.27         0.36            20.7      0.045   \n",
       "1            6.3              0.30         0.34             1.6      0.049   \n",
       "2            8.1              0.28         0.40             6.9      0.050   \n",
       "3            7.2              0.23         0.32             8.5      0.058   \n",
       "4            7.2              0.23         0.32             8.5      0.058   \n",
       "5            8.1              0.28         0.40             6.9      0.050   \n",
       "6            6.2              0.32         0.16             7.0      0.045   \n",
       "7            7.0              0.27         0.36            20.7      0.045   \n",
       "8            6.3              0.30         0.34             1.6      0.049   \n",
       "9            8.1              0.22         0.43             1.5      0.044   \n",
       "\n",
       "   free sulfur dioxide  total sulfur dioxide  density    pH  sulphates  \\\n",
       "0                 45.0                 170.0   1.0010  3.00       0.45   \n",
       "1                 14.0                 132.0   0.9940  3.30       0.49   \n",
       "2                 30.0                  97.0   0.9951  3.26       0.44   \n",
       "3                 47.0                 186.0   0.9956  3.19       0.40   \n",
       "4                 47.0                 186.0   0.9956  3.19       0.40   \n",
       "5                 30.0                  97.0   0.9951  3.26       0.44   \n",
       "6                 30.0                 136.0   0.9949  3.18       0.47   \n",
       "7                 45.0                 170.0   1.0010  3.00       0.45   \n",
       "8                 14.0                 132.0   0.9940  3.30       0.49   \n",
       "9                 28.0                 129.0   0.9938  3.22       0.45   \n",
       "\n",
       "   alcohol  quality  winetype  \n",
       "0      8.8        6         0  \n",
       "1      9.5        6         0  \n",
       "2     10.1        6         0  \n",
       "3      9.9        6         0  \n",
       "4      9.9        6         0  \n",
       "5     10.1        6         0  \n",
       "6      9.6        6         0  \n",
       "7      8.8        6         0  \n",
       "8      9.5        6         0  \n",
       "9     11.0        6         0  "
      ]
     },
     "execution_count": 35,
     "metadata": {},
     "output_type": "execute_result"
    }
   ],
   "source": [
    "#Creating column with all values being 0, meaning the indicator variable for white wine is 0 in impending merged wine dataframe\n",
    "white_wine_df[\"winetype\"]=0\n",
    "white_wine_df.head(10)"
   ]
  },
  {
   "cell_type": "code",
   "execution_count": 36,
   "metadata": {
    "colab": {
     "base_uri": "https://localhost:8080/",
     "height": 376
    },
    "id": "C4sPtRLNPxXr",
    "outputId": "ecd2ea82-b44e-448d-d18c-f8e01cb33b50"
   },
   "outputs": [
    {
     "data": {
      "text/html": [
       "<div>\n",
       "<style scoped>\n",
       "    .dataframe tbody tr th:only-of-type {\n",
       "        vertical-align: middle;\n",
       "    }\n",
       "\n",
       "    .dataframe tbody tr th {\n",
       "        vertical-align: top;\n",
       "    }\n",
       "\n",
       "    .dataframe thead th {\n",
       "        text-align: right;\n",
       "    }\n",
       "</style>\n",
       "<table border=\"1\" class=\"dataframe\">\n",
       "  <thead>\n",
       "    <tr style=\"text-align: right;\">\n",
       "      <th></th>\n",
       "      <th>fixed acidity</th>\n",
       "      <th>volatile acidity</th>\n",
       "      <th>citric acid</th>\n",
       "      <th>residual sugar</th>\n",
       "      <th>chlorides</th>\n",
       "      <th>free sulfur dioxide</th>\n",
       "      <th>total sulfur dioxide</th>\n",
       "      <th>density</th>\n",
       "      <th>pH</th>\n",
       "      <th>sulphates</th>\n",
       "      <th>alcohol</th>\n",
       "      <th>quality</th>\n",
       "      <th>winetype</th>\n",
       "    </tr>\n",
       "  </thead>\n",
       "  <tbody>\n",
       "    <tr>\n",
       "      <th>0</th>\n",
       "      <td>7.0</td>\n",
       "      <td>0.27</td>\n",
       "      <td>0.36</td>\n",
       "      <td>20.7</td>\n",
       "      <td>0.045</td>\n",
       "      <td>45.0</td>\n",
       "      <td>170.0</td>\n",
       "      <td>1.0010</td>\n",
       "      <td>3.00</td>\n",
       "      <td>0.45</td>\n",
       "      <td>8.8</td>\n",
       "      <td>6</td>\n",
       "      <td>0</td>\n",
       "    </tr>\n",
       "    <tr>\n",
       "      <th>1</th>\n",
       "      <td>6.3</td>\n",
       "      <td>0.30</td>\n",
       "      <td>0.34</td>\n",
       "      <td>1.6</td>\n",
       "      <td>0.049</td>\n",
       "      <td>14.0</td>\n",
       "      <td>132.0</td>\n",
       "      <td>0.9940</td>\n",
       "      <td>3.30</td>\n",
       "      <td>0.49</td>\n",
       "      <td>9.5</td>\n",
       "      <td>6</td>\n",
       "      <td>0</td>\n",
       "    </tr>\n",
       "    <tr>\n",
       "      <th>2</th>\n",
       "      <td>8.1</td>\n",
       "      <td>0.28</td>\n",
       "      <td>0.40</td>\n",
       "      <td>6.9</td>\n",
       "      <td>0.050</td>\n",
       "      <td>30.0</td>\n",
       "      <td>97.0</td>\n",
       "      <td>0.9951</td>\n",
       "      <td>3.26</td>\n",
       "      <td>0.44</td>\n",
       "      <td>10.1</td>\n",
       "      <td>6</td>\n",
       "      <td>0</td>\n",
       "    </tr>\n",
       "    <tr>\n",
       "      <th>3</th>\n",
       "      <td>7.2</td>\n",
       "      <td>0.23</td>\n",
       "      <td>0.32</td>\n",
       "      <td>8.5</td>\n",
       "      <td>0.058</td>\n",
       "      <td>47.0</td>\n",
       "      <td>186.0</td>\n",
       "      <td>0.9956</td>\n",
       "      <td>3.19</td>\n",
       "      <td>0.40</td>\n",
       "      <td>9.9</td>\n",
       "      <td>6</td>\n",
       "      <td>0</td>\n",
       "    </tr>\n",
       "    <tr>\n",
       "      <th>4</th>\n",
       "      <td>7.2</td>\n",
       "      <td>0.23</td>\n",
       "      <td>0.32</td>\n",
       "      <td>8.5</td>\n",
       "      <td>0.058</td>\n",
       "      <td>47.0</td>\n",
       "      <td>186.0</td>\n",
       "      <td>0.9956</td>\n",
       "      <td>3.19</td>\n",
       "      <td>0.40</td>\n",
       "      <td>9.9</td>\n",
       "      <td>6</td>\n",
       "      <td>0</td>\n",
       "    </tr>\n",
       "    <tr>\n",
       "      <th>5</th>\n",
       "      <td>8.1</td>\n",
       "      <td>0.28</td>\n",
       "      <td>0.40</td>\n",
       "      <td>6.9</td>\n",
       "      <td>0.050</td>\n",
       "      <td>30.0</td>\n",
       "      <td>97.0</td>\n",
       "      <td>0.9951</td>\n",
       "      <td>3.26</td>\n",
       "      <td>0.44</td>\n",
       "      <td>10.1</td>\n",
       "      <td>6</td>\n",
       "      <td>0</td>\n",
       "    </tr>\n",
       "    <tr>\n",
       "      <th>6</th>\n",
       "      <td>6.2</td>\n",
       "      <td>0.32</td>\n",
       "      <td>0.16</td>\n",
       "      <td>7.0</td>\n",
       "      <td>0.045</td>\n",
       "      <td>30.0</td>\n",
       "      <td>136.0</td>\n",
       "      <td>0.9949</td>\n",
       "      <td>3.18</td>\n",
       "      <td>0.47</td>\n",
       "      <td>9.6</td>\n",
       "      <td>6</td>\n",
       "      <td>0</td>\n",
       "    </tr>\n",
       "    <tr>\n",
       "      <th>7</th>\n",
       "      <td>7.0</td>\n",
       "      <td>0.27</td>\n",
       "      <td>0.36</td>\n",
       "      <td>20.7</td>\n",
       "      <td>0.045</td>\n",
       "      <td>45.0</td>\n",
       "      <td>170.0</td>\n",
       "      <td>1.0010</td>\n",
       "      <td>3.00</td>\n",
       "      <td>0.45</td>\n",
       "      <td>8.8</td>\n",
       "      <td>6</td>\n",
       "      <td>0</td>\n",
       "    </tr>\n",
       "    <tr>\n",
       "      <th>8</th>\n",
       "      <td>6.3</td>\n",
       "      <td>0.30</td>\n",
       "      <td>0.34</td>\n",
       "      <td>1.6</td>\n",
       "      <td>0.049</td>\n",
       "      <td>14.0</td>\n",
       "      <td>132.0</td>\n",
       "      <td>0.9940</td>\n",
       "      <td>3.30</td>\n",
       "      <td>0.49</td>\n",
       "      <td>9.5</td>\n",
       "      <td>6</td>\n",
       "      <td>0</td>\n",
       "    </tr>\n",
       "    <tr>\n",
       "      <th>9</th>\n",
       "      <td>8.1</td>\n",
       "      <td>0.22</td>\n",
       "      <td>0.43</td>\n",
       "      <td>1.5</td>\n",
       "      <td>0.044</td>\n",
       "      <td>28.0</td>\n",
       "      <td>129.0</td>\n",
       "      <td>0.9938</td>\n",
       "      <td>3.22</td>\n",
       "      <td>0.45</td>\n",
       "      <td>11.0</td>\n",
       "      <td>6</td>\n",
       "      <td>0</td>\n",
       "    </tr>\n",
       "  </tbody>\n",
       "</table>\n",
       "</div>"
      ],
      "text/plain": [
       "   fixed acidity  volatile acidity  citric acid  residual sugar  chlorides  \\\n",
       "0            7.0              0.27         0.36            20.7      0.045   \n",
       "1            6.3              0.30         0.34             1.6      0.049   \n",
       "2            8.1              0.28         0.40             6.9      0.050   \n",
       "3            7.2              0.23         0.32             8.5      0.058   \n",
       "4            7.2              0.23         0.32             8.5      0.058   \n",
       "5            8.1              0.28         0.40             6.9      0.050   \n",
       "6            6.2              0.32         0.16             7.0      0.045   \n",
       "7            7.0              0.27         0.36            20.7      0.045   \n",
       "8            6.3              0.30         0.34             1.6      0.049   \n",
       "9            8.1              0.22         0.43             1.5      0.044   \n",
       "\n",
       "   free sulfur dioxide  total sulfur dioxide  density    pH  sulphates  \\\n",
       "0                 45.0                 170.0   1.0010  3.00       0.45   \n",
       "1                 14.0                 132.0   0.9940  3.30       0.49   \n",
       "2                 30.0                  97.0   0.9951  3.26       0.44   \n",
       "3                 47.0                 186.0   0.9956  3.19       0.40   \n",
       "4                 47.0                 186.0   0.9956  3.19       0.40   \n",
       "5                 30.0                  97.0   0.9951  3.26       0.44   \n",
       "6                 30.0                 136.0   0.9949  3.18       0.47   \n",
       "7                 45.0                 170.0   1.0010  3.00       0.45   \n",
       "8                 14.0                 132.0   0.9940  3.30       0.49   \n",
       "9                 28.0                 129.0   0.9938  3.22       0.45   \n",
       "\n",
       "   alcohol  quality  winetype  \n",
       "0      8.8        6         0  \n",
       "1      9.5        6         0  \n",
       "2     10.1        6         0  \n",
       "3      9.9        6         0  \n",
       "4      9.9        6         0  \n",
       "5     10.1        6         0  \n",
       "6      9.6        6         0  \n",
       "7      8.8        6         0  \n",
       "8      9.5        6         0  \n",
       "9     11.0        6         0  "
      ]
     },
     "execution_count": 36,
     "metadata": {},
     "output_type": "execute_result"
    }
   ],
   "source": [
    "#Combining white and red wine dataframes\n",
    "wine_frames = [white_wine_df, red_wine_df]\n",
    "wine_df = pd.concat(wine_frames)\n",
    "wine_df.head(10)"
   ]
  },
  {
   "cell_type": "markdown",
   "metadata": {
    "id": "6KCyH3iQI8TP"
   },
   "source": [
    "## #2.1\n",
    "\n",
    "Visualize the univariate distribution of the target feature and each of the three explanatory variables that you think are likely to have a relationship with the target feature.   \n",
    "\n",
    "---"
   ]
  },
  {
   "cell_type": "code",
   "execution_count": 37,
   "metadata": {},
   "outputs": [
    {
     "data": {
      "text/plain": [
       "Text(0.5, 1.0, 'Wine Type Frequency Distribution')"
      ]
     },
     "execution_count": 37,
     "metadata": {},
     "output_type": "execute_result"
    },
    {
     "data": {
      "image/png": "[encoded data removed]",
      "text/plain": [
       "<Figure size 640x480 with 1 Axes>"
      ]
     },
     "metadata": {},
     "output_type": "display_data"
    }
   ],
   "source": [
    "#Histogram of each wine's type\n",
    "plt.hist(wine_df[\"winetype\"], bins=20, edgecolor='black')\n",
    "plt.xlabel(\"Wine Type\")\n",
    "plt.ylabel(\"Frequency\")\n",
    "plt.title(\"Wine Type Frequency Distribution\")\n",
    "\n"
   ]
  },
  {
   "cell_type": "code",
   "execution_count": 38,
   "metadata": {
    "colab": {
     "base_uri": "https://localhost:8080/",
     "height": 489
    },
    "id": "uTVUh0-qI2Nn",
    "outputId": "434b374f-7e9d-4612-9a7f-ed5ea7365e27"
   },
   "outputs": [
    {
     "data": {
      "text/plain": [
       "Text(0.5, 1.0, 'pH Level Frequency Distribution')"
      ]
     },
     "execution_count": 38,
     "metadata": {},
     "output_type": "execute_result"
    },
    {
     "data": {
      "image/png": "[encoded data removed]",
      "text/plain": [
       "<Figure size 640x480 with 1 Axes>"
      ]
     },
     "metadata": {},
     "output_type": "display_data"
    }
   ],
   "source": [
    "#Histogram of each wine's pH level\n",
    "plt.hist(wine_df[\"pH\"], bins=20, edgecolor='black')\n",
    "plt.xlabel(\"pH Level\")\n",
    "plt.ylabel(\"Frequency\")\n",
    "plt.title(\"pH Level Frequency Distribution\")\n"
   ]
  },
  {
   "cell_type": "code",
   "execution_count": 39,
   "metadata": {
    "colab": {
     "base_uri": "https://localhost:8080/",
     "height": 489
    },
    "id": "MFYSKeEFQttK",
    "outputId": "99a973a1-6ae3-46f1-b6dd-655f50eca891"
   },
   "outputs": [
    {
     "data": {
      "text/plain": [
       "Text(0.5, 1.0, 'Sulphates Level Frequency Distribution')"
      ]
     },
     "execution_count": 39,
     "metadata": {},
     "output_type": "execute_result"
    },
    {
     "data": {
      "image/png": "[encoded data removed]",
      "text/plain": [
       "<Figure size 640x480 with 1 Axes>"
      ]
     },
     "metadata": {},
     "output_type": "display_data"
    }
   ],
   "source": [
    "#Histogram of each wine's sulphates level\n",
    "plt.hist(wine_df[\"sulphates\"], bins=20, edgecolor='black')\n",
    "plt.xlabel(\"Sulphates Level\")\n",
    "plt.ylabel(\"Frequency\")\n",
    "plt.title(\"Sulphates Level Frequency Distribution\")\n"
   ]
  },
  {
   "cell_type": "code",
   "execution_count": 40,
   "metadata": {
    "colab": {
     "base_uri": "https://localhost:8080/",
     "height": 489
    },
    "id": "l4JTX-HpRJh_",
    "outputId": "74a408b1-3fc0-43d1-8ca6-f2656218cb24"
   },
   "outputs": [
    {
     "data": {
      "text/plain": [
       "Text(0.5, 1.0, 'Total Sulfur Dioxide Level Frequency Distribution')"
      ]
     },
     "execution_count": 40,
     "metadata": {},
     "output_type": "execute_result"
    },
    {
     "data": {
      "image/png": "[encoded data removed]",
      "text/plain": [
       "<Figure size 640x480 with 1 Axes>"
      ]
     },
     "metadata": {},
     "output_type": "display_data"
    }
   ],
   "source": [
    "#Histogram of each wine's total sulfur dioxide level\n",
    "plt.hist(wine_df[\"total sulfur dioxide\"], bins=20, edgecolor='black')\n",
    "plt.xlabel(\"Total Sulfur Dioxide Level\")\n",
    "plt.ylabel(\"Frequency\")\n",
    "plt.title(\"Total Sulfur Dioxide Level Frequency Distribution\")\n"
   ]
  },
  {
   "cell_type": "markdown",
   "metadata": {
    "id": "h2pNOFkBJA2W"
   },
   "source": [
    "## #2.2\n",
    "\n",
    "Split data into training and test set. Build models that evaluate the relationship between all available X variables in the dataset and the target variable. Evaluate Logistic Regression, Penalized Logistic Regression, and KNN for classification using cross-validation. How different are the results? How does scaling the data with StandardScaler influence the results?\n",
    "\n",
    "---"
   ]
  },
  {
   "cell_type": "code",
   "execution_count": 41,
   "metadata": {
    "id": "4wH4zYT3JAM8"
   },
   "outputs": [],
   "source": [
    "#Creating y and X variables\n",
    "y = wine_df['winetype']\n",
    "X = wine_df.loc[:, wine_df.columns != 'winetype']\n",
    "\n",
    "#Splitting X and y into testing and training with default split (75% training and 25% testing)\n",
    "\n",
    "X_train, X_test, y_train, y_test = train_test_split(X, y, random_state=42)\n"
   ]
  },
  {
   "cell_type": "code",
   "execution_count": 42,
   "metadata": {
    "colab": {
     "base_uri": "https://localhost:8080/"
    },
    "id": "ecYpu9QqSP_q",
    "outputId": "624888fc-f06e-4ff5-b986-eac1d45f2d69"
   },
   "outputs": [
    {
     "name": "stdout",
     "output_type": "stream",
     "text": [
      "Mean cross-validation score for Logistic Regression: 0.9915836334870569\n",
      "\n",
      "Training score for Logistic Regression:  0.9891215106732348\n",
      "Test score for Logistic Regression:  0.9870769230769231\n"
     ]
    }
   ],
   "source": [
    "'''\n",
    "Logistic Regression with no penalty\n",
    "'''\n",
    "\n",
    "from sklearn.linear_model import LogisticRegression\n",
    "\n",
    "logreg = LogisticRegression(penalty=None, solver='lbfgs', max_iter=10000)\n",
    "logreg.fit(X_train, y_train)\n",
    "\n",
    "logreg_score_cv = np.mean(cross_val_score(logreg, X_train, y_train, cv=10))\n",
    "\n",
    "logreg_trn_score = logreg.score(X_train, y_train)\n",
    "logreg_tst_score = logreg.score(X_test, y_test)\n",
    "\n",
    "print(\"Mean cross-validation score for Logistic Regression:\", logreg_score_cv)\n",
    "print()\n",
    "print(\"Training score for Logistic Regression: \", logreg_trn_score)\n",
    "print(\"Test score for Logistic Regression: \", logreg_tst_score)\n",
    "\n"
   ]
  },
  {
   "cell_type": "code",
   "execution_count": 43,
   "metadata": {
    "colab": {
     "base_uri": "https://localhost:8080/"
    },
    "id": "tnTgBgEKT2t7",
    "outputId": "098d3cbe-8cba-424c-af51-18b970fcec40"
   },
   "outputs": [
    {
     "name": "stdout",
     "output_type": "stream",
     "text": [
      "Mean cross-validation score for Penalized Logistic Regression: 0.9858375130440636\n",
      "\n",
      "Training score for Penalized Logistic Regression:  0.9864532019704434\n",
      "Test score for Penalized Logistic Regression:  0.9809230769230769\n"
     ]
    }
   ],
   "source": [
    "'''\n",
    "Penalized Logistic Regression, with L2 Regularization and the default tuning parameter C\n",
    "'''\n",
    "\n",
    "logreg_L2 = LogisticRegression(penalty=\"l2\", solver='lbfgs', max_iter=10000)\n",
    "logreg_L2.fit(X_train, y_train)\n",
    "\n",
    "logreg_L2_score_cv = np.mean(cross_val_score(logreg_L2, X_train, y_train, cv=10))\n",
    "\n",
    "logreg_L2_trn_score = logreg_L2.score(X_train, y_train)\n",
    "logreg_L2_tst_score = logreg_L2.score(X_test, y_test)\n",
    "\n",
    "print(\"Mean cross-validation score for Penalized Logistic Regression:\", logreg_L2_score_cv)\n",
    "print()\n",
    "print(\"Training score for Penalized Logistic Regression: \", logreg_L2_trn_score)\n",
    "print(\"Test score for Penalized Logistic Regression: \", logreg_L2_tst_score)\n"
   ]
  },
  {
   "cell_type": "code",
   "execution_count": 44,
   "metadata": {
    "colab": {
     "base_uri": "https://localhost:8080/"
    },
    "id": "Y3PENE-FUQI8",
    "outputId": "b03a03e0-6f47-45f7-ce89-cc07690e3dd0"
   },
   "outputs": [
    {
     "name": "stdout",
     "output_type": "stream",
     "text": [
      "Mean cross-validation score for KNN: 0.941504133101669\n",
      "\n",
      "Training score for KNN:  0.9575123152709359\n",
      "Test score for KNN:  0.936\n"
     ]
    }
   ],
   "source": [
    "'''\n",
    "KNN with StratifiedKFold and default parameters\n",
    "'''\n",
    "\n",
    "from sklearn.neighbors import KNeighborsClassifier\n",
    "from sklearn.model_selection import StratifiedKFold\n",
    "\n",
    "#Creating a StratifiedKFold object with default settings\n",
    "skfold = StratifiedKFold()\n",
    "\n",
    "knn = KNeighborsClassifier()\n",
    "knn.fit(X_train, y_train)\n",
    "\n",
    "knn_score_cv = cross_val_score(knn, X_train, y_train, cv=skfold).mean()\n",
    "\n",
    "knn_trn_score = knn.score(X_train, y_train)\n",
    "knn_tst_score = knn.score(X_test, y_test)\n",
    "\n",
    "print(\"Mean cross-validation score for KNN:\", knn_score_cv)\n",
    "print()\n",
    "print(\"Training score for KNN: \", knn_trn_score)\n",
    "print(\"Test score for KNN: \", knn_tst_score)\n"
   ]
  },
  {
   "cell_type": "markdown",
   "metadata": {
    "id": "n9cYIAyjWYVI"
   },
   "source": [
    "### Using Standard Scaler"
   ]
  },
  {
   "cell_type": "code",
   "execution_count": 45,
   "metadata": {
    "id": "lAWPzQFtVrkX"
   },
   "outputs": [],
   "source": [
    "#Scaling X training and test data\n",
    "scaler.fit(X_train)\n",
    "X_train_scaled = scaler.transform(X_train)\n",
    "X_test_scaled = scaler.transform(X_test)\n"
   ]
  },
  {
   "cell_type": "code",
   "execution_count": 46,
   "metadata": {
    "colab": {
     "base_uri": "https://localhost:8080/"
    },
    "id": "iEXgMzVZWlV1",
    "outputId": "19897d4b-7f1e-4831-db16-2024fecfe91c"
   },
   "outputs": [
    {
     "name": "stdout",
     "output_type": "stream",
     "text": [
      "Mean cross-validation score for Logistic Regression with scaled X training: 0.993636600801158\n",
      "\n",
      "Training score for Logistic Regression with scaled X training:  0.9944581280788177\n",
      "Test score for Logistic Regression with scaled X testing:  0.9932307692307693\n"
     ]
    }
   ],
   "source": [
    "'''\n",
    "Logistic Regression with no penalty\n",
    "'''\n",
    "\n",
    "logreg.fit(X_train_scaled, y_train)\n",
    "\n",
    "logreg_score_scalar = np.mean(cross_val_score(logreg, X_train_scaled, y_train, cv=10))\n",
    "\n",
    "logreg_ss_trn_score = logreg.score(X_train_scaled, y_train)\n",
    "logreg_ss_tst_score = logreg.score(X_test_scaled, y_test)\n",
    "\n",
    "print(\"Mean cross-validation score for Logistic Regression with scaled X training:\", logreg_score_scalar)\n",
    "print()\n",
    "print(\"Training score for Logistic Regression with scaled X training: \", logreg.score(X_train_scaled, y_train))\n",
    "print(\"Test score for Logistic Regression with scaled X testing: \", logreg.score(X_test_scaled, y_test))\n",
    "\n"
   ]
  },
  {
   "cell_type": "code",
   "execution_count": 47,
   "metadata": {
    "colab": {
     "base_uri": "https://localhost:8080/"
    },
    "id": "KT5Bc8eSWnyS",
    "outputId": "180c43fa-812d-48d8-f941-ae46c150ba11"
   },
   "outputs": [
    {
     "name": "stdout",
     "output_type": "stream",
     "text": [
      "Mean cross-validation score for L2 Regularization Logistic Regression with scaled X training: 0.9928152455650183\n",
      "\n",
      "Training score for L2 Regularization Logistic Regression with scaled X training:  0.9936371100164204\n",
      "Test score for L2 Regularization Logistic Regression with scaled X testing:  0.9913846153846154\n"
     ]
    }
   ],
   "source": [
    "'''\n",
    "Logistic Regression with L2 Regularization and the default tuning parameter C\n",
    "'''\n",
    "\n",
    "logreg_L2.fit(X_train_scaled, y_train)\n",
    "\n",
    "logreg_L2_score_scalar = np.mean(cross_val_score(logreg_L2, X_train_scaled, y_train, cv=10))\n",
    "\n",
    "logregL2_ss_trn_score = logreg_L2.score(X_train_scaled, y_train)\n",
    "logregL2_ss_tst_score = logreg_L2.score(X_test_scaled, y_test)\n",
    "\n",
    "print(\"Mean cross-validation score for L2 Regularization Logistic Regression with scaled X training:\", logreg_L2_score_scalar)\n",
    "print()\n",
    "print(\"Training score for L2 Regularization Logistic Regression with scaled X training: \", logregL2_ss_trn_score)\n",
    "print(\"Test score for L2 Regularization Logistic Regression with scaled X testing: \", logregL2_ss_tst_score)\n",
    "\n"
   ]
  },
  {
   "cell_type": "code",
   "execution_count": 48,
   "metadata": {
    "colab": {
     "base_uri": "https://localhost:8080/"
    },
    "id": "mPMV9NgiYpKl",
    "outputId": "d130649a-27ba-4289-efc4-9e7254db5b4b"
   },
   "outputs": [
    {
     "name": "stdout",
     "output_type": "stream",
     "text": [
      "Mean cross-validation score for KNN with scaled X training: 0.9926103301216237\n",
      "\n",
      "Training score for KNN with scaled X training:  0.9952791461412152\n",
      "Test score for KNN with scaled X testing:  0.9913846153846154\n"
     ]
    }
   ],
   "source": [
    "'''\n",
    "KNN with StratifiedKFold and default parameters\n",
    "'''\n",
    "\n",
    "knn.fit(X_train_scaled, y_train)\n",
    "\n",
    "knn_score_scalar = cross_val_score(knn, X_train_scaled, y_train, cv=skfold).mean()\n",
    "\n",
    "knn_ss_trn_score = knn.score(X_train_scaled, y_train)\n",
    "knn_ss_tst_score = knn.score(X_test_scaled, y_test)\n",
    "\n",
    "\n",
    "print(\"Mean cross-validation score for KNN with scaled X training:\", knn_score_scalar)\n",
    "print()\n",
    "print(\"Training score for KNN with scaled X training: \", knn_ss_trn_score)\n",
    "print(\"Test score for KNN with scaled X testing: \", knn_ss_tst_score)"
   ]
  },
  {
   "cell_type": "code",
   "execution_count": 49,
   "metadata": {
    "colab": {
     "base_uri": "https://localhost:8080/",
     "height": 204
    },
    "id": "ZxBUIPZRZfdK",
    "outputId": "42a60422-649a-471a-f58d-1cacc26da017"
   },
   "outputs": [
    {
     "data": {
      "text/html": [
       "<div>\n",
       "<style scoped>\n",
       "    .dataframe tbody tr th:only-of-type {\n",
       "        vertical-align: middle;\n",
       "    }\n",
       "\n",
       "    .dataframe tbody tr th {\n",
       "        vertical-align: top;\n",
       "    }\n",
       "\n",
       "    .dataframe thead th {\n",
       "        text-align: right;\n",
       "    }\n",
       "</style>\n",
       "<table border=\"1\" class=\"dataframe\">\n",
       "  <thead>\n",
       "    <tr style=\"text-align: right;\">\n",
       "      <th></th>\n",
       "      <th>Original (Default Parameters)</th>\n",
       "      <th>Scaled (Default Parameters)</th>\n",
       "    </tr>\n",
       "    <tr>\n",
       "      <th>Model</th>\n",
       "      <th></th>\n",
       "      <th></th>\n",
       "    </tr>\n",
       "  </thead>\n",
       "  <tbody>\n",
       "    <tr>\n",
       "      <th>Logistic Regression</th>\n",
       "      <td>0.991584</td>\n",
       "      <td>0.993637</td>\n",
       "    </tr>\n",
       "    <tr>\n",
       "      <th>Penalized Logistic Regression</th>\n",
       "      <td>0.985838</td>\n",
       "      <td>0.992815</td>\n",
       "    </tr>\n",
       "    <tr>\n",
       "      <th>KNN</th>\n",
       "      <td>0.941504</td>\n",
       "      <td>0.992610</td>\n",
       "    </tr>\n",
       "  </tbody>\n",
       "</table>\n",
       "</div>"
      ],
      "text/plain": [
       "                               Original (Default Parameters)  \\\n",
       "Model                                                          \n",
       "Logistic Regression                                 0.991584   \n",
       "Penalized Logistic Regression                       0.985838   \n",
       "KNN                                                 0.941504   \n",
       "\n",
       "                               Scaled (Default Parameters)  \n",
       "Model                                                       \n",
       "Logistic Regression                               0.993637  \n",
       "Penalized Logistic Regression                     0.992815  \n",
       "KNN                                               0.992610  "
      ]
     },
     "execution_count": 49,
     "metadata": {},
     "output_type": "execute_result"
    }
   ],
   "source": [
    "#MEAN CROSS-VALIDATION SCORE DATAFRAME\n",
    "\n",
    "'''\n",
    "Creating a dataframe with all mean cross-validation scores from all model evaluations up until now (Question 2 only)\n",
    "\n",
    "The first column: mean cross-validation scores when the X training data is unscaled\n",
    "The second column: mean cross-validation scores when the X training is scaled using the StandardScaler function\n",
    "'''\n",
    "\n",
    "\n",
    "model = [\"Logistic Regression\", \"Penalized Logistic Regression\", \"KNN\"]\n",
    "\n",
    "cv_df = (pd.DataFrame({'Original (Default Parameters)':[logreg_score_cv, logreg_L2_score_cv, knn_score_cv],\n",
    "                        'Scaled (Default Parameters)':[logreg_score_scalar, logreg_L2_score_scalar, knn_score_scalar], 'Model':model})).set_index('Model')\n",
    "\n",
    "cv_df"
   ]
  },
  {
   "cell_type": "markdown",
   "metadata": {
    "id": "rr-k3OHO98LA"
   },
   "source": [
    "### 2.2 Analysis:\n",
    "\n",
    "#### Cross Validation Analysis\n",
    "\n",
    "Before applying the StandardScaler to X training data, the models all have high mean cross-validation scores. Both non-penalized and penalized logisitic regression have mean cross-validation scores above $98$%. The lowest mean cross validation score was KNN, with $R^2=0.941504\t$.\n",
    "\n",
    "The mean cross-validation scores improve for all models after scaling the X training set using the StandardScaler function. However, for logistic regression and penalized logistic regression, the increases are small, with $0.21$% and $.71$% respectively. However, KNN saw the largest increase after scaling the X training set using StandardScaler, which is $5.43$%.\n",
    "\n",
    "#### Test Score Analysis\n",
    "\n",
    "\n",
    "For the test score, as shown in the dataframe below, when scaling X testing data, all models increased. Similar to mean cross-validation score, the KNN saw the highest increase for its test score.\n",
    "\n",
    "---"
   ]
  },
  {
   "cell_type": "code",
   "execution_count": 50,
   "metadata": {},
   "outputs": [
    {
     "data": {
      "text/html": [
       "<div>\n",
       "<style scoped>\n",
       "    .dataframe tbody tr th:only-of-type {\n",
       "        vertical-align: middle;\n",
       "    }\n",
       "\n",
       "    .dataframe tbody tr th {\n",
       "        vertical-align: top;\n",
       "    }\n",
       "\n",
       "    .dataframe thead th {\n",
       "        text-align: right;\n",
       "    }\n",
       "</style>\n",
       "<table border=\"1\" class=\"dataframe\">\n",
       "  <thead>\n",
       "    <tr style=\"text-align: right;\">\n",
       "      <th></th>\n",
       "      <th>Original (Default Parameters)</th>\n",
       "      <th>Scaled (Default Parameters)</th>\n",
       "    </tr>\n",
       "    <tr>\n",
       "      <th>Model</th>\n",
       "      <th></th>\n",
       "      <th></th>\n",
       "    </tr>\n",
       "  </thead>\n",
       "  <tbody>\n",
       "    <tr>\n",
       "      <th>Logistic Regression</th>\n",
       "      <td>0.987077</td>\n",
       "      <td>0.993231</td>\n",
       "    </tr>\n",
       "    <tr>\n",
       "      <th>Penalized Logistic Regression</th>\n",
       "      <td>0.980923</td>\n",
       "      <td>0.991385</td>\n",
       "    </tr>\n",
       "    <tr>\n",
       "      <th>KNN</th>\n",
       "      <td>0.936000</td>\n",
       "      <td>0.991385</td>\n",
       "    </tr>\n",
       "  </tbody>\n",
       "</table>\n",
       "</div>"
      ],
      "text/plain": [
       "                               Original (Default Parameters)  \\\n",
       "Model                                                          \n",
       "Logistic Regression                                 0.987077   \n",
       "Penalized Logistic Regression                       0.980923   \n",
       "KNN                                                 0.936000   \n",
       "\n",
       "                               Scaled (Default Parameters)  \n",
       "Model                                                       \n",
       "Logistic Regression                               0.993231  \n",
       "Penalized Logistic Regression                     0.991385  \n",
       "KNN                                               0.991385  "
      ]
     },
     "execution_count": 50,
     "metadata": {},
     "output_type": "execute_result"
    }
   ],
   "source": [
    "#TEST SCORE DATAFRAME\n",
    "\n",
    "'''\n",
    "Creating a dataframe with all test scores from all model evaluations up until now (Question 2 only)\n",
    "\n",
    "The first column: test scores when the X training data is unscaled\n",
    "The second column: test scores when the X training is scaled using the StandardScaler function\n",
    "'''\n",
    "\n",
    "test_score_df = (pd.DataFrame({'Original (Default Parameters)':[logreg_tst_score, logreg_L2_tst_score, knn_tst_score],\n",
    "                            'Scaled (Default Parameters)':[logreg_ss_tst_score, logregL2_ss_tst_score, knn_ss_tst_score],\n",
    "                            'Model':model})).set_index('Model')\n",
    "\n",
    "test_score_df\n"
   ]
  },
  {
   "cell_type": "markdown",
   "metadata": {
    "id": "bNlzLNbcZ1Xh"
   },
   "source": [
    "##  #2.3 \n",
    "\n",
    "Tune the parameters where possible using GridSearchCV. Do the results improve?\n",
    "\n",
    "---"
   ]
  },
  {
   "cell_type": "code",
   "execution_count": 51,
   "metadata": {
    "colab": {
     "base_uri": "https://localhost:8080/"
    },
    "id": "V6K9GMGpac7j",
    "outputId": "3dc52fb5-c419-4700-96a0-a6f8324db06c"
   },
   "outputs": [
    {
     "name": "stdout",
     "output_type": "stream",
     "text": [
      "The best mean cross-validation score for Logistic Regression: 0.993636600801158\n",
      "The best parameters for Logistic Regression: {'C': 100, 'penalty': 'l2', 'solver': 'liblinear'}\n",
      "\n",
      "Logistic Regression test set score: 0.9932307692307693\n"
     ]
    }
   ],
   "source": [
    "\n",
    "'''\n",
    "Hypertuning Logistic Regression Model\n",
    "'''\n",
    "\n",
    "logreg =LogisticRegression(max_iter=1000000)\n",
    "\n",
    "hyperparameters = {'C': [0.001, 0.01, 0.1, 1, 10, 100], 'penalty': ['11', 'l2'], 'solver':['liblinear','lbfgs']}\n",
    "\n",
    "grid_logreg = GridSearchCV(logreg, param_grid=hyperparameters, cv=10)\n",
    "grid_logreg.fit(X_train_scaled, y_train)\n",
    "\n",
    "logreg_best_score = grid_logreg.best_score_\n",
    "logreg_bestparam = grid_logreg.best_params_\n",
    "logreg_grid_ts = grid_logreg.score(X_test_scaled, y_test)\n",
    "\n",
    "\n",
    "print(\"The best mean cross-validation score for Logistic Regression:\", logreg_best_score)\n",
    "print(\"The best parameters for Logistic Regression:\", logreg_bestparam)\n",
    "print()\n",
    "print(\"Logistic Regression test set score:\",  logreg_grid_ts)\n",
    "\n"
   ]
  },
  {
   "cell_type": "code",
   "execution_count": 52,
   "metadata": {
    "colab": {
     "base_uri": "https://localhost:8080/"
    },
    "id": "OabSvusHdVg6",
    "outputId": "be2235fe-ebaa-420f-ee73-3ab885adca65"
   },
   "outputs": [
    {
     "name": "stdout",
     "output_type": "stream",
     "text": [
      "The best mean cross-validation score for KNN: 0.9932261359448219\n",
      "The best parameters for KNN: {'n_neighbors': 13}\n",
      "\n",
      "KNN test set score: 0.992\n"
     ]
    }
   ],
   "source": [
    "'''\n",
    "Hypertuning KNN Model\n",
    "'''\n",
    "\n",
    "hyperparameters = {'n_neighbors': np.arange(1, 19, 2) }\n",
    "\n",
    "grid_knn = GridSearchCV(knn, param_grid=hyperparameters, cv=skfold)\n",
    "grid_knn.fit(X_train_scaled, y_train)\n",
    "\n",
    "knn_best_score = grid_knn.best_score_\n",
    "knn_bestparam = grid_knn.best_params_\n",
    "knn_grid_ts = grid_knn.score(X_test_scaled, y_test)\n",
    "\n",
    "print(\"The best mean cross-validation score for KNN:\", knn_best_score)\n",
    "print(\"The best parameters for KNN:\", knn_bestparam)\n",
    "print()\n",
    "print(\"KNN test set score:\",  knn_grid_ts)\n"
   ]
  },
  {
   "cell_type": "code",
   "execution_count": 53,
   "metadata": {
    "colab": {
     "base_uri": "https://localhost:8080/",
     "height": 142
    },
    "id": "7LotQqmY0uxI",
    "outputId": "97ee5da5-5494-40f6-b9b2-c2fd79a06e9d"
   },
   "outputs": [
    {
     "data": {
      "text/html": [
       "<div>\n",
       "<style scoped>\n",
       "    .dataframe tbody tr th:only-of-type {\n",
       "        vertical-align: middle;\n",
       "    }\n",
       "\n",
       "    .dataframe tbody tr th {\n",
       "        vertical-align: top;\n",
       "    }\n",
       "\n",
       "    .dataframe thead th {\n",
       "        text-align: right;\n",
       "    }\n",
       "</style>\n",
       "<table border=\"1\" class=\"dataframe\">\n",
       "  <thead>\n",
       "    <tr style=\"text-align: right;\">\n",
       "      <th></th>\n",
       "      <th>Original (Default Parameters)</th>\n",
       "      <th>Scaled (Default Parameters)</th>\n",
       "      <th>Tuned (Scaled X)</th>\n",
       "    </tr>\n",
       "    <tr>\n",
       "      <th>Model</th>\n",
       "      <th></th>\n",
       "      <th></th>\n",
       "      <th></th>\n",
       "    </tr>\n",
       "  </thead>\n",
       "  <tbody>\n",
       "    <tr>\n",
       "      <th>Logistic Regression</th>\n",
       "      <td>0.991584</td>\n",
       "      <td>0.993637</td>\n",
       "      <td>NaN</td>\n",
       "    </tr>\n",
       "    <tr>\n",
       "      <th>Penalized Logistic Regression</th>\n",
       "      <td>0.985838</td>\n",
       "      <td>0.992815</td>\n",
       "      <td>0.993637</td>\n",
       "    </tr>\n",
       "    <tr>\n",
       "      <th>KNN</th>\n",
       "      <td>0.941504</td>\n",
       "      <td>0.992610</td>\n",
       "      <td>0.993226</td>\n",
       "    </tr>\n",
       "  </tbody>\n",
       "</table>\n",
       "</div>"
      ],
      "text/plain": [
       "                               Original (Default Parameters)  \\\n",
       "Model                                                          \n",
       "Logistic Regression                                 0.991584   \n",
       "Penalized Logistic Regression                       0.985838   \n",
       "KNN                                                 0.941504   \n",
       "\n",
       "                               Scaled (Default Parameters)  Tuned (Scaled X)  \n",
       "Model                                                                         \n",
       "Logistic Regression                               0.993637               NaN  \n",
       "Penalized Logistic Regression                     0.992815          0.993637  \n",
       "KNN                                               0.992610          0.993226  "
      ]
     },
     "execution_count": 53,
     "metadata": {},
     "output_type": "execute_result"
    }
   ],
   "source": [
    "#FINAL MEAN CROSS-VALIDATION SCORE DATAFRAME\n",
    "\n",
    "'''\n",
    "Creating a dataframe with all mean cross-validation scores from all model evaluations (Question 2 only)\n",
    "\n",
    "The first column: mean cross-validation scores when the X training data is unscaled\n",
    "The second column: mean cross-validation scores when the X training is scaled using the StandardScaler function\n",
    "The third column: mean cross-validation scores for tuned model when the X training is scaled using the \n",
    "StandardScaler function\n",
    "'''\n",
    "\n",
    "model = [\"Penalized Logistic Regression\", \"KNN\"]\n",
    "\n",
    "grid_df = (pd.DataFrame({'Tuned (Scaled X)':[ logreg_best_score,  knn_best_score],\n",
    "                         'Model':model})).set_index('Model')\n",
    "\n",
    "data_frames = [cv_df, grid_df]\n",
    "final_cv = pd.concat(data_frames, axis=1)\n",
    "final_cv\n",
    "\n"
   ]
  },
  {
   "cell_type": "code",
   "execution_count": 54,
   "metadata": {
    "colab": {
     "base_uri": "https://localhost:8080/",
     "height": 204
    },
    "id": "cMObgJwPdD8c",
    "outputId": "fd4bd25e-b749-41c7-e6ab-df70399590fe"
   },
   "outputs": [
    {
     "name": "stdout",
     "output_type": "stream",
     "text": [
      "True\n"
     ]
    }
   ],
   "source": [
    "'''\n",
    "Finding the difference between the Logistic Regression Mean CV Score and the Penalized Logistic Regression \n",
    "with scaled X training data because they appear the same when rounded in the dataframe\n",
    "\n",
    "'''\n",
    "\n",
    "print(logreg_best_score == logreg_score_scalar) \n"
   ]
  },
  {
   "cell_type": "markdown",
   "metadata": {
    "id": "2P5U6DIGUJpW"
   },
   "source": [
    "### 2.3 Analysis: \n",
    "\n",
    "#### Cross-Validation Anaylsis\n",
    "\n",
    "Tuning the parameters using GridSearchCV increased the mean cross-validation for all models when applicable. However, this increase is only marginal. For Logistic Regression with an L2 penalty and a solver set as 'lbfgs' (using X scaled data), the mean cross-validation score increased from by $0.08$%. For KNN (using X scaled data), the mean cross-validation score increased by $0.06$%. \n",
    "\n",
    "The two best models were non-penalized logisitc regression with scaled X training data and the default parameter tuning parameter *and* penalized logisitc regresion with scaled X training data and a tuning paramater of $C=100$ (L2 penalty and solver set to 'liblinear'. They both had the same mean cross-validation score of $R^2=0.993637$.\n",
    "\n",
    "#### Test Score Analysis\n",
    "\n",
    "Additionally, for all tuned models with scaled X test data, the test scores also increased, although marginally. Like the mean cross-validation scores, the best test score was for both non-penalized logisitc regression with scaled X training data and the default parameter tuning parameter *and* penalized logisitc regresion with scaled X training data and a tuning paramater of $C=100$ (L2 penalty and solver set to 'liblinear'. The test score, as shown in the dataframe below, was $R^2=0.993231$.\n",
    "\n",
    "\n"
   ]
  },
  {
   "cell_type": "code",
   "execution_count": 55,
   "metadata": {},
   "outputs": [
    {
     "data": {
      "text/html": [
       "<div>\n",
       "<style scoped>\n",
       "    .dataframe tbody tr th:only-of-type {\n",
       "        vertical-align: middle;\n",
       "    }\n",
       "\n",
       "    .dataframe tbody tr th {\n",
       "        vertical-align: top;\n",
       "    }\n",
       "\n",
       "    .dataframe thead th {\n",
       "        text-align: right;\n",
       "    }\n",
       "</style>\n",
       "<table border=\"1\" class=\"dataframe\">\n",
       "  <thead>\n",
       "    <tr style=\"text-align: right;\">\n",
       "      <th></th>\n",
       "      <th>Original (Default Parameters)</th>\n",
       "      <th>Scaled (Default Parameters)</th>\n",
       "      <th>Tuned (Scaled X)</th>\n",
       "    </tr>\n",
       "    <tr>\n",
       "      <th>Model</th>\n",
       "      <th></th>\n",
       "      <th></th>\n",
       "      <th></th>\n",
       "    </tr>\n",
       "  </thead>\n",
       "  <tbody>\n",
       "    <tr>\n",
       "      <th>Logistic Regression</th>\n",
       "      <td>0.987077</td>\n",
       "      <td>0.993231</td>\n",
       "      <td>NaN</td>\n",
       "    </tr>\n",
       "    <tr>\n",
       "      <th>Penalized Logistic Regression</th>\n",
       "      <td>0.980923</td>\n",
       "      <td>0.991385</td>\n",
       "      <td>0.993231</td>\n",
       "    </tr>\n",
       "    <tr>\n",
       "      <th>KNN</th>\n",
       "      <td>0.936000</td>\n",
       "      <td>0.991385</td>\n",
       "      <td>0.992000</td>\n",
       "    </tr>\n",
       "  </tbody>\n",
       "</table>\n",
       "</div>"
      ],
      "text/plain": [
       "                               Original (Default Parameters)  \\\n",
       "Model                                                          \n",
       "Logistic Regression                                 0.987077   \n",
       "Penalized Logistic Regression                       0.980923   \n",
       "KNN                                                 0.936000   \n",
       "\n",
       "                               Scaled (Default Parameters)  Tuned (Scaled X)  \n",
       "Model                                                                         \n",
       "Logistic Regression                               0.993231               NaN  \n",
       "Penalized Logistic Regression                     0.991385          0.993231  \n",
       "KNN                                               0.991385          0.992000  "
      ]
     },
     "execution_count": 55,
     "metadata": {},
     "output_type": "execute_result"
    }
   ],
   "source": [
    "#FINAL TEST SCORE DATAFRAME\n",
    "\n",
    "grid_testscore_df = (pd.DataFrame({'Tuned (Scaled X)':[logreg_grid_ts, knn_grid_ts],\n",
    "                         'Model':model})).set_index('Model')\n",
    "grid_testscore_df\n",
    "\n",
    "data_frames = [test_score_df, grid_testscore_df]\n",
    "final_testscore = pd.concat(data_frames, axis=1)\n",
    "final_testscore\n"
   ]
  },
  {
   "cell_type": "code",
   "execution_count": 56,
   "metadata": {},
   "outputs": [
    {
     "name": "stdout",
     "output_type": "stream",
     "text": [
      "True\n"
     ]
    }
   ],
   "source": [
    "print(logreg_ss_tst_score==logreg_grid_ts)"
   ]
  },
  {
   "cell_type": "markdown",
   "metadata": {
    "id": "eT46fG6dZT8V"
   },
   "source": [
    "## #2.4 \n",
    "\n",
    "Change the cross-validation strategy in GridSearchCV from ‘stratified k-fold’ to ‘kfold’ with shuffling. Do the parameters for models that can be tuned change? Or if you change the random state of the split into training and test data?\n",
    "\n"
   ]
  },
  {
   "cell_type": "code",
   "execution_count": 57,
   "metadata": {
    "colab": {
     "base_uri": "https://localhost:8080/"
    },
    "id": "zU0sf6RhZTwz",
    "outputId": "43e50fbb-ff19-4f50-8a29-20ecd490a190"
   },
   "outputs": [
    {
     "name": "stdout",
     "output_type": "stream",
     "text": [
      "StratifiedKFold {'n_neighbors': 13} 0.9932261359448219\n",
      "KFold Shuffled {'n_neighbors': 1} 0.9944585900068447\n"
     ]
    }
   ],
   "source": [
    "#KNN Grid Search with comparing performance with stratified k-fold and kfold with shuffling and the default splits\n",
    "\n",
    "kfold_shuffle = KFold(shuffle=True)\n",
    "\n",
    "hyperparameters = {'n_neighbors': np.arange(1, 19, 2) }\n",
    "\n",
    "strategy = [skfold, kfold_shuffle]\n",
    "strategy_list = [\"StratifiedKFold\", \"KFold Shuffled\"]\n",
    "\n",
    "for i, j in zip(strategy, strategy_list):\n",
    "    grid_knn = GridSearchCV(KNeighborsClassifier(), param_grid=hyperparameters, cv=i)\n",
    "    grid_knn.fit(X_train_scaled, y_train)\n",
    "    print(j, grid_knn.best_params_, grid_knn.best_score_)\n",
    "\n"
   ]
  },
  {
   "cell_type": "markdown",
   "metadata": {
    "id": "aMLL_BsT-FJx"
   },
   "source": [
    "### Changing the Random State"
   ]
  },
  {
   "cell_type": "markdown",
   "metadata": {
    "id": "stmKK8q_YZg6"
   },
   "source": [
    "For analyzing the effect of changing the random state, I changed the cross-validation strategy back to stratified kfold with the default settings (which includes no shuffling)."
   ]
  },
  {
   "cell_type": "code",
   "execution_count": 58,
   "metadata": {
    "id": "WZfzUPy4ZWq2"
   },
   "outputs": [
    {
     "name": "stdout",
     "output_type": "stream",
     "text": [
      "37 {'n_neighbors': 5} 0.9942526193860897\n",
      "38 {'n_neighbors': 1} 0.9932261359448219\n",
      "39 {'n_neighbors': 5} 0.9946635076080661\n",
      "40 {'n_neighbors': 3} 0.9930214289475069\n",
      "41 {'n_neighbors': 15} 0.9934316853577634\n",
      "42 {'n_neighbors': 13} 0.9932261359448219\n",
      "43 {'n_neighbors': 7} 0.9934321065655768\n",
      "44 {'n_neighbors': 9} 0.9922009161269942\n",
      "45 {'n_neighbors': 5} 0.9932267677565418\n",
      "46 {'n_neighbors': 15} 0.9930216395514136\n",
      "47 {'n_neighbors': 1} 0.9936376559785185\n"
     ]
    }
   ],
   "source": [
    "state_list = []\n",
    "grid_list_knn = []\n",
    "\n",
    "hyperparameters = {'n_neighbors': np.arange(1, 19, 2) }\n",
    "\n",
    "for i in range(37,48):\n",
    "    X_train, X_test, y_train, y_test = train_test_split(X, y, random_state=i)\n",
    "    scaler.fit(X_train)\n",
    "    X_train_scaled = scaler.transform(X_train)\n",
    "    grid_search = GridSearchCV(KNeighborsClassifier(), param_grid=hyperparameters, cv=skfold)\n",
    "    grid_search.fit(X_train_scaled, y_train)\n",
    "    best_param = grid_search.best_params_\n",
    "    best_score = grid_search.best_score_\n",
    "    print(i, best_param, best_score)\n",
    "    state_list.append(i)\n",
    "    grid_list_knn.append(best_score)\n"
   ]
  },
  {
   "cell_type": "code",
   "execution_count": 59,
   "metadata": {},
   "outputs": [
    {
     "data": {
      "text/plain": [
       "Text(0, 0.5, 'Best Mean CV Score ')"
      ]
     },
     "execution_count": 59,
     "metadata": {},
     "output_type": "execute_result"
    },
    {
     "data": {
      "image/png": "[encoded data removed]",
      "text/plain": [
       "<Figure size 640x480 with 1 Axes>"
      ]
     },
     "metadata": {},
     "output_type": "display_data"
    }
   ],
   "source": [
    "#Plotting values in the lists\n",
    "\n",
    "plt.plot(state_list, grid_list_knn)\n",
    "plt.grid(True, which=\"both\")\n",
    "plt.title(\"KNN Best Mean CV Scores vs Random States\")\n",
    "plt.xlabel(\"Random State\")\n",
    "plt.ylabel(\"Best Mean CV Score \")"
   ]
  },
  {
   "cell_type": "code",
   "execution_count": 60,
   "metadata": {},
   "outputs": [
    {
     "name": "stdout",
     "output_type": "stream",
     "text": [
      "37 {'C': 10, 'penalty': 'l2', 'solver': 'liblinear'} 0.9934316853577634\n",
      "38 {'C': 100, 'penalty': 'l2', 'solver': 'liblinear'} 0.9944579581951245\n",
      "39 {'C': 10, 'penalty': 'l2', 'solver': 'liblinear'} 0.9950735534144158\n",
      "40 {'C': 100, 'penalty': 'l2', 'solver': 'lbfgs'} 0.9940479123887748\n",
      "41 {'C': 1, 'penalty': 'l2', 'solver': 'liblinear'} 0.9940474911809613\n",
      "42 {'C': 10, 'penalty': 'l2', 'solver': 'lbfgs'} 0.9936366029589848\n",
      "43 {'C': 10, 'penalty': 'l2', 'solver': 'liblinear'} 0.9952797346390776\n",
      "44 {'C': 10, 'penalty': 'l2', 'solver': 'liblinear'} 0.9932269783604486\n",
      "45 {'C': 100, 'penalty': 'l2', 'solver': 'liblinear'} 0.9938421523719265\n",
      "46 {'C': 1, 'penalty': 'l2', 'solver': 'liblinear'} 0.9928171431580056\n",
      "47 {'C': 1, 'penalty': 'l2', 'solver': 'liblinear'} 0.994663718211973\n"
     ]
    }
   ],
   "source": [
    "grid_list_log = []\n",
    "\n",
    "hyperparameters = {'C': [0.001, 0.01, 0.1, 1, 10, 100], 'penalty': ['11', 'l2'], 'solver':['liblinear','lbfgs']}\n",
    "\n",
    "\n",
    "for i in range(37,48):\n",
    "    X_train, X_test, y_train, y_test = train_test_split(X, y, random_state=i)\n",
    "    scaler.fit(X_train)\n",
    "    X_train_scaled = scaler.transform(X_train)\n",
    "    grid_search = GridSearchCV(LogisticRegression(), param_grid=hyperparameters, cv=skfold)\n",
    "    grid_search.fit(X_train_scaled, y_train)\n",
    "    best_param = grid_search.best_params_\n",
    "    best_score = grid_search.best_score_\n",
    "    print(i, best_param, best_score)\n",
    "    grid_list_log.append(best_score)\n",
    "\n"
   ]
  },
  {
   "cell_type": "code",
   "execution_count": 61,
   "metadata": {},
   "outputs": [
    {
     "data": {
      "text/plain": [
       "Text(0, 0.5, 'Best Mean CV Score')"
      ]
     },
     "execution_count": 61,
     "metadata": {},
     "output_type": "execute_result"
    },
    {
     "data": {
      "image/png": "[encoded data removed]",
      "text/plain": [
       "<Figure size 640x480 with 1 Axes>"
      ]
     },
     "metadata": {},
     "output_type": "display_data"
    }
   ],
   "source": [
    "plt.plot(state_list, grid_list_log)\n",
    "plt.grid(True, which=\"both\")\n",
    "plt.title(\"Penalized Logisitc Regression Best Mean CV Scores vs Random States\")\n",
    "plt.xlabel(\"Random State\")\n",
    "plt.ylabel(\"Best Mean CV Score\")"
   ]
  },
  {
   "cell_type": "markdown",
   "metadata": {},
   "source": [
    "### 2.4 Analysis: Changing cross-validation strategy\n",
    "\n",
    "For changing the cross-validation strategy from stratified kfold to kfold with shuffling for KNN, the mean cross-validation score increased. This occured\n",
    "\n",
    "### 2.4 Analysis: Changing Random State\n",
    "\n",
    "I analyze 5 random states above and below the random state I chose for my model ($42$).\n",
    "\n",
    "Changing the random state does actually changes the best mean cross-validation scores for both KNN and Penalized Logisitc Regression. I used 42 as my random state, but other random states actually gave better optimal cross-validation scores. However, there is no discernable pattern or trend as the scores seem to randomly flucuate. \n",
    "\n",
    "----"
   ]
  },
  {
   "cell_type": "markdown",
   "metadata": {},
   "source": [
    "## #2.5\n",
    "\n",
    "2.5 Lastly, discuss which final model you would choose to predict new data. \n",
    "\n",
    "---\n",
    "\n",
    "The model I would use to predict new data is the regular logistic regression model that uses scaled X training and test data using StandardScaler and has a default tuning parameter (solver='lbfgs'). Although this normal logisitc regression had the same mean cross-validation score as the penalized logisitc regression with L2 reguarlization with $C=100$, an L2 penalty, and solver='liblinear', I would prefer a more simple model so it could better generalize to new prediction data."
   ]
  }
 ],
 "metadata": {
  "colab": {
   "provenance": []
  },
  "kernelspec": {
   "display_name": "Python 3 (ipykernel)",
   "language": "python",
   "name": "python3"
  },
  "language_info": {
   "codemirror_mode": {
    "name": "ipython",
    "version": 3
   },
   "file_extension": ".py",
   "mimetype": "text/x-python",
   "name": "python",
   "nbconvert_exporter": "python",
   "pygments_lexer": "ipython3",
   "version": "3.11.4"
  }
 },
 "nbformat": 4,
 "nbformat_minor": 1
}
